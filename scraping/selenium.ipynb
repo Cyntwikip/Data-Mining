{
 "cells": [
  {
   "cell_type": "markdown",
   "metadata": {
    "deletable": false,
    "editable": false,
    "tags": []
   },
   "source": [
    "## Scraping using Selenium\n",
    "\n",
    "*Prepared by:*\n",
    "**Jude Michael Teves**  \n",
    "Faculty, Software Technology Department  \n",
    "College of Computer Studies - De La Salle University"
   ]
  },
  {
   "cell_type": "markdown",
   "metadata": {},
   "source": [
    "This notebook shows how to scrape dynamic webpages using Selenium. We will be scraping the https://quotes.toscrape.com/scroll as it is dedicated for practicing scraping, similar to https://quotes.toscrape.com/."
   ]
  },
  {
   "cell_type": "markdown",
   "metadata": {},
   "source": [
    "**Reminder**\n",
    "\n",
    "> *\"With great power, comes great responsibility\"*\n",
    "    \n",
    "Remember to perform web scraping with extra caution and to not abuse it. The boundaries are not so clear when it comes to what you can and cannot legally do with scraping. Use your own judgment to determine if what you are about to do is unethical or illegal.\n",
    "<hr>"
   ]
  },
  {
   "cell_type": "markdown",
   "metadata": {},
   "source": [
    "<sup>```Last run: 2021-07-12 11:28PM (GMT +8)```</sup>"
   ]
  },
  {
   "cell_type": "markdown",
   "metadata": {},
   "source": [
    "### Import libraries\n",
    "\n",
    "We will be using the `requests` and `BeautifulSoup` libraries for the succeeding cells. These two will give us the functionalities we need to scrape a webpage. If this is not already installed in your environment, you may use the either of the following commands in your command line:\n",
    "\n",
    "```conda install -c anaconda beautifulsoup4``` or\n",
    "```pip install beautifulsoup4```"
   ]
  },
  {
   "cell_type": "code",
   "execution_count": 3,
   "metadata": {
    "tags": []
   },
   "outputs": [],
   "source": [
    "from bs4 import BeautifulSoup\n",
    "import requests\n",
    "import pandas as pd"
   ]
  },
  {
   "cell_type": "code",
   "execution_count": 4,
   "metadata": {},
   "outputs": [
    {
     "name": "stdout",
     "output_type": "stream",
     "text": [
      "<!DOCTYPE html>\n",
      "<html lang=\"en\">\n",
      " <head>\n",
      "  <meta charset=\"utf-8\"/>\n",
      "  <title>\n",
      "   Quotes to Scrape\n",
      "  </title>\n",
      "  <link href=\"/static/bootstrap.min.css\" rel=\"stylesheet\"/>\n",
      "  <link href=\"/static/main.css\" rel=\"stylesheet\"/>\n",
      " </head>\n",
      " <body>\n",
      "  <div class=\"container\">\n",
      "   <div class=\"row header-box\">\n",
      "    <div class=\"col-md-8\">\n",
      "     <h1>\n",
      "      <a href=\"/\" style=\"text-decoration: none\">\n",
      "       Quotes to Scrape\n",
      "      </a>\n",
      "     </h1>\n",
      "    </div>\n",
      "    <div class=\"col-md-4\">\n",
      "     <p>\n",
      "      <a href=\"/login\">\n",
      "       Login\n",
      "      </a>\n",
      "     </p>\n",
      "    </div>\n",
      "   </div>\n",
      "   <div class=\"row\">\n",
      "    <div class=\"col-md-8\">\n",
      "     <div class=\"quotes\">\n",
      "     </div>\n",
      "    </div>\n",
      "   </div>\n",
      "   <div id=\"loading\" style=\"background-color: #eeeecc\">\n",
      "    <h5>\n",
      "     Loading...\n",
      "    </h5>\n",
      "   </div>\n",
      "   <script src=\"/static/jquery.js\">\n",
      "   </script>\n",
      "   <script>\n",
      "    $(function(){\n",
      "        var page = 1, tag = null, hasNextPage = true;\n",
      "        function appendQuotes(quotes) {\n",
      "            var $quotes = $('.quotes');\n",
      "            var html = $.map(quotes, function(d){\n",
      "                var tags = $.map(d['tags'], function(t) {\n",
      "                    return \"<a class='tag'>\" + t + \"</a>\";\n",
      "                }).join(\" \");\n",
      "                return \"<div class='quote'><span class='text'>\" + d['text'] + \"</span><span>by <small class='author'>\" + d['author']['name'] + \"</small></span><div class='tags'>Tags: \" + tags + \"</div></div>\";\n",
      "            });\n",
      "\n",
      "            $quotes.append(html);\n",
      "        }\n",
      "\n",
      "        function updatePage(page) {\n",
      "            $('#loading').show('fast');\n",
      "            $.get('/api/quotes', {page: page}).done(function(data) {\n",
      "                appendQuotes(data.quotes);\n",
      "                hasNextPage = data.has_next;\n",
      "                $('#loading').hide('fast');\n",
      "            });\n",
      "        }\n",
      "        updatePage(page);\n",
      "        $(window).on('scroll', function(){\n",
      "            var scrollTop = $(window).scrollTop();\n",
      "            var heightDiff = $(document).height() - $(window).height();\n",
      "            if (hasNextPage && Math.abs(scrollTop - heightDiff) <= 1){\n",
      "                page += 1;\n",
      "                console.log('scrolling to page: ' + page);\n",
      "                updatePage(page);\n",
      "            }\n",
      "        });\n",
      "    });\n",
      "   </script>\n",
      "  </div>\n",
      "  <footer class=\"footer\">\n",
      "   <div class=\"container\">\n",
      "    <p class=\"text-muted\">\n",
      "     Quotes by:\n",
      "     <a href=\"https://www.goodreads.com/quotes\">\n",
      "      GoodReads.com\n",
      "     </a>\n",
      "    </p>\n",
      "    <p class=\"copyright\">\n",
      "     Made with\n",
      "     <span class=\"sh-red\">\n",
      "      ❤\n",
      "     </span>\n",
      "     by\n",
      "     <a href=\"https://scrapinghub.com\">\n",
      "      Scrapinghub\n",
      "     </a>\n",
      "    </p>\n",
      "   </div>\n",
      "  </footer>\n",
      " </body>\n",
      "</html>\n"
     ]
    }
   ],
   "source": [
    "page = requests.get(\"https://quotes.toscrape.com/scroll\")\n",
    "\n",
    "#feed it into beautiful soup for parsing\n",
    "soup = BeautifulSoup(page.text, 'html.parser')\n",
    "print(soup.prettify())"
   ]
  },
  {
   "cell_type": "markdown",
   "metadata": {},
   "source": [
    "### Inspect HTML code\n",
    "\n",
    "Inspect the code we retrieved and compare it against the webpage. This is what we should be seeing.\n",
    "\n",
    "<img src=\"../images/quotes-to-scrape-console.png\">\n",
    "\n",
    "Why is it different? Why did we not get the contents in the actual webpage? This is because the contents are dynamically generated. BeautifulSoup cannot handle such pages. And there are lots of webpages that are like this."
   ]
  },
  {
   "cell_type": "markdown",
   "metadata": {},
   "source": [
    "### Selenium to the rescue!\n",
    "\n",
    "Selenium is an automation library that can be used to deal with dynamic webpages. To install it, you may use the following commands:\n",
    "\n",
    "```conda install -c conda-forge selenium``` or\n",
    "```pip install selenium```\n",
    "\n",
    "You will also be needing a driver for your browser. See this section of the Selenium documentation for more details: https://selenium-python.readthedocs.io/installation.html#drivers"
   ]
  },
  {
   "cell_type": "markdown",
   "metadata": {},
   "source": [
    "### Setup browser automation\n",
    "\n",
    "You should see a new browser open after executing the cell below. This is the browser that is under the influence of our code--we are fully controlling it."
   ]
  },
  {
   "cell_type": "code",
   "execution_count": 34,
   "metadata": {},
   "outputs": [
    {
     "name": "stdout",
     "output_type": "stream",
     "text": [
      "<html lang=\"en\"><head>\n",
      "\t<meta charset=\"UTF-8\">\n",
      "\t<title>Quotes to Scrape</title>\n",
      "    <link rel=\"stylesheet\" href=\"/static/bootstrap.min.css\">\n",
      "    <link rel=\"stylesheet\" href=\"/static/main.css\">\n",
      "</head>\n",
      "<body>\n",
      "    <div class=\"container\">\n",
      "        <div class=\"row header-box\">\n",
      "            <div class=\"col-md-8\">\n",
      "                <h1>\n",
      "                    <a href=\"/\" style=\"text-decoration: none\">Quotes to Scrape</a>\n",
      "                </h1>\n",
      "            </div>\n",
      "            <div class=\"col-md-4\">\n",
      "                <p>\n",
      "                \n",
      "                    <a href=\"/login\">Login</a>\n",
      "                \n",
      "                </p>\n",
      "            </div>\n",
      "        </div>\n",
      "    \n",
      "<div class=\"row\">\n",
      "    <div class=\"col-md-8\">\n",
      "        <div class=\"quotes\"></div>\n",
      "    </div>\n",
      "</div>\n",
      "<div id=\"loading\" style=\"background-color: rgb(238, 238, 204);\"><h5>Loading...</h5></div>\n",
      "<script src=\"/static/jquery.js\"></script>\n",
      "<script>\n",
      "    $(function(){\n",
      "        var page = 1, tag = null, hasNextPage = true;\n",
      "        function appendQuotes(quotes) {\n",
      "            var $quotes = $('.quotes');\n",
      "            var html = $.map(quotes, function(d){\n",
      "                var tags = $.map(d['tags'], function(t) {\n",
      "                    return \"<a class='tag'>\" + t + \"</a>\";\n",
      "                }).join(\" \");\n",
      "                return \"<div class='quote'><span class='text'>\" + d['text'] + \"</span><span>by <small class='author'>\" + d['author']['name'] + \"</small></span><div class='tags'>Tags: \" + tags + \"</div></div>\";\n",
      "            });\n",
      "\n",
      "            $quotes.append(html);\n",
      "        }\n",
      "\n",
      "        function updatePage(page) {\n",
      "            $('#loading').show('fast');\n",
      "            $.get('/api/quotes', {page: page}).done(function(data) {\n",
      "                appendQuotes(data.quotes);\n",
      "                hasNextPage = data.has_next;\n",
      "                $('#loading').hide('fast');\n",
      "            });\n",
      "        }\n",
      "        updatePage(page);\n",
      "        $(window).on('scroll', function(){\n",
      "            var scrollTop = $(window).scrollTop();\n",
      "            var heightDiff = $(document).height() - $(window).height();\n",
      "            if (hasNextPage && Math.abs(scrollTop - heightDiff) <= 1){\n",
      "                page += 1;\n",
      "                console.log('scrolling to page: ' + page);\n",
      "                updatePage(page);\n",
      "            }\n",
      "        });\n",
      "    });\n",
      "</script>\n",
      "\n",
      "    </div>\n",
      "    <footer class=\"footer\">\n",
      "        <div class=\"container\">\n",
      "            <p class=\"text-muted\">\n",
      "                Quotes by: <a href=\"https://www.goodreads.com/quotes\">GoodReads.com</a>\n",
      "            </p>\n",
      "            <p class=\"copyright\">\n",
      "                Made with <span class=\"sh-red\">❤</span> by <a href=\"https://scrapinghub.com\">Scrapinghub</a>\n",
      "            </p>\n",
      "        </div>\n",
      "    </footer>\n",
      "\n",
      "</body></html>\n"
     ]
    }
   ],
   "source": [
    "from selenium import webdriver\n",
    "from selenium.webdriver.common.keys import Keys\n",
    "\n",
    "driver_path = \"driver/chromedriver.exe\" # replace this with your own driver path\n",
    "url = \"https://quotes.toscrape.com/scroll\"\n",
    "driver = webdriver.Chrome(driver_path)\n",
    "driver.get(url)\n",
    "print(driver.page_source)"
   ]
  },
  {
   "cell_type": "markdown",
   "metadata": {},
   "source": [
    "### XPath: Getting the elements that we want\n",
    "\n",
    "> XPath is the language used for locating nodes in an XML document. As HTML can be an implementation of XML (XHTML), Selenium users can leverage this powerful language to target elements in their web applications. XPath supports the simple methods of locating by id or name attributes and extends them by opening up all sorts of new possibilities such as locating the third checkbox on the page.\n",
    "\n",
    "For the XPath syntax, you may refer to the following link: https://www.w3schools.com/xml/xpath_syntax.asp"
   ]
  },
  {
   "cell_type": "code",
   "execution_count": 35,
   "metadata": {},
   "outputs": [
    {
     "data": {
      "text/plain": [
       "[<selenium.webdriver.remote.webelement.WebElement (session=\"3ff972e8c99df4bbb20abbcb671f84c2\", element=\"d3c34ebd-5653-403f-99c3-0c037c7ee309\")>,\n",
       " <selenium.webdriver.remote.webelement.WebElement (session=\"3ff972e8c99df4bbb20abbcb671f84c2\", element=\"3b98aba0-7486-418e-adfe-07db6a5f598c\")>,\n",
       " <selenium.webdriver.remote.webelement.WebElement (session=\"3ff972e8c99df4bbb20abbcb671f84c2\", element=\"41d22787-cc05-436d-a524-e195d65aed9c\")>,\n",
       " <selenium.webdriver.remote.webelement.WebElement (session=\"3ff972e8c99df4bbb20abbcb671f84c2\", element=\"d830862f-66b3-4121-8a8e-b144ae79ec57\")>,\n",
       " <selenium.webdriver.remote.webelement.WebElement (session=\"3ff972e8c99df4bbb20abbcb671f84c2\", element=\"ae5d6b38-15f4-45ec-aac1-21f4d3e91253\")>,\n",
       " <selenium.webdriver.remote.webelement.WebElement (session=\"3ff972e8c99df4bbb20abbcb671f84c2\", element=\"ee91b577-5270-4baa-ae0b-e8720eee74da\")>,\n",
       " <selenium.webdriver.remote.webelement.WebElement (session=\"3ff972e8c99df4bbb20abbcb671f84c2\", element=\"96498f1f-4933-46e4-9361-3892af171b8b\")>,\n",
       " <selenium.webdriver.remote.webelement.WebElement (session=\"3ff972e8c99df4bbb20abbcb671f84c2\", element=\"28c66a11-acf5-4422-9802-bbfceebb77a3\")>,\n",
       " <selenium.webdriver.remote.webelement.WebElement (session=\"3ff972e8c99df4bbb20abbcb671f84c2\", element=\"cae78c05-ecc9-41f6-929d-74464e6df689\")>,\n",
       " <selenium.webdriver.remote.webelement.WebElement (session=\"3ff972e8c99df4bbb20abbcb671f84c2\", element=\"565be748-b226-438d-a1c3-f6c544d63d82\")>]"
      ]
     },
     "execution_count": 35,
     "metadata": {},
     "output_type": "execute_result"
    }
   ],
   "source": [
    "quotes = driver.find_elements_by_xpath(\"//div[@class='quote']\")\n",
    "quotes"
   ]
  },
  {
   "cell_type": "code",
   "execution_count": 36,
   "metadata": {},
   "outputs": [
    {
     "data": {
      "text/plain": [
       "10"
      ]
     },
     "execution_count": 36,
     "metadata": {},
     "output_type": "execute_result"
    }
   ],
   "source": [
    "len(quotes)"
   ]
  },
  {
   "cell_type": "code",
   "execution_count": 37,
   "metadata": {},
   "outputs": [
    {
     "data": {
      "text/plain": [
       "'“The world as we have created it is a process of our thinking. It cannot be changed without changing our thinking.”\\nby Albert Einstein\\nTags: change deep-thoughts thinking world'"
      ]
     },
     "execution_count": 37,
     "metadata": {},
     "output_type": "execute_result"
    }
   ],
   "source": [
    "quotes[0].text"
   ]
  },
  {
   "cell_type": "code",
   "execution_count": 38,
   "metadata": {},
   "outputs": [
    {
     "data": {
      "text/plain": [
       "['“The world as we have created it is a process of our thinking. It cannot be changed without changing our thinking.”\\nby Albert Einstein\\nTags: change deep-thoughts thinking world',\n",
       " '“It is our choices, Harry, that show what we truly are, far more than our abilities.”\\nby J.K. Rowling\\nTags: abilities choices',\n",
       " '“There are only two ways to live your life. One is as though nothing is a miracle. The other is as though everything is a miracle.”\\nby Albert Einstein\\nTags: inspirational life live miracle miracles',\n",
       " '“The person, be it gentleman or lady, who has not pleasure in a good novel, must be intolerably stupid.”\\nby Jane Austen\\nTags: aliteracy books classic humor',\n",
       " \"“Imperfection is beauty, madness is genius and it's better to be absolutely ridiculous than absolutely boring.”\\nby Marilyn Monroe\\nTags: be-yourself inspirational\",\n",
       " '“Try not to become a man of success. Rather become a man of value.”\\nby Albert Einstein\\nTags: adulthood success value',\n",
       " '“It is better to be hated for what you are than to be loved for what you are not.”\\nby André Gide\\nTags: life love',\n",
       " \"“I have not failed. I've just found 10,000 ways that won't work.”\\nby Thomas A. Edison\\nTags: edison failure inspirational paraphrased\",\n",
       " \"“A woman is like a tea bag; you never know how strong it is until it's in hot water.”\\nby Eleanor Roosevelt\\nTags: misattributed-eleanor-roosevelt\",\n",
       " '“A day without sunshine is like, you know, night.”\\nby Steve Martin\\nTags: humor obvious simile']"
      ]
     },
     "execution_count": 38,
     "metadata": {},
     "output_type": "execute_result"
    }
   ],
   "source": [
    "quotes_text = [quote.text for quote in quotes]\n",
    "quotes_text"
   ]
  },
  {
   "cell_type": "markdown",
   "metadata": {},
   "source": [
    "This returns all the texts inside the element. How can we choose specific parts of the element then?"
   ]
  },
  {
   "cell_type": "code",
   "execution_count": 39,
   "metadata": {},
   "outputs": [
    {
     "data": {
      "text/plain": [
       "'“The world as we have created it is a process of our thinking. It cannot be changed without changing our thinking.”'"
      ]
     },
     "execution_count": 39,
     "metadata": {},
     "output_type": "execute_result"
    }
   ],
   "source": [
    "quotes[0].find_element_by_xpath(\"span[@class='text']\").text"
   ]
  },
  {
   "cell_type": "markdown",
   "metadata": {},
   "source": [
    "This one did not return all the other text after the quote. How about the others?"
   ]
  },
  {
   "cell_type": "code",
   "execution_count": 40,
   "metadata": {},
   "outputs": [
    {
     "data": {
      "text/plain": [
       "'Albert Einstein'"
      ]
     },
     "execution_count": 40,
     "metadata": {},
     "output_type": "execute_result"
    }
   ],
   "source": [
    "quotes[0].find_element_by_xpath(\".//small[@class='author']\").text"
   ]
  },
  {
   "cell_type": "code",
   "execution_count": 41,
   "metadata": {},
   "outputs": [
    {
     "data": {
      "text/plain": [
       "['change', 'deep-thoughts', 'thinking', 'world']"
      ]
     },
     "execution_count": 41,
     "metadata": {},
     "output_type": "execute_result"
    }
   ],
   "source": [
    "tags = quotes[0].find_elements_by_xpath(\".//a[@class='tag']\")\n",
    "tags = [tag.text for tag in tags]\n",
    "tags"
   ]
  },
  {
   "cell_type": "markdown",
   "metadata": {},
   "source": [
    "### Handle scrolling\n",
    "\n",
    "You will notice that we are only getting the first 10 quotes on the page. This is because we have to scroll first so that the other quotes get generated by the page. The following line of code automates that scrolling."
   ]
  },
  {
   "cell_type": "code",
   "execution_count": 43,
   "metadata": {},
   "outputs": [],
   "source": [
    "# driver.execute_script(\"window.scrollTo(0, document.body.scrollHeight);\")\n",
    "import time\n",
    "\n",
    "pause = 0.5\n",
    "lastHeight = driver.execute_script(\"return document.body.scrollHeight\")\n",
    "\n",
    "while True:\n",
    "    driver.execute_script(\"window.scrollTo(0, document.body.scrollHeight);\")\n",
    "    time.sleep(pause)\n",
    "    newHeight = driver.execute_script(\"return document.body.scrollHeight\")\n",
    "    if newHeight == lastHeight:\n",
    "        break\n",
    "    lastHeight = newHeight"
   ]
  },
  {
   "cell_type": "markdown",
   "metadata": {},
   "source": [
    "Now let's check the quotes on the page"
   ]
  },
  {
   "cell_type": "code",
   "execution_count": 44,
   "metadata": {},
   "outputs": [
    {
     "data": {
      "text/plain": [
       "100"
      ]
     },
     "execution_count": 44,
     "metadata": {},
     "output_type": "execute_result"
    }
   ],
   "source": [
    "quotes = driver.find_elements_by_xpath(\"//div[@class='quote']\")\n",
    "len(quotes)"
   ]
  },
  {
   "cell_type": "markdown",
   "metadata": {},
   "source": [
    "We now got 100!"
   ]
  },
  {
   "cell_type": "markdown",
   "metadata": {},
   "source": [
    "## References\n",
    "\n",
    "1. https://selenium-python.readthedocs.io/"
   ]
  },
  {
   "cell_type": "markdown",
   "metadata": {
    "deletable": false,
    "editable": false,
    "tags": []
   },
   "source": [
    "## End\n",
    "<sup>made by **Jude Michael Teves**</sup> <br>\n",
    "<sup>for comments, corrections, suggestions, please email:</sup><sup> <href>judemichaelteves@gmail.com</href> or <href>jude.teves@dlsu.edu.ph</href></sup><br>"
   ]
  },
  {
   "cell_type": "code",
   "execution_count": null,
   "metadata": {},
   "outputs": [],
   "source": []
  }
 ],
 "metadata": {
  "kernelspec": {
   "display_name": "Python 3",
   "language": "python",
   "name": "python3"
  },
  "language_info": {
   "codemirror_mode": {
    "name": "ipython",
    "version": 3
   },
   "file_extension": ".py",
   "mimetype": "text/x-python",
   "name": "python",
   "nbconvert_exporter": "python",
   "pygments_lexer": "ipython3",
   "version": "3.8.8"
  }
 },
 "nbformat": 4,
 "nbformat_minor": 4
}

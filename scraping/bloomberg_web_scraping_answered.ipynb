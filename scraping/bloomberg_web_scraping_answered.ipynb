{
 "cells": [
  {
   "cell_type": "markdown",
   "id": "solar-score",
   "metadata": {
    "deletable": false,
    "editable": false,
    "tags": []
   },
   "source": [
    "## Bloomberg Web Scraping\n",
    "\n",
    "*Prepared by:*  \n",
    "**Jude Michael Teves**  \n",
    "Faculty, Software Technology Department  \n",
    "College of Computer Studies - De La Salle University"
   ]
  },
  {
   "cell_type": "markdown",
   "id": "closed-editor",
   "metadata": {},
   "source": [
    "This notebook shows how to scrape real-world websites. We will be scraping the currencies in the Bloomberg website. This is the solution to the previous notebook."
   ]
  },
  {
   "cell_type": "markdown",
   "id": "incomplete-drunk",
   "metadata": {},
   "source": [
    "**Reminder**\n",
    "\n",
    "> *\"With great power, comes great responsibility\"*\n",
    "    \n",
    "Remember to perform web scraping with extra caution and to not abuse it. The boundaries are not so clear when it comes to what you can and cannot legally do with scraping. Use your own judgment to determine if what you are about to do is unethical or illegal.\n",
    "<hr>"
   ]
  },
  {
   "cell_type": "markdown",
   "id": "thirty-industry",
   "metadata": {},
   "source": [
    "<sup>```Last run: 2021-07-12 10:37PM (GMT +8)```</sup>\n",
    "\n",
    "As of the time this notebook was last updated, this is what the Bloomberg Currencies webpage looks like:\n",
    "\n",
    "<center><img width=1000 src=\"../images/Bloomberg Currencies.png\" /></center>"
   ]
  },
  {
   "cell_type": "markdown",
   "id": "fossil-novelty",
   "metadata": {},
   "source": [
    "### Using `requests` + `BeautifulSoup`\n",
    "\n",
    "Let's use our boilerplate code for scraping and parsing the contents of websites through `requests` and `BeautifulSoup` libraries. If you have not installed `BeautifulSoup` yet, you may do it by doing any of the following:\n",
    "\n",
    "```conda install -c anaconda beautifulsoup4``` or\n",
    "```pip install beautifulsoup4```\n",
    "\n",
    "For this exercise, we will be scraping the following webpage: https://www.bloomberg.com/markets/currencies."
   ]
  },
  {
   "cell_type": "code",
   "execution_count": 1,
   "id": "golden-current",
   "metadata": {
    "tags": []
   },
   "outputs": [],
   "source": [
    "import requests\n",
    "from bs4 import BeautifulSoup\n",
    "\n",
    "# page = requests.get(\"https://www.bloomberg.com/markets/currencies\")\n",
    "\n",
    "# #feed it into beautiful soup for parsing\n",
    "# soup = BeautifulSoup(page.text, 'html.parser')\n",
    "# print(soup.prettify())"
   ]
  },
  {
   "cell_type": "markdown",
   "id": "invisible-karen",
   "metadata": {},
   "source": [
    "### Bot Blocker\n",
    "\n",
    "You will notice that we did not exactly get the contents of the webpage we are trying to access. Instead, we were redirected to the `robots.txt` page of the Bloomberg website. The URL for which is as follows: https://www.bloomberg.com/robots.txt. This page tells us which page(s) we are not allowed to scrape.\n",
    "\n",
    "To bypass this page, we include a headers parameter which contains a key-value pairs of metadata which fools the server into thinking that we are just some legitimate anonymous internet user. We will be using the same boilerplate code but with the headers parameter."
   ]
  },
  {
   "cell_type": "code",
   "execution_count": 2,
   "id": "white-deficit",
   "metadata": {},
   "outputs": [],
   "source": [
    "headers = {\"User-Agent\":\"Mozilla/5.0 (X11; Linux x86_64; rv:60.0) Gecko/20100101 Firefox/60.0\",\n",
    "           \"Accept\":\"text/html,application/xhtml+xml,application/xml;q=0.9,*/*;q=0.8\"}\n",
    "\n",
    "page = requests.get(\"https://www.bloomberg.com/markets/currencies\", headers=headers)\n",
    "\n",
    "#feed it into beautiful soup for parsing\n",
    "soup = BeautifulSoup(page.text, 'html.parser')\n",
    "# print(soup.prettify()) # I will be commenting this line out as this will return a very lengthy text output"
   ]
  },
  {
   "cell_type": "markdown",
   "id": "offensive-opposition",
   "metadata": {},
   "source": [
    "### Exercise\n",
    "\n",
    "Get the table of currencies on the webpage and turn it into a Pandas DataFrame."
   ]
  },
  {
   "cell_type": "code",
   "execution_count": 3,
   "id": "split-corruption",
   "metadata": {},
   "outputs": [
    {
     "data": {
      "text/html": [
       "<div>\n",
       "<style scoped>\n",
       "    .dataframe tbody tr th:only-of-type {\n",
       "        vertical-align: middle;\n",
       "    }\n",
       "\n",
       "    .dataframe tbody tr th {\n",
       "        vertical-align: top;\n",
       "    }\n",
       "\n",
       "    .dataframe thead th {\n",
       "        text-align: right;\n",
       "    }\n",
       "</style>\n",
       "<table border=\"1\" class=\"dataframe\">\n",
       "  <thead>\n",
       "    <tr style=\"text-align: right;\">\n",
       "      <th></th>\n",
       "      <th>Currency</th>\n",
       "      <th>Value</th>\n",
       "      <th>Change</th>\n",
       "      <th>Net Change</th>\n",
       "      <th>Time (EDT)</th>\n",
       "    </tr>\n",
       "  </thead>\n",
       "  <tbody>\n",
       "    <tr>\n",
       "      <th>0</th>\n",
       "      <td>EUR-USD</td>\n",
       "      <td>1.1870</td>\n",
       "      <td>-0.0006</td>\n",
       "      <td>-0.05%</td>\n",
       "      <td>10:31 AM</td>\n",
       "    </tr>\n",
       "    <tr>\n",
       "      <th>1</th>\n",
       "      <td>USD-JPY</td>\n",
       "      <td>110.2900</td>\n",
       "      <td>0.1500</td>\n",
       "      <td>+0.14%</td>\n",
       "      <td>10:31 AM</td>\n",
       "    </tr>\n",
       "    <tr>\n",
       "      <th>2</th>\n",
       "      <td>GBP-USD</td>\n",
       "      <td>1.3900</td>\n",
       "      <td>-0.0001</td>\n",
       "      <td>-0.01%</td>\n",
       "      <td>10:31 AM</td>\n",
       "    </tr>\n",
       "    <tr>\n",
       "      <th>3</th>\n",
       "      <td>AUD-USD</td>\n",
       "      <td>0.7487</td>\n",
       "      <td>-0.0001</td>\n",
       "      <td>-0.01%</td>\n",
       "      <td>10:31 AM</td>\n",
       "    </tr>\n",
       "    <tr>\n",
       "      <th>4</th>\n",
       "      <td>USD-CAD</td>\n",
       "      <td>1.2458</td>\n",
       "      <td>0.0011</td>\n",
       "      <td>+0.09%</td>\n",
       "      <td>10:31 AM</td>\n",
       "    </tr>\n",
       "    <tr>\n",
       "      <th>5</th>\n",
       "      <td>USD-CHF</td>\n",
       "      <td>0.9148</td>\n",
       "      <td>0.0001</td>\n",
       "      <td>+0.01%</td>\n",
       "      <td>10:31 AM</td>\n",
       "    </tr>\n",
       "    <tr>\n",
       "      <th>6</th>\n",
       "      <td>EUR-JPY</td>\n",
       "      <td>130.9200</td>\n",
       "      <td>0.1200</td>\n",
       "      <td>+0.09%</td>\n",
       "      <td>10:32 AM</td>\n",
       "    </tr>\n",
       "    <tr>\n",
       "      <th>7</th>\n",
       "      <td>EUR-GBP</td>\n",
       "      <td>0.8540</td>\n",
       "      <td>-0.0005</td>\n",
       "      <td>-0.06%</td>\n",
       "      <td>10:31 AM</td>\n",
       "    </tr>\n",
       "    <tr>\n",
       "      <th>8</th>\n",
       "      <td>USD-HKD</td>\n",
       "      <td>7.7671</td>\n",
       "      <td>-0.0003</td>\n",
       "      <td>0.00%</td>\n",
       "      <td>10:31 AM</td>\n",
       "    </tr>\n",
       "    <tr>\n",
       "      <th>9</th>\n",
       "      <td>EUR-CHF</td>\n",
       "      <td>1.0859</td>\n",
       "      <td>0.0002</td>\n",
       "      <td>+0.02%</td>\n",
       "      <td>10:31 AM</td>\n",
       "    </tr>\n",
       "    <tr>\n",
       "      <th>10</th>\n",
       "      <td>USD-KRW</td>\n",
       "      <td>1147.0800</td>\n",
       "      <td>-1.7700</td>\n",
       "      <td>-0.15%</td>\n",
       "      <td>2:29 AM</td>\n",
       "    </tr>\n",
       "  </tbody>\n",
       "</table>\n",
       "</div>"
      ],
      "text/plain": [
       "   Currency      Value  Change Net Change Time (EDT)\n",
       "0   EUR-USD     1.1870 -0.0006     -0.05%   10:31 AM\n",
       "1   USD-JPY   110.2900  0.1500     +0.14%   10:31 AM\n",
       "2   GBP-USD     1.3900 -0.0001     -0.01%   10:31 AM\n",
       "3   AUD-USD     0.7487 -0.0001     -0.01%   10:31 AM\n",
       "4   USD-CAD     1.2458  0.0011     +0.09%   10:31 AM\n",
       "5   USD-CHF     0.9148  0.0001     +0.01%   10:31 AM\n",
       "6   EUR-JPY   130.9200  0.1200     +0.09%   10:32 AM\n",
       "7   EUR-GBP     0.8540 -0.0005     -0.06%   10:31 AM\n",
       "8   USD-HKD     7.7671 -0.0003      0.00%   10:31 AM\n",
       "9   EUR-CHF     1.0859  0.0002     +0.02%   10:31 AM\n",
       "10  USD-KRW  1147.0800 -1.7700     -0.15%    2:29 AM"
      ]
     },
     "execution_count": 3,
     "metadata": {},
     "output_type": "execute_result"
    }
   ],
   "source": [
    "import pandas as pd\n",
    "\n",
    "pd.read_html(str(soup.find_all('table')[0]))[0]"
   ]
  },
  {
   "cell_type": "markdown",
   "id": "forward-belly",
   "metadata": {
    "deletable": false,
    "editable": false,
    "tags": []
   },
   "source": [
    "## End\n",
    "<sup>made by **Jude Michael Teves**</sup> <br>\n",
    "<sup>for comments, corrections, suggestions, please email:</sup><sup> <href>judemichaelteves@gmail.com</href> or <href>jude.teves@dlsu.edu.ph</href></sup><br>"
   ]
  }
 ],
 "metadata": {
  "kernelspec": {
   "display_name": "Python 3",
   "language": "python",
   "name": "python3"
  },
  "language_info": {
   "codemirror_mode": {
    "name": "ipython",
    "version": 3
   },
   "file_extension": ".py",
   "mimetype": "text/x-python",
   "name": "python",
   "nbconvert_exporter": "python",
   "pygments_lexer": "ipython3",
   "version": "3.8.8"
  }
 },
 "nbformat": 4,
 "nbformat_minor": 5
}

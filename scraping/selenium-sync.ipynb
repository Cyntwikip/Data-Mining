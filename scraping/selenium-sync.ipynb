{
 "cells": [
  {
   "cell_type": "markdown",
   "metadata": {
    "deletable": false,
    "editable": false,
    "tags": []
   },
   "source": [
    "## Scraping using Selenium\n",
    "\n",
    "*Prepared by:*\n",
    "**Jude Michael Teves**  \n",
    "Faculty, Software Technology Department  \n",
    "College of Computer Studies - De La Salle University"
   ]
  },
  {
   "cell_type": "markdown",
   "metadata": {},
   "source": [
    "This notebook shows how to scrape dynamic webpages using Selenium. We will be scraping the https://quotes.toscrape.com/scroll as it is dedicated for practicing scraping, similar to https://quotes.toscrape.com/."
   ]
  },
  {
   "cell_type": "markdown",
   "metadata": {},
   "source": [
    "**Reminder**\n",
    "\n",
    "> *\"With great power, comes great responsibility\"*\n",
    "    \n",
    "Remember to perform web scraping with extra caution and to not abuse it. The boundaries are not so clear when it comes to what you can and cannot legally do with scraping. Use your own judgment to determine if what you are about to do is unethical or illegal.\n",
    "<hr>"
   ]
  },
  {
   "cell_type": "markdown",
   "metadata": {},
   "source": [
    "<sup>```Last run: 2021-07-12 11:28PM (GMT +8)```</sup>"
   ]
  },
  {
   "cell_type": "markdown",
   "metadata": {},
   "source": [
    "### Import libraries\n",
    "\n",
    "We will be using the `requests` and `BeautifulSoup` libraries for the succeeding cells. These two will give us the functionalities we need to scrape a webpage. If this is not already installed in your environment, you may use the either of the following commands in your command line:\n",
    "\n",
    "```conda install -c anaconda beautifulsoup4``` or\n",
    "```pip install beautifulsoup4```"
   ]
  },
  {
   "cell_type": "code",
   "execution_count": 1,
   "metadata": {
    "execution": {
     "iopub.execute_input": "2021-11-15T08:37:40.745517Z",
     "iopub.status.busy": "2021-11-15T08:37:40.744517Z",
     "iopub.status.idle": "2021-11-15T08:37:41.758024Z",
     "shell.execute_reply": "2021-11-15T08:37:41.757026Z",
     "shell.execute_reply.started": "2021-11-15T08:37:40.745517Z"
    },
    "tags": []
   },
   "outputs": [],
   "source": [
    "from bs4 import BeautifulSoup\n",
    "import requests\n",
    "import pandas as pd"
   ]
  },
  {
   "cell_type": "code",
   "execution_count": 2,
   "metadata": {
    "execution": {
     "iopub.execute_input": "2021-11-15T08:37:41.759025Z",
     "iopub.status.busy": "2021-11-15T08:37:41.759025Z",
     "iopub.status.idle": "2021-11-15T08:37:42.640413Z",
     "shell.execute_reply": "2021-11-15T08:37:42.639413Z",
     "shell.execute_reply.started": "2021-11-15T08:37:41.759025Z"
    },
    "tags": []
   },
   "outputs": [
    {
     "name": "stdout",
     "output_type": "stream",
     "text": [
      "<!DOCTYPE html>\n",
      "<html lang=\"en\">\n",
      " <head>\n",
      "  <meta charset=\"utf-8\"/>\n",
      "  <title>\n",
      "   Quotes to Scrape\n",
      "  </title>\n",
      "  <link href=\"/static/bootstrap.min.css\" rel=\"stylesheet\"/>\n",
      "  <link href=\"/static/main.css\" rel=\"stylesheet\"/>\n",
      " </head>\n",
      " <body>\n",
      "  <div class=\"container\">\n",
      "   <div class=\"row header-box\">\n",
      "    <div class=\"col-md-8\">\n",
      "     <h1>\n",
      "      <a href=\"/\" style=\"text-decoration: none\">\n",
      "       Quotes to Scrape\n",
      "      </a>\n",
      "     </h1>\n",
      "    </div>\n",
      "    <div class=\"col-md-4\">\n",
      "     <p>\n",
      "      <a href=\"/login\">\n",
      "       Login\n",
      "      </a>\n",
      "     </p>\n",
      "    </div>\n",
      "   </div>\n",
      "   <div class=\"row\">\n",
      "    <div class=\"col-md-8\">\n",
      "     <div class=\"quotes\">\n",
      "     </div>\n",
      "    </div>\n",
      "   </div>\n",
      "   <div id=\"loading\" style=\"background-color: #eeeecc\">\n",
      "    <h5>\n",
      "     Loading...\n",
      "    </h5>\n",
      "   </div>\n",
      "   <script src=\"/static/jquery.js\">\n",
      "   </script>\n",
      "   <script>\n",
      "    $(function(){\n",
      "        var page = 1, tag = null, hasNextPage = true;\n",
      "        function appendQuotes(quotes) {\n",
      "            var $quotes = $('.quotes');\n",
      "            var html = $.map(quotes, function(d){\n",
      "                var tags = $.map(d['tags'], function(t) {\n",
      "                    return \"<a class='tag'>\" + t + \"</a>\";\n",
      "                }).join(\" \");\n",
      "                return \"<div class='quote'><span class='text'>\" + d['text'] + \"</span><span>by <small class='author'>\" + d['author']['name'] + \"</small></span><div class='tags'>Tags: \" + tags + \"</div></div>\";\n",
      "            });\n",
      "\n",
      "            $quotes.append(html);\n",
      "        }\n",
      "\n",
      "        function updatePage(page) {\n",
      "            $('#loading').show('fast');\n",
      "            $.get('/api/quotes', {page: page}).done(function(data) {\n",
      "                appendQuotes(data.quotes);\n",
      "                hasNextPage = data.has_next;\n",
      "                $('#loading').hide('fast');\n",
      "            });\n",
      "        }\n",
      "        updatePage(page);\n",
      "        $(window).on('scroll', function(){\n",
      "            var scrollTop = $(window).scrollTop();\n",
      "            var heightDiff = $(document).height() - $(window).height();\n",
      "            if (hasNextPage && Math.abs(scrollTop - heightDiff) <= 1){\n",
      "                page += 1;\n",
      "                console.log('scrolling to page: ' + page);\n",
      "                updatePage(page);\n",
      "            }\n",
      "        });\n",
      "    });\n",
      "   </script>\n",
      "  </div>\n",
      "  <footer class=\"footer\">\n",
      "   <div class=\"container\">\n",
      "    <p class=\"text-muted\">\n",
      "     Quotes by:\n",
      "     <a href=\"https://www.goodreads.com/quotes\">\n",
      "      GoodReads.com\n",
      "     </a>\n",
      "    </p>\n",
      "    <p class=\"copyright\">\n",
      "     Made with\n",
      "     <span class=\"sh-red\">\n",
      "      ❤\n",
      "     </span>\n",
      "     by\n",
      "     <a href=\"https://scrapinghub.com\">\n",
      "      Scrapinghub\n",
      "     </a>\n",
      "    </p>\n",
      "   </div>\n",
      "  </footer>\n",
      " </body>\n",
      "</html>\n"
     ]
    }
   ],
   "source": [
    "page = requests.get(\"https://quotes.toscrape.com/scroll\")\n",
    "\n",
    "#feed it into beautiful soup for parsing\n",
    "soup = BeautifulSoup(page.text, 'html.parser')\n",
    "print(soup.prettify())"
   ]
  },
  {
   "cell_type": "markdown",
   "metadata": {},
   "source": [
    "### Inspect HTML code\n",
    "\n",
    "Inspect the code we retrieved and compare it against the webpage. This is what we should be seeing.\n",
    "\n",
    "<img src=\"../images/quotes-to-scrape-console.png\">\n",
    "\n",
    "Why is it different? Why did we not get the contents in the actual webpage? This is because the contents are dynamically generated. BeautifulSoup cannot handle such pages. And there are lots of webpages that are like this."
   ]
  },
  {
   "cell_type": "markdown",
   "metadata": {},
   "source": [
    "### Selenium to the rescue!\n",
    "\n",
    "Selenium is an automation library that can be used to deal with dynamic webpages. To install it, you may use the following commands:\n",
    "\n",
    "```conda install -c conda-forge selenium``` or\n",
    "```pip install selenium```\n",
    "\n",
    "You will also be needing a driver for your browser. See this section of the Selenium documentation for more details: https://selenium-python.readthedocs.io/installation.html#drivers"
   ]
  },
  {
   "cell_type": "markdown",
   "metadata": {},
   "source": [
    "### Setup browser automation\n",
    "\n",
    "You should see a new browser open after executing the cell below. This is the browser that is under the influence of our code--we are fully controlling it."
   ]
  },
  {
   "cell_type": "code",
   "execution_count": 14,
   "metadata": {
    "execution": {
     "iopub.execute_input": "2021-11-15T10:50:59.390279Z",
     "iopub.status.busy": "2021-11-15T10:50:59.390279Z",
     "iopub.status.idle": "2021-11-15T10:51:02.937153Z",
     "shell.execute_reply": "2021-11-15T10:51:02.936153Z",
     "shell.execute_reply.started": "2021-11-15T10:50:59.390279Z"
    },
    "tags": []
   },
   "outputs": [
    {
     "name": "stdout",
     "output_type": "stream",
     "text": [
      "<html lang=\"en\"><head>\n",
      "\t<meta charset=\"UTF-8\">\n",
      "\t<title>Quotes to Scrape</title>\n",
      "    <link rel=\"stylesheet\" href=\"/static/bootstrap.min.css\">\n",
      "    <link rel=\"stylesheet\" href=\"/static/main.css\">\n",
      "</head>\n",
      "<body>\n",
      "    <div class=\"container\">\n",
      "        <div class=\"row header-box\">\n",
      "            <div class=\"col-md-8\">\n",
      "                <h1>\n",
      "                    <a href=\"/\" style=\"text-decoration: none\">Quotes to Scrape</a>\n",
      "                </h1>\n",
      "            </div>\n",
      "            <div class=\"col-md-4\">\n",
      "                <p>\n",
      "                \n",
      "                    <a href=\"/login\">Login</a>\n",
      "                \n",
      "                </p>\n",
      "            </div>\n",
      "        </div>\n",
      "    \n",
      "<div class=\"row\">\n",
      "    <div class=\"col-md-8\">\n",
      "        <div class=\"quotes\"></div>\n",
      "    </div>\n",
      "</div>\n",
      "<div id=\"loading\" style=\"background-color: rgb(238, 238, 204);\"><h5>Loading...</h5></div>\n",
      "<script src=\"/static/jquery.js\"></script>\n",
      "<script>\n",
      "    $(function(){\n",
      "        var page = 1, tag = null, hasNextPage = true;\n",
      "        function appendQuotes(quotes) {\n",
      "            var $quotes = $('.quotes');\n",
      "            var html = $.map(quotes, function(d){\n",
      "                var tags = $.map(d['tags'], function(t) {\n",
      "                    return \"<a class='tag'>\" + t + \"</a>\";\n",
      "                }).join(\" \");\n",
      "                return \"<div class='quote'><span class='text'>\" + d['text'] + \"</span><span>by <small class='author'>\" + d['author']['name'] + \"</small></span><div class='tags'>Tags: \" + tags + \"</div></div>\";\n",
      "            });\n",
      "\n",
      "            $quotes.append(html);\n",
      "        }\n",
      "\n",
      "        function updatePage(page) {\n",
      "            $('#loading').show('fast');\n",
      "            $.get('/api/quotes', {page: page}).done(function(data) {\n",
      "                appendQuotes(data.quotes);\n",
      "                hasNextPage = data.has_next;\n",
      "                $('#loading').hide('fast');\n",
      "            });\n",
      "        }\n",
      "        updatePage(page);\n",
      "        $(window).on('scroll', function(){\n",
      "            var scrollTop = $(window).scrollTop();\n",
      "            var heightDiff = $(document).height() - $(window).height();\n",
      "            if (hasNextPage && Math.abs(scrollTop - heightDiff) <= 1){\n",
      "                page += 1;\n",
      "                console.log('scrolling to page: ' + page);\n",
      "                updatePage(page);\n",
      "            }\n",
      "        });\n",
      "    });\n",
      "</script>\n",
      "\n",
      "    </div>\n",
      "    <footer class=\"footer\">\n",
      "        <div class=\"container\">\n",
      "            <p class=\"text-muted\">\n",
      "                Quotes by: <a href=\"https://www.goodreads.com/quotes\">GoodReads.com</a>\n",
      "            </p>\n",
      "            <p class=\"copyright\">\n",
      "                Made with <span class=\"sh-red\">❤</span> by <a href=\"https://scrapinghub.com\">Scrapinghub</a>\n",
      "            </p>\n",
      "        </div>\n",
      "    </footer>\n",
      "\n",
      "</body></html>\n"
     ]
    }
   ],
   "source": [
    "from selenium import webdriver\n",
    "from selenium.webdriver.common.keys import Keys\n",
    "\n",
    "driver_path = \"driver/chromedriver-v95.exe\" # replace this with your own driver path\n",
    "url = \"https://quotes.toscrape.com/scroll\"\n",
    "driver = webdriver.Chrome(driver_path)\n",
    "driver.get(url)\n",
    "print(driver.page_source)"
   ]
  },
  {
   "cell_type": "markdown",
   "metadata": {},
   "source": [
    "### XPath: Getting the elements that we want\n",
    "\n",
    "> XPath is the language used for locating nodes in an XML document. As HTML can be an implementation of XML (XHTML), Selenium users can leverage this powerful language to target elements in their web applications. XPath supports the simple methods of locating by id or name attributes and extends them by opening up all sorts of new possibilities such as locating the third checkbox on the page.\n",
    "\n",
    "For the XPath syntax, you may refer to the following link: https://www.w3schools.com/xml/xpath_syntax.asp"
   ]
  },
  {
   "cell_type": "code",
   "execution_count": 15,
   "metadata": {
    "execution": {
     "iopub.execute_input": "2021-11-15T10:53:35.523455Z",
     "iopub.status.busy": "2021-11-15T10:53:35.522453Z",
     "iopub.status.idle": "2021-11-15T10:53:35.557291Z",
     "shell.execute_reply": "2021-11-15T10:53:35.556290Z",
     "shell.execute_reply.started": "2021-11-15T10:53:35.522453Z"
    },
    "tags": []
   },
   "outputs": [
    {
     "data": {
      "text/plain": [
       "[<selenium.webdriver.remote.webelement.WebElement (session=\"3dfe2ceb712a50287568637d0e7b3179\", element=\"4e189e04-3ccf-4b18-8363-ff97492ba389\")>,\n",
       " <selenium.webdriver.remote.webelement.WebElement (session=\"3dfe2ceb712a50287568637d0e7b3179\", element=\"30dd14bd-e7d2-4120-9ed4-fb435726d94c\")>,\n",
       " <selenium.webdriver.remote.webelement.WebElement (session=\"3dfe2ceb712a50287568637d0e7b3179\", element=\"2a66077e-9d0d-44f2-8701-6877d8a71226\")>,\n",
       " <selenium.webdriver.remote.webelement.WebElement (session=\"3dfe2ceb712a50287568637d0e7b3179\", element=\"f6c3a450-8389-40ce-a8cd-ae13f6775168\")>,\n",
       " <selenium.webdriver.remote.webelement.WebElement (session=\"3dfe2ceb712a50287568637d0e7b3179\", element=\"ec255e9e-a34b-4daa-8669-0fcf002815dd\")>,\n",
       " <selenium.webdriver.remote.webelement.WebElement (session=\"3dfe2ceb712a50287568637d0e7b3179\", element=\"16261a1a-5f5a-48e8-ab55-f1f147d809e6\")>,\n",
       " <selenium.webdriver.remote.webelement.WebElement (session=\"3dfe2ceb712a50287568637d0e7b3179\", element=\"36a42e5a-6507-44cb-9357-ddeb4be8f537\")>,\n",
       " <selenium.webdriver.remote.webelement.WebElement (session=\"3dfe2ceb712a50287568637d0e7b3179\", element=\"57c55638-9735-43a3-978a-ed5176364679\")>,\n",
       " <selenium.webdriver.remote.webelement.WebElement (session=\"3dfe2ceb712a50287568637d0e7b3179\", element=\"ab4b273e-8452-432a-bce4-856b8e7c7d5d\")>,\n",
       " <selenium.webdriver.remote.webelement.WebElement (session=\"3dfe2ceb712a50287568637d0e7b3179\", element=\"7ba50641-1e96-4df6-857c-2dc7e13eabbf\")>]"
      ]
     },
     "execution_count": 15,
     "metadata": {},
     "output_type": "execute_result"
    }
   ],
   "source": [
    "quotes = driver.find_elements_by_xpath(\"//div[@class='quote']\")\n",
    "quotes"
   ]
  },
  {
   "cell_type": "code",
   "execution_count": 16,
   "metadata": {
    "execution": {
     "iopub.execute_input": "2021-11-15T10:53:58.467139Z",
     "iopub.status.busy": "2021-11-15T10:53:58.467139Z",
     "iopub.status.idle": "2021-11-15T10:53:58.478142Z",
     "shell.execute_reply": "2021-11-15T10:53:58.477142Z",
     "shell.execute_reply.started": "2021-11-15T10:53:58.467139Z"
    },
    "tags": []
   },
   "outputs": [
    {
     "data": {
      "text/plain": [
       "10"
      ]
     },
     "execution_count": 16,
     "metadata": {},
     "output_type": "execute_result"
    }
   ],
   "source": [
    "len(quotes)"
   ]
  },
  {
   "cell_type": "code",
   "execution_count": 17,
   "metadata": {
    "execution": {
     "iopub.execute_input": "2021-11-15T10:54:01.704039Z",
     "iopub.status.busy": "2021-11-15T10:54:01.703517Z",
     "iopub.status.idle": "2021-11-15T10:54:01.752118Z",
     "shell.execute_reply": "2021-11-15T10:54:01.750117Z",
     "shell.execute_reply.started": "2021-11-15T10:54:01.704039Z"
    },
    "tags": []
   },
   "outputs": [
    {
     "data": {
      "text/plain": [
       "'“The world as we have created it is a process of our thinking. It cannot be changed without changing our thinking.”\\nby Albert Einstein\\nTags: change deep-thoughts thinking world'"
      ]
     },
     "execution_count": 17,
     "metadata": {},
     "output_type": "execute_result"
    }
   ],
   "source": [
    "quotes[0].text"
   ]
  },
  {
   "cell_type": "code",
   "execution_count": 18,
   "metadata": {
    "execution": {
     "iopub.execute_input": "2021-11-15T10:57:52.654265Z",
     "iopub.status.busy": "2021-11-15T10:57:52.654265Z",
     "iopub.status.idle": "2021-11-15T10:57:52.906971Z",
     "shell.execute_reply": "2021-11-15T10:57:52.905970Z",
     "shell.execute_reply.started": "2021-11-15T10:57:52.654265Z"
    },
    "tags": []
   },
   "outputs": [
    {
     "data": {
      "text/plain": [
       "['“The world as we have created it is a process of our thinking. It cannot be changed without changing our thinking.”\\nby Albert Einstein\\nTags: change deep-thoughts thinking world',\n",
       " '“It is our choices, Harry, that show what we truly are, far more than our abilities.”\\nby J.K. Rowling\\nTags: abilities choices',\n",
       " '“There are only two ways to live your life. One is as though nothing is a miracle. The other is as though everything is a miracle.”\\nby Albert Einstein\\nTags: inspirational life live miracle miracles',\n",
       " '“The person, be it gentleman or lady, who has not pleasure in a good novel, must be intolerably stupid.”\\nby Jane Austen\\nTags: aliteracy books classic humor',\n",
       " \"“Imperfection is beauty, madness is genius and it's better to be absolutely ridiculous than absolutely boring.”\\nby Marilyn Monroe\\nTags: be-yourself inspirational\",\n",
       " '“Try not to become a man of success. Rather become a man of value.”\\nby Albert Einstein\\nTags: adulthood success value',\n",
       " '“It is better to be hated for what you are than to be loved for what you are not.”\\nby André Gide\\nTags: life love',\n",
       " \"“I have not failed. I've just found 10,000 ways that won't work.”\\nby Thomas A. Edison\\nTags: edison failure inspirational paraphrased\",\n",
       " \"“A woman is like a tea bag; you never know how strong it is until it's in hot water.”\\nby Eleanor Roosevelt\\nTags: misattributed-eleanor-roosevelt\",\n",
       " '“A day without sunshine is like, you know, night.”\\nby Steve Martin\\nTags: humor obvious simile']"
      ]
     },
     "execution_count": 18,
     "metadata": {},
     "output_type": "execute_result"
    }
   ],
   "source": [
    "quotes_text = [quote.text for quote in quotes]\n",
    "quotes_text"
   ]
  },
  {
   "cell_type": "markdown",
   "metadata": {},
   "source": [
    "This returns all the texts inside the element. How can we choose specific parts of the element then?"
   ]
  },
  {
   "cell_type": "code",
   "execution_count": 9,
   "metadata": {
    "execution": {
     "iopub.execute_input": "2021-11-15T08:40:58.747330Z",
     "iopub.status.busy": "2021-11-15T08:40:58.747330Z",
     "iopub.status.idle": "2021-11-15T08:40:58.790340Z",
     "shell.execute_reply": "2021-11-15T08:40:58.789340Z",
     "shell.execute_reply.started": "2021-11-15T08:40:58.747330Z"
    }
   },
   "outputs": [
    {
     "data": {
      "text/plain": [
       "'“The world as we have created it is a process of our thinking. It cannot be changed without changing our thinking.”'"
      ]
     },
     "execution_count": 9,
     "metadata": {},
     "output_type": "execute_result"
    }
   ],
   "source": [
    "quotes[0].find_element_by_xpath(\"span[@class='text']\").text"
   ]
  },
  {
   "cell_type": "markdown",
   "metadata": {},
   "source": [
    "This one did not return all the other text after the quote. How about the others?"
   ]
  },
  {
   "cell_type": "code",
   "execution_count": 19,
   "metadata": {
    "execution": {
     "iopub.execute_input": "2021-11-15T10:58:12.170351Z",
     "iopub.status.busy": "2021-11-15T10:58:12.169351Z",
     "iopub.status.idle": "2021-11-15T10:58:12.216362Z",
     "shell.execute_reply": "2021-11-15T10:58:12.215361Z",
     "shell.execute_reply.started": "2021-11-15T10:58:12.170351Z"
    },
    "tags": []
   },
   "outputs": [
    {
     "data": {
      "text/plain": [
       "'Albert Einstein'"
      ]
     },
     "execution_count": 19,
     "metadata": {},
     "output_type": "execute_result"
    }
   ],
   "source": [
    "quotes[0].find_element_by_xpath(\".//small[@class='author']\").text"
   ]
  },
  {
   "cell_type": "code",
   "execution_count": 20,
   "metadata": {
    "execution": {
     "iopub.execute_input": "2021-11-15T10:58:13.936375Z",
     "iopub.status.busy": "2021-11-15T10:58:13.936375Z",
     "iopub.status.idle": "2021-11-15T10:58:14.047408Z",
     "shell.execute_reply": "2021-11-15T10:58:14.046408Z",
     "shell.execute_reply.started": "2021-11-15T10:58:13.936375Z"
    },
    "tags": []
   },
   "outputs": [
    {
     "data": {
      "text/plain": [
       "['change', 'deep-thoughts', 'thinking', 'world']"
      ]
     },
     "execution_count": 20,
     "metadata": {},
     "output_type": "execute_result"
    }
   ],
   "source": [
    "tags = quotes[0].find_elements_by_xpath(\".//a[@class='tag']\")\n",
    "tags = [tag.text for tag in tags]\n",
    "tags"
   ]
  },
  {
   "cell_type": "markdown",
   "metadata": {},
   "source": [
    "### Handle scrolling\n",
    "\n",
    "You will notice that we are only getting the first 10 quotes on the page. This is because we have to scroll first so that the other quotes get generated by the page. The following line of code automates that scrolling. Code for handling infinite scrolling is taken from <a href=\"https://stackoverflow.com/questions/28928068/scroll-down-to-bottom-of-infinite-page-with-phantomjs-in-python/28928684#28928684\">the answer to this Stackoverflow question</a>."
   ]
  },
  {
   "cell_type": "code",
   "execution_count": 24,
   "metadata": {
    "execution": {
     "iopub.execute_input": "2021-11-15T10:59:24.013423Z",
     "iopub.status.busy": "2021-11-15T10:59:24.012422Z",
     "iopub.status.idle": "2021-11-15T10:59:29.235217Z",
     "shell.execute_reply": "2021-11-15T10:59:29.233216Z",
     "shell.execute_reply.started": "2021-11-15T10:59:24.013423Z"
    },
    "tags": []
   },
   "outputs": [],
   "source": [
    "import time\n",
    "\n",
    "pause = 0.5\n",
    "lastHeight = driver.execute_script(\"return document.body.scrollHeight\")\n",
    "\n",
    "while True:\n",
    "    driver.execute_script(\"window.scrollTo(0, document.body.scrollHeight);\")\n",
    "    time.sleep(pause)\n",
    "    newHeight = driver.execute_script(\"return document.body.scrollHeight\")\n",
    "    if newHeight == lastHeight:\n",
    "        break\n",
    "    lastHeight = newHeight"
   ]
  },
  {
   "cell_type": "markdown",
   "metadata": {},
   "source": [
    "Now let's check the quotes on the page"
   ]
  },
  {
   "cell_type": "code",
   "execution_count": 25,
   "metadata": {
    "execution": {
     "iopub.execute_input": "2021-11-15T11:01:06.636486Z",
     "iopub.status.busy": "2021-11-15T11:01:06.636486Z",
     "iopub.status.idle": "2021-11-15T11:01:06.675571Z",
     "shell.execute_reply": "2021-11-15T11:01:06.674571Z",
     "shell.execute_reply.started": "2021-11-15T11:01:06.636486Z"
    },
    "tags": []
   },
   "outputs": [
    {
     "data": {
      "text/plain": [
       "100"
      ]
     },
     "execution_count": 25,
     "metadata": {},
     "output_type": "execute_result"
    }
   ],
   "source": [
    "quotes = driver.find_elements_by_xpath(\"//div[@class='quote']\")\n",
    "len(quotes)"
   ]
  },
  {
   "cell_type": "markdown",
   "metadata": {},
   "source": [
    "We now got 100 quotes instead of 10!"
   ]
  },
  {
   "cell_type": "markdown",
   "metadata": {},
   "source": [
    "### Exercise\n",
    "\n",
    "Scrape the page and save the results into a Pandas Dataframe with the following format:\n",
    "\n",
    "| author | tags | quote |\n",
    "| --- | --- | --- |\n",
    "| Albert Einstein | ['change', 'deep-thoughts', 'thinking', 'world'] | “The world as we have created it is a process of our thinking. It cannot be changed without changing our thinking.“ |"
   ]
  },
  {
   "cell_type": "code",
   "execution_count": 56,
   "metadata": {
    "execution": {
     "iopub.execute_input": "2021-11-15T11:24:43.934048Z",
     "iopub.status.busy": "2021-11-15T11:24:43.934048Z",
     "iopub.status.idle": "2021-11-15T11:24:55.153572Z",
     "shell.execute_reply": "2021-11-15T11:24:55.152570Z",
     "shell.execute_reply.started": "2021-11-15T11:24:43.934048Z"
    },
    "tags": []
   },
   "outputs": [],
   "source": [
    "df = pd.DataFrame(columns=['author', 'tags', 'quote'])\n",
    "\n",
    "for quote in quotes:\n",
    "    author = quote.find_element_by_xpath(\".//small[@class='author']\").text\n",
    "    tags = [tag.text for tag in quote.find_elements_by_xpath(\".//a[@class='tag']\")]\n",
    "    quote = quote.find_element_by_xpath(\"span[@class='text']\").text\n",
    "    \n",
    "#     df = pd.concat([df, pd.DataFrame([[author, tags, quote]], columns=['author', 'tags', 'quote'])], axis=0)\n",
    "    df.loc[df.shape[0]] = [author, tags, quote]"
   ]
  },
  {
   "cell_type": "code",
   "execution_count": 57,
   "metadata": {
    "execution": {
     "iopub.execute_input": "2021-11-15T11:24:55.156570Z",
     "iopub.status.busy": "2021-11-15T11:24:55.155570Z",
     "iopub.status.idle": "2021-11-15T11:24:55.186380Z",
     "shell.execute_reply": "2021-11-15T11:24:55.184378Z",
     "shell.execute_reply.started": "2021-11-15T11:24:55.156570Z"
    },
    "tags": []
   },
   "outputs": [
    {
     "data": {
      "text/html": [
       "<div>\n",
       "<style scoped>\n",
       "    .dataframe tbody tr th:only-of-type {\n",
       "        vertical-align: middle;\n",
       "    }\n",
       "\n",
       "    .dataframe tbody tr th {\n",
       "        vertical-align: top;\n",
       "    }\n",
       "\n",
       "    .dataframe thead th {\n",
       "        text-align: right;\n",
       "    }\n",
       "</style>\n",
       "<table border=\"1\" class=\"dataframe\">\n",
       "  <thead>\n",
       "    <tr style=\"text-align: right;\">\n",
       "      <th></th>\n",
       "      <th>author</th>\n",
       "      <th>tags</th>\n",
       "      <th>quote</th>\n",
       "    </tr>\n",
       "  </thead>\n",
       "  <tbody>\n",
       "    <tr>\n",
       "      <th>0</th>\n",
       "      <td>Albert Einstein</td>\n",
       "      <td>[change, deep-thoughts, thinking, world]</td>\n",
       "      <td>“The world as we have created it is a process ...</td>\n",
       "    </tr>\n",
       "    <tr>\n",
       "      <th>1</th>\n",
       "      <td>J.K. Rowling</td>\n",
       "      <td>[abilities, choices]</td>\n",
       "      <td>“It is our choices, Harry, that show what we t...</td>\n",
       "    </tr>\n",
       "    <tr>\n",
       "      <th>2</th>\n",
       "      <td>Albert Einstein</td>\n",
       "      <td>[inspirational, life, live, miracle, miracles]</td>\n",
       "      <td>“There are only two ways to live your life. On...</td>\n",
       "    </tr>\n",
       "    <tr>\n",
       "      <th>3</th>\n",
       "      <td>Jane Austen</td>\n",
       "      <td>[aliteracy, books, classic, humor]</td>\n",
       "      <td>“The person, be it gentleman or lady, who has ...</td>\n",
       "    </tr>\n",
       "    <tr>\n",
       "      <th>4</th>\n",
       "      <td>Marilyn Monroe</td>\n",
       "      <td>[be-yourself, inspirational]</td>\n",
       "      <td>“Imperfection is beauty, madness is genius and...</td>\n",
       "    </tr>\n",
       "    <tr>\n",
       "      <th>...</th>\n",
       "      <td>...</td>\n",
       "      <td>...</td>\n",
       "      <td>...</td>\n",
       "    </tr>\n",
       "    <tr>\n",
       "      <th>95</th>\n",
       "      <td>Harper Lee</td>\n",
       "      <td>[better-life-empathy]</td>\n",
       "      <td>“You never really understand a person until yo...</td>\n",
       "    </tr>\n",
       "    <tr>\n",
       "      <th>96</th>\n",
       "      <td>Madeleine L'Engle</td>\n",
       "      <td>[books, children, difficult, grown-ups, write,...</td>\n",
       "      <td>“You have to write the book that wants to be w...</td>\n",
       "    </tr>\n",
       "    <tr>\n",
       "      <th>97</th>\n",
       "      <td>Mark Twain</td>\n",
       "      <td>[truth]</td>\n",
       "      <td>“Never tell the truth to people who are not wo...</td>\n",
       "    </tr>\n",
       "    <tr>\n",
       "      <th>98</th>\n",
       "      <td>Dr. Seuss</td>\n",
       "      <td>[inspirational]</td>\n",
       "      <td>“A person's a person, no matter how small.”</td>\n",
       "    </tr>\n",
       "    <tr>\n",
       "      <th>99</th>\n",
       "      <td>George R.R. Martin</td>\n",
       "      <td>[books, mind]</td>\n",
       "      <td>“... a mind needs books as a sword needs a whe...</td>\n",
       "    </tr>\n",
       "  </tbody>\n",
       "</table>\n",
       "<p>100 rows × 3 columns</p>\n",
       "</div>"
      ],
      "text/plain": [
       "                author                                               tags  \\\n",
       "0      Albert Einstein           [change, deep-thoughts, thinking, world]   \n",
       "1         J.K. Rowling                               [abilities, choices]   \n",
       "2      Albert Einstein     [inspirational, life, live, miracle, miracles]   \n",
       "3          Jane Austen                 [aliteracy, books, classic, humor]   \n",
       "4       Marilyn Monroe                       [be-yourself, inspirational]   \n",
       "..                 ...                                                ...   \n",
       "95          Harper Lee                              [better-life-empathy]   \n",
       "96   Madeleine L'Engle  [books, children, difficult, grown-ups, write,...   \n",
       "97          Mark Twain                                            [truth]   \n",
       "98           Dr. Seuss                                    [inspirational]   \n",
       "99  George R.R. Martin                                      [books, mind]   \n",
       "\n",
       "                                                quote  \n",
       "0   “The world as we have created it is a process ...  \n",
       "1   “It is our choices, Harry, that show what we t...  \n",
       "2   “There are only two ways to live your life. On...  \n",
       "3   “The person, be it gentleman or lady, who has ...  \n",
       "4   “Imperfection is beauty, madness is genius and...  \n",
       "..                                                ...  \n",
       "95  “You never really understand a person until yo...  \n",
       "96  “You have to write the book that wants to be w...  \n",
       "97  “Never tell the truth to people who are not wo...  \n",
       "98        “A person's a person, no matter how small.”  \n",
       "99  “... a mind needs books as a sword needs a whe...  \n",
       "\n",
       "[100 rows x 3 columns]"
      ]
     },
     "execution_count": 57,
     "metadata": {},
     "output_type": "execute_result"
    }
   ],
   "source": [
    "df"
   ]
  },
  {
   "cell_type": "markdown",
   "metadata": {},
   "source": [
    "## References\n",
    "\n",
    "1. https://selenium-python.readthedocs.io/"
   ]
  },
  {
   "cell_type": "markdown",
   "metadata": {
    "deletable": false,
    "editable": false,
    "tags": []
   },
   "source": [
    "## End\n",
    "<sup>made by **Jude Michael Teves**</sup> <br>\n",
    "<sup>for comments, corrections, suggestions, please email:</sup><sup> <href>judemichaelteves@gmail.com</href> or <href>jude.teves@dlsu.edu.ph</href></sup><br>"
   ]
  }
 ],
 "metadata": {
  "kernelspec": {
   "display_name": "Python 3",
   "language": "python",
   "name": "python3"
  },
  "language_info": {
   "codemirror_mode": {
    "name": "ipython",
    "version": 3
   },
   "file_extension": ".py",
   "mimetype": "text/x-python",
   "name": "python",
   "nbconvert_exporter": "python",
   "pygments_lexer": "ipython3",
   "version": "3.8.10"
  }
 },
 "nbformat": 4,
 "nbformat_minor": 4
}

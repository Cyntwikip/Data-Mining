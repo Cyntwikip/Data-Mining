{
 "cells": [
  {
   "attachments": {},
   "cell_type": "markdown",
   "metadata": {},
   "source": [
    "## Association Rule Learning Homework\n",
    "\n",
    "*Prepared by:*\n",
    "**Jude Michael Teves**  \n",
    "Faculty, Software Technology Department  \n",
    "College of Computer Studies - De La Salle University"
   ]
  },
  {
   "attachments": {},
   "cell_type": "markdown",
   "metadata": {},
   "source": [
    "---\n",
    "\n",
    "Submitted by:\n",
    "- Author 1\n",
    "- Author 2\n",
    "- Author 3"
   ]
  },
  {
   "attachments": {},
   "cell_type": "markdown",
   "metadata": {},
   "source": [
    "## Requirements\n",
    "\n",
    "Answer the following questions:\n",
    "\n",
    "**Groceries Dataset**  \n",
    "1. Calculate the association rules and find the `significant/interesting` items in this dataset. Feel free to use any threshold value. (10 pts)\n",
    "    - group the items by member\n",
    "    - group the items by month\n",
    "2. What would you recommend the owner of a grocery store given these association rules? (15 pts)\n",
    "3. Is there any other grouping that could give us high confidence/interest? (10 pts)\n",
    "\n",
    "**Another Dataset**  \n",
    "1. Find another dataset that can be turned into an association rule learning problem. Ideally, more than 1000 transactions/records. This does not have to be grocery-related. (20 pts)\n",
    "2. Similar to the grocery dataset, calculate the association rules find the `significant/interesting` items. (10 pts)\n",
    "3. What would you recommend given the association rules? (25 pts)\n",
    "4. Any other learning?\n",
    "\n",
    "Note:\n",
    " - You have to create a writeup on the code you've written. Make sure that the code is clean as well. (5 pts)\n",
    " - Cite references if there are any. If you will be using the code I've given, cite it. If you got help from your peers, cite it as well. (5 pts)\n",
    " - Submit the link for your copy of this Google Colaboratory notebook. **Make sure it's public**. You may use incognito to see if the link is accessible.\n",
    "\n",
    "<hr>\n",
    "\n",
    "## Grading Criteria\n",
    "\n",
    "|Criteria|Points|\n",
    "|---|---|\n",
    "|Groceries Dataset Analysis|35|\n",
    "|Another Dataset Analysis|55|\n",
    "|Code Cleanliness|5|\n",
    "|References|5|\n"
   ]
  },
  {
   "attachments": {},
   "cell_type": "markdown",
   "metadata": {},
   "source": [
    "## Preliminaries"
   ]
  },
  {
   "attachments": {},
   "cell_type": "markdown",
   "metadata": {},
   "source": [
    "### Import libraries\n",
    "\n",
    "We will be using the `PyFIM` library to do association rule learning in this homework. If this is not already installed in your environment, you may use the either of the following commands in your command line:\n",
    "\n",
    "```conda install -c conda-forge pyfim``` or\n",
    "```pip install pyfim```"
   ]
  },
  {
   "cell_type": "code",
   "execution_count": 2,
   "metadata": {},
   "outputs": [],
   "source": [
    "import pandas as pd\n",
    "from fim import arules, apriori, fpgrowth"
   ]
  },
  {
   "attachments": {},
   "cell_type": "markdown",
   "metadata": {},
   "source": [
    "### Prepare the dataset\n",
    "\n",
    "We will be utilizing the <a href=\"https://www.kaggle.com/datasets/heeraldedhia/groceries-dataset\">Groceries dataset</a> from Kaggle."
   ]
  },
  {
   "cell_type": "code",
   "execution_count": 3,
   "metadata": {},
   "outputs": [
    {
     "data": {
      "text/html": [
       "<div>\n",
       "<style scoped>\n",
       "    .dataframe tbody tr th:only-of-type {\n",
       "        vertical-align: middle;\n",
       "    }\n",
       "\n",
       "    .dataframe tbody tr th {\n",
       "        vertical-align: top;\n",
       "    }\n",
       "\n",
       "    .dataframe thead th {\n",
       "        text-align: right;\n",
       "    }\n",
       "</style>\n",
       "<table border=\"1\" class=\"dataframe\">\n",
       "  <thead>\n",
       "    <tr style=\"text-align: right;\">\n",
       "      <th></th>\n",
       "      <th>Member_number</th>\n",
       "      <th>Date</th>\n",
       "      <th>itemDescription</th>\n",
       "    </tr>\n",
       "  </thead>\n",
       "  <tbody>\n",
       "    <tr>\n",
       "      <th>0</th>\n",
       "      <td>1808</td>\n",
       "      <td>21-07-2015</td>\n",
       "      <td>tropical fruit</td>\n",
       "    </tr>\n",
       "    <tr>\n",
       "      <th>1</th>\n",
       "      <td>2552</td>\n",
       "      <td>05-01-2015</td>\n",
       "      <td>whole milk</td>\n",
       "    </tr>\n",
       "    <tr>\n",
       "      <th>2</th>\n",
       "      <td>2300</td>\n",
       "      <td>19-09-2015</td>\n",
       "      <td>pip fruit</td>\n",
       "    </tr>\n",
       "    <tr>\n",
       "      <th>3</th>\n",
       "      <td>1187</td>\n",
       "      <td>12-12-2015</td>\n",
       "      <td>other vegetables</td>\n",
       "    </tr>\n",
       "    <tr>\n",
       "      <th>4</th>\n",
       "      <td>3037</td>\n",
       "      <td>01-02-2015</td>\n",
       "      <td>whole milk</td>\n",
       "    </tr>\n",
       "    <tr>\n",
       "      <th>...</th>\n",
       "      <td>...</td>\n",
       "      <td>...</td>\n",
       "      <td>...</td>\n",
       "    </tr>\n",
       "    <tr>\n",
       "      <th>38760</th>\n",
       "      <td>4471</td>\n",
       "      <td>08-10-2014</td>\n",
       "      <td>sliced cheese</td>\n",
       "    </tr>\n",
       "    <tr>\n",
       "      <th>38761</th>\n",
       "      <td>2022</td>\n",
       "      <td>23-02-2014</td>\n",
       "      <td>candy</td>\n",
       "    </tr>\n",
       "    <tr>\n",
       "      <th>38762</th>\n",
       "      <td>1097</td>\n",
       "      <td>16-04-2014</td>\n",
       "      <td>cake bar</td>\n",
       "    </tr>\n",
       "    <tr>\n",
       "      <th>38763</th>\n",
       "      <td>1510</td>\n",
       "      <td>03-12-2014</td>\n",
       "      <td>fruit/vegetable juice</td>\n",
       "    </tr>\n",
       "    <tr>\n",
       "      <th>38764</th>\n",
       "      <td>1521</td>\n",
       "      <td>26-12-2014</td>\n",
       "      <td>cat food</td>\n",
       "    </tr>\n",
       "  </tbody>\n",
       "</table>\n",
       "<p>38765 rows × 3 columns</p>\n",
       "</div>"
      ],
      "text/plain": [
       "       Member_number        Date        itemDescription\n",
       "0               1808  21-07-2015         tropical fruit\n",
       "1               2552  05-01-2015             whole milk\n",
       "2               2300  19-09-2015              pip fruit\n",
       "3               1187  12-12-2015       other vegetables\n",
       "4               3037  01-02-2015             whole milk\n",
       "...              ...         ...                    ...\n",
       "38760           4471  08-10-2014          sliced cheese\n",
       "38761           2022  23-02-2014                  candy\n",
       "38762           1097  16-04-2014               cake bar\n",
       "38763           1510  03-12-2014  fruit/vegetable juice\n",
       "38764           1521  26-12-2014               cat food\n",
       "\n",
       "[38765 rows x 3 columns]"
      ]
     },
     "execution_count": 3,
     "metadata": {},
     "output_type": "execute_result"
    }
   ],
   "source": [
    "df = pd.read_csv('https://raw.githubusercontent.com/Cyntwikip/data-repository/main/groceries.csv')\n",
    "df"
   ]
  },
  {
   "attachments": {},
   "cell_type": "markdown",
   "metadata": {},
   "source": [
    "## Writeup/Analysis\n",
    "\n",
    "Refer to the **Requirements section** for the guide questions."
   ]
  },
  {
   "attachments": {},
   "cell_type": "markdown",
   "metadata": {},
   "source": [
    "## References\n",
    "\n",
    "If you used my lectures and notebooks as resources, cite it as well."
   ]
  },
  {
   "attachments": {},
   "cell_type": "markdown",
   "metadata": {},
   "source": [
    "## End\n",
    "<sup>made by **Jude Michael Teves**</sup> <br>\n",
    "<sup>for comments, corrections, suggestions, please email:</sup><sup> <href>judemichaelteves@gmail.com</href> or <href>jude.teves@dlsu.edu.ph</href></sup><br>"
   ]
  }
 ],
 "metadata": {
  "kernelspec": {
   "display_name": "base",
   "language": "python",
   "name": "python3"
  },
  "language_info": {
   "codemirror_mode": {
    "name": "ipython",
    "version": 3
   },
   "file_extension": ".py",
   "mimetype": "text/x-python",
   "name": "python",
   "nbconvert_exporter": "python",
   "pygments_lexer": "ipython3",
   "version": "3.10.9"
  },
  "orig_nbformat": 4
 },
 "nbformat": 4,
 "nbformat_minor": 2
}

{
 "cells": [
  {
   "cell_type": "markdown",
   "id": "36efd545-266d-4e38-9043-d29f78f773fc",
   "metadata": {
    "tags": []
   },
   "source": [
    "## Collaborative Filtering\n",
    "\n",
    "*Prepared by:*\n",
    "**Jude Michael Teves**  \n",
    "Faculty, Software Technology Department  \n",
    "College of Computer Studies - De La Salle University"
   ]
  },
  {
   "cell_type": "markdown",
   "id": "24052c1e-0c1e-47a2-8026-b8a2f3aba984",
   "metadata": {},
   "source": [
    "This notebook shows how to perform a collaborative filtering type of recommender system."
   ]
  },
  {
   "cell_type": "markdown",
   "id": "528cab7b-31ea-4337-b61b-73f49753adc4",
   "metadata": {},
   "source": [
    "## Preliminaries"
   ]
  },
  {
   "cell_type": "markdown",
   "id": "19e39e2e-21a2-45c5-841a-56ce0514a06e",
   "metadata": {},
   "source": [
    "### Import libraries"
   ]
  },
  {
   "cell_type": "code",
   "execution_count": 2,
   "id": "16bac333-88e8-446a-b331-afc59e026f2b",
   "metadata": {
    "execution": {
     "iopub.execute_input": "2021-08-14T02:19:18.527595Z",
     "iopub.status.busy": "2021-08-14T02:19:18.526580Z",
     "iopub.status.idle": "2021-08-14T02:19:21.318510Z",
     "shell.execute_reply": "2021-08-14T02:19:21.318510Z",
     "shell.execute_reply.started": "2021-08-14T02:19:18.527595Z"
    },
    "tags": []
   },
   "outputs": [],
   "source": [
    "import numpy as np\n",
    "import pandas as pd\n",
    "\n",
    "from sklearn.metrics.pairwise import cosine_similarity\n",
    "from sklearn.metrics import jaccard_score\n",
    "from scipy.stats import pearsonr"
   ]
  },
  {
   "cell_type": "markdown",
   "id": "0d4df156-18ce-4ea8-b08a-ee1ea1ab3687",
   "metadata": {},
   "source": [
    "### Load Data\n",
    "\n",
    "We will be using the MovieLens dataset here. I have already preprocessed the data so it will be easier for us to process later on."
   ]
  },
  {
   "cell_type": "code",
   "execution_count": 3,
   "id": "7a0782df-88e1-4d35-95ae-16a7bfb82f78",
   "metadata": {
    "execution": {
     "iopub.execute_input": "2021-08-14T02:19:21.320510Z",
     "iopub.status.busy": "2021-08-14T02:19:21.320510Z",
     "iopub.status.idle": "2021-08-14T02:19:22.586491Z",
     "shell.execute_reply": "2021-08-14T02:19:22.585489Z",
     "shell.execute_reply.started": "2021-08-14T02:19:21.320510Z"
    },
    "tags": []
   },
   "outputs": [
    {
     "data": {
      "text/html": [
       "<div>\n",
       "<style scoped>\n",
       "    .dataframe tbody tr th:only-of-type {\n",
       "        vertical-align: middle;\n",
       "    }\n",
       "\n",
       "    .dataframe tbody tr th {\n",
       "        vertical-align: top;\n",
       "    }\n",
       "\n",
       "    .dataframe thead th {\n",
       "        text-align: right;\n",
       "    }\n",
       "</style>\n",
       "<table border=\"1\" class=\"dataframe\">\n",
       "  <thead>\n",
       "    <tr style=\"text-align: right;\">\n",
       "      <th></th>\n",
       "      <th>userId</th>\n",
       "      <th>movieId</th>\n",
       "      <th>rating</th>\n",
       "    </tr>\n",
       "  </thead>\n",
       "  <tbody>\n",
       "    <tr>\n",
       "      <th>0</th>\n",
       "      <td>1</td>\n",
       "      <td>1</td>\n",
       "      <td>4.0</td>\n",
       "    </tr>\n",
       "    <tr>\n",
       "      <th>1</th>\n",
       "      <td>1</td>\n",
       "      <td>3</td>\n",
       "      <td>4.0</td>\n",
       "    </tr>\n",
       "    <tr>\n",
       "      <th>2</th>\n",
       "      <td>1</td>\n",
       "      <td>6</td>\n",
       "      <td>4.0</td>\n",
       "    </tr>\n",
       "    <tr>\n",
       "      <th>3</th>\n",
       "      <td>1</td>\n",
       "      <td>47</td>\n",
       "      <td>5.0</td>\n",
       "    </tr>\n",
       "    <tr>\n",
       "      <th>4</th>\n",
       "      <td>1</td>\n",
       "      <td>50</td>\n",
       "      <td>5.0</td>\n",
       "    </tr>\n",
       "  </tbody>\n",
       "</table>\n",
       "</div>"
      ],
      "text/plain": [
       "   userId  movieId  rating\n",
       "0       1        1     4.0\n",
       "1       1        3     4.0\n",
       "2       1        6     4.0\n",
       "3       1       47     5.0\n",
       "4       1       50     5.0"
      ]
     },
     "execution_count": 3,
     "metadata": {},
     "output_type": "execute_result"
    }
   ],
   "source": [
    "df_ratings = pd.read_csv('https://raw.githubusercontent.com/Cyntwikip/data-repository/main/movielens_movie_ratings.csv')\n",
    "df_ratings.head()"
   ]
  },
  {
   "cell_type": "code",
   "execution_count": 4,
   "id": "b43bdd7a-a960-4384-bad5-c7b90cba622f",
   "metadata": {
    "execution": {
     "iopub.execute_input": "2021-08-14T02:19:22.588493Z",
     "iopub.status.busy": "2021-08-14T02:19:22.588493Z",
     "iopub.status.idle": "2021-08-14T02:19:24.224124Z",
     "shell.execute_reply": "2021-08-14T02:19:24.223123Z",
     "shell.execute_reply.started": "2021-08-14T02:19:22.588493Z"
    },
    "tags": []
   },
   "outputs": [
    {
     "data": {
      "text/html": [
       "<div>\n",
       "<style scoped>\n",
       "    .dataframe tbody tr th:only-of-type {\n",
       "        vertical-align: middle;\n",
       "    }\n",
       "\n",
       "    .dataframe tbody tr th {\n",
       "        vertical-align: top;\n",
       "    }\n",
       "\n",
       "    .dataframe thead th {\n",
       "        text-align: right;\n",
       "    }\n",
       "</style>\n",
       "<table border=\"1\" class=\"dataframe\">\n",
       "  <thead>\n",
       "    <tr style=\"text-align: right;\">\n",
       "      <th></th>\n",
       "      <th>movieId</th>\n",
       "      <th>title</th>\n",
       "      <th>Action</th>\n",
       "      <th>Adventure</th>\n",
       "      <th>Animation</th>\n",
       "      <th>Children</th>\n",
       "      <th>Comedy</th>\n",
       "      <th>Crime</th>\n",
       "      <th>Documentary</th>\n",
       "      <th>Drama</th>\n",
       "      <th>...</th>\n",
       "      <th>Film-Noir</th>\n",
       "      <th>Horror</th>\n",
       "      <th>IMAX</th>\n",
       "      <th>Musical</th>\n",
       "      <th>Mystery</th>\n",
       "      <th>Romance</th>\n",
       "      <th>Sci-Fi</th>\n",
       "      <th>Thriller</th>\n",
       "      <th>War</th>\n",
       "      <th>Western</th>\n",
       "    </tr>\n",
       "  </thead>\n",
       "  <tbody>\n",
       "    <tr>\n",
       "      <th>0</th>\n",
       "      <td>1</td>\n",
       "      <td>Toy Story (1995)</td>\n",
       "      <td>0</td>\n",
       "      <td>1</td>\n",
       "      <td>1</td>\n",
       "      <td>1</td>\n",
       "      <td>1</td>\n",
       "      <td>0</td>\n",
       "      <td>0</td>\n",
       "      <td>0</td>\n",
       "      <td>...</td>\n",
       "      <td>0</td>\n",
       "      <td>0</td>\n",
       "      <td>0</td>\n",
       "      <td>0</td>\n",
       "      <td>0</td>\n",
       "      <td>0</td>\n",
       "      <td>0</td>\n",
       "      <td>0</td>\n",
       "      <td>0</td>\n",
       "      <td>0</td>\n",
       "    </tr>\n",
       "    <tr>\n",
       "      <th>1</th>\n",
       "      <td>2</td>\n",
       "      <td>Jumanji (1995)</td>\n",
       "      <td>0</td>\n",
       "      <td>1</td>\n",
       "      <td>0</td>\n",
       "      <td>1</td>\n",
       "      <td>0</td>\n",
       "      <td>0</td>\n",
       "      <td>0</td>\n",
       "      <td>0</td>\n",
       "      <td>...</td>\n",
       "      <td>0</td>\n",
       "      <td>0</td>\n",
       "      <td>0</td>\n",
       "      <td>0</td>\n",
       "      <td>0</td>\n",
       "      <td>0</td>\n",
       "      <td>0</td>\n",
       "      <td>0</td>\n",
       "      <td>0</td>\n",
       "      <td>0</td>\n",
       "    </tr>\n",
       "    <tr>\n",
       "      <th>2</th>\n",
       "      <td>3</td>\n",
       "      <td>Grumpier Old Men (1995)</td>\n",
       "      <td>0</td>\n",
       "      <td>0</td>\n",
       "      <td>0</td>\n",
       "      <td>0</td>\n",
       "      <td>1</td>\n",
       "      <td>0</td>\n",
       "      <td>0</td>\n",
       "      <td>0</td>\n",
       "      <td>...</td>\n",
       "      <td>0</td>\n",
       "      <td>0</td>\n",
       "      <td>0</td>\n",
       "      <td>0</td>\n",
       "      <td>0</td>\n",
       "      <td>1</td>\n",
       "      <td>0</td>\n",
       "      <td>0</td>\n",
       "      <td>0</td>\n",
       "      <td>0</td>\n",
       "    </tr>\n",
       "    <tr>\n",
       "      <th>3</th>\n",
       "      <td>4</td>\n",
       "      <td>Waiting to Exhale (1995)</td>\n",
       "      <td>0</td>\n",
       "      <td>0</td>\n",
       "      <td>0</td>\n",
       "      <td>0</td>\n",
       "      <td>1</td>\n",
       "      <td>0</td>\n",
       "      <td>0</td>\n",
       "      <td>1</td>\n",
       "      <td>...</td>\n",
       "      <td>0</td>\n",
       "      <td>0</td>\n",
       "      <td>0</td>\n",
       "      <td>0</td>\n",
       "      <td>0</td>\n",
       "      <td>1</td>\n",
       "      <td>0</td>\n",
       "      <td>0</td>\n",
       "      <td>0</td>\n",
       "      <td>0</td>\n",
       "    </tr>\n",
       "    <tr>\n",
       "      <th>4</th>\n",
       "      <td>5</td>\n",
       "      <td>Father of the Bride Part II (1995)</td>\n",
       "      <td>0</td>\n",
       "      <td>0</td>\n",
       "      <td>0</td>\n",
       "      <td>0</td>\n",
       "      <td>1</td>\n",
       "      <td>0</td>\n",
       "      <td>0</td>\n",
       "      <td>0</td>\n",
       "      <td>...</td>\n",
       "      <td>0</td>\n",
       "      <td>0</td>\n",
       "      <td>0</td>\n",
       "      <td>0</td>\n",
       "      <td>0</td>\n",
       "      <td>0</td>\n",
       "      <td>0</td>\n",
       "      <td>0</td>\n",
       "      <td>0</td>\n",
       "      <td>0</td>\n",
       "    </tr>\n",
       "  </tbody>\n",
       "</table>\n",
       "<p>5 rows × 21 columns</p>\n",
       "</div>"
      ],
      "text/plain": [
       "   movieId                               title  Action  Adventure  Animation  \\\n",
       "0        1                    Toy Story (1995)       0          1          1   \n",
       "1        2                      Jumanji (1995)       0          1          0   \n",
       "2        3             Grumpier Old Men (1995)       0          0          0   \n",
       "3        4            Waiting to Exhale (1995)       0          0          0   \n",
       "4        5  Father of the Bride Part II (1995)       0          0          0   \n",
       "\n",
       "   Children  Comedy  Crime  Documentary  Drama  ...  Film-Noir  Horror  IMAX  \\\n",
       "0         1       1      0            0      0  ...          0       0     0   \n",
       "1         1       0      0            0      0  ...          0       0     0   \n",
       "2         0       1      0            0      0  ...          0       0     0   \n",
       "3         0       1      0            0      1  ...          0       0     0   \n",
       "4         0       1      0            0      0  ...          0       0     0   \n",
       "\n",
       "   Musical  Mystery  Romance  Sci-Fi  Thriller  War  Western  \n",
       "0        0        0        0       0         0    0        0  \n",
       "1        0        0        0       0         0    0        0  \n",
       "2        0        0        1       0         0    0        0  \n",
       "3        0        0        1       0         0    0        0  \n",
       "4        0        0        0       0         0    0        0  \n",
       "\n",
       "[5 rows x 21 columns]"
      ]
     },
     "execution_count": 4,
     "metadata": {},
     "output_type": "execute_result"
    }
   ],
   "source": [
    "df_genres = pd.read_csv('https://raw.githubusercontent.com/Cyntwikip/data-repository/main/movielens_movie_genres.csv')\n",
    "df_genres.head()"
   ]
  },
  {
   "cell_type": "markdown",
   "id": "7a263bdd-d6a0-4dab-bfc7-42a4e3ac737d",
   "metadata": {},
   "source": [
    "## User-based Collaborative Filtering"
   ]
  },
  {
   "cell_type": "markdown",
   "id": "80afa618-44e1-478e-a480-f69c1c3df299",
   "metadata": {},
   "source": [
    "### Build User-Item Matrix"
   ]
  },
  {
   "cell_type": "code",
   "execution_count": 5,
   "id": "1e638ae7-4663-4fcf-800a-5a4e7d14c73c",
   "metadata": {
    "execution": {
     "iopub.execute_input": "2021-08-14T02:19:24.226124Z",
     "iopub.status.busy": "2021-08-14T02:19:24.225122Z",
     "iopub.status.idle": "2021-08-14T02:19:24.240463Z",
     "shell.execute_reply": "2021-08-14T02:19:24.238462Z",
     "shell.execute_reply.started": "2021-08-14T02:19:24.226124Z"
    },
    "tags": []
   },
   "outputs": [],
   "source": [
    "user_id = 3"
   ]
  },
  {
   "cell_type": "code",
   "execution_count": 330,
   "id": "428022fe-c58f-45a8-bcc0-f8c50f997097",
   "metadata": {
    "execution": {
     "iopub.execute_input": "2021-08-14T03:55:44.137825Z",
     "iopub.status.busy": "2021-08-14T03:55:44.136825Z",
     "iopub.status.idle": "2021-08-14T03:55:44.250868Z",
     "shell.execute_reply": "2021-08-14T03:55:44.249868Z",
     "shell.execute_reply.started": "2021-08-14T03:55:44.137825Z"
    },
    "tags": []
   },
   "outputs": [
    {
     "data": {
      "text/html": [
       "<div>\n",
       "<style scoped>\n",
       "    .dataframe tbody tr th:only-of-type {\n",
       "        vertical-align: middle;\n",
       "    }\n",
       "\n",
       "    .dataframe tbody tr th {\n",
       "        vertical-align: top;\n",
       "    }\n",
       "\n",
       "    .dataframe thead th {\n",
       "        text-align: right;\n",
       "    }\n",
       "</style>\n",
       "<table border=\"1\" class=\"dataframe\">\n",
       "  <thead>\n",
       "    <tr style=\"text-align: right;\">\n",
       "      <th>movieId</th>\n",
       "      <th>1</th>\n",
       "      <th>2</th>\n",
       "      <th>3</th>\n",
       "      <th>4</th>\n",
       "      <th>5</th>\n",
       "      <th>6</th>\n",
       "      <th>7</th>\n",
       "      <th>8</th>\n",
       "      <th>9</th>\n",
       "      <th>10</th>\n",
       "      <th>...</th>\n",
       "      <th>193565</th>\n",
       "      <th>193567</th>\n",
       "      <th>193571</th>\n",
       "      <th>193573</th>\n",
       "      <th>193579</th>\n",
       "      <th>193581</th>\n",
       "      <th>193583</th>\n",
       "      <th>193585</th>\n",
       "      <th>193587</th>\n",
       "      <th>193609</th>\n",
       "    </tr>\n",
       "    <tr>\n",
       "      <th>userId</th>\n",
       "      <th></th>\n",
       "      <th></th>\n",
       "      <th></th>\n",
       "      <th></th>\n",
       "      <th></th>\n",
       "      <th></th>\n",
       "      <th></th>\n",
       "      <th></th>\n",
       "      <th></th>\n",
       "      <th></th>\n",
       "      <th></th>\n",
       "      <th></th>\n",
       "      <th></th>\n",
       "      <th></th>\n",
       "      <th></th>\n",
       "      <th></th>\n",
       "      <th></th>\n",
       "      <th></th>\n",
       "      <th></th>\n",
       "      <th></th>\n",
       "      <th></th>\n",
       "    </tr>\n",
       "  </thead>\n",
       "  <tbody>\n",
       "    <tr>\n",
       "      <th>1</th>\n",
       "      <td>4.0</td>\n",
       "      <td>NaN</td>\n",
       "      <td>4.0</td>\n",
       "      <td>NaN</td>\n",
       "      <td>NaN</td>\n",
       "      <td>4.0</td>\n",
       "      <td>NaN</td>\n",
       "      <td>NaN</td>\n",
       "      <td>NaN</td>\n",
       "      <td>NaN</td>\n",
       "      <td>...</td>\n",
       "      <td>NaN</td>\n",
       "      <td>NaN</td>\n",
       "      <td>NaN</td>\n",
       "      <td>NaN</td>\n",
       "      <td>NaN</td>\n",
       "      <td>NaN</td>\n",
       "      <td>NaN</td>\n",
       "      <td>NaN</td>\n",
       "      <td>NaN</td>\n",
       "      <td>NaN</td>\n",
       "    </tr>\n",
       "    <tr>\n",
       "      <th>2</th>\n",
       "      <td>NaN</td>\n",
       "      <td>NaN</td>\n",
       "      <td>NaN</td>\n",
       "      <td>NaN</td>\n",
       "      <td>NaN</td>\n",
       "      <td>NaN</td>\n",
       "      <td>NaN</td>\n",
       "      <td>NaN</td>\n",
       "      <td>NaN</td>\n",
       "      <td>NaN</td>\n",
       "      <td>...</td>\n",
       "      <td>NaN</td>\n",
       "      <td>NaN</td>\n",
       "      <td>NaN</td>\n",
       "      <td>NaN</td>\n",
       "      <td>NaN</td>\n",
       "      <td>NaN</td>\n",
       "      <td>NaN</td>\n",
       "      <td>NaN</td>\n",
       "      <td>NaN</td>\n",
       "      <td>NaN</td>\n",
       "    </tr>\n",
       "    <tr>\n",
       "      <th>3</th>\n",
       "      <td>NaN</td>\n",
       "      <td>NaN</td>\n",
       "      <td>NaN</td>\n",
       "      <td>NaN</td>\n",
       "      <td>NaN</td>\n",
       "      <td>NaN</td>\n",
       "      <td>NaN</td>\n",
       "      <td>NaN</td>\n",
       "      <td>NaN</td>\n",
       "      <td>NaN</td>\n",
       "      <td>...</td>\n",
       "      <td>NaN</td>\n",
       "      <td>NaN</td>\n",
       "      <td>NaN</td>\n",
       "      <td>NaN</td>\n",
       "      <td>NaN</td>\n",
       "      <td>NaN</td>\n",
       "      <td>NaN</td>\n",
       "      <td>NaN</td>\n",
       "      <td>NaN</td>\n",
       "      <td>NaN</td>\n",
       "    </tr>\n",
       "    <tr>\n",
       "      <th>4</th>\n",
       "      <td>NaN</td>\n",
       "      <td>NaN</td>\n",
       "      <td>NaN</td>\n",
       "      <td>NaN</td>\n",
       "      <td>NaN</td>\n",
       "      <td>NaN</td>\n",
       "      <td>NaN</td>\n",
       "      <td>NaN</td>\n",
       "      <td>NaN</td>\n",
       "      <td>NaN</td>\n",
       "      <td>...</td>\n",
       "      <td>NaN</td>\n",
       "      <td>NaN</td>\n",
       "      <td>NaN</td>\n",
       "      <td>NaN</td>\n",
       "      <td>NaN</td>\n",
       "      <td>NaN</td>\n",
       "      <td>NaN</td>\n",
       "      <td>NaN</td>\n",
       "      <td>NaN</td>\n",
       "      <td>NaN</td>\n",
       "    </tr>\n",
       "    <tr>\n",
       "      <th>5</th>\n",
       "      <td>4.0</td>\n",
       "      <td>NaN</td>\n",
       "      <td>NaN</td>\n",
       "      <td>NaN</td>\n",
       "      <td>NaN</td>\n",
       "      <td>NaN</td>\n",
       "      <td>NaN</td>\n",
       "      <td>NaN</td>\n",
       "      <td>NaN</td>\n",
       "      <td>NaN</td>\n",
       "      <td>...</td>\n",
       "      <td>NaN</td>\n",
       "      <td>NaN</td>\n",
       "      <td>NaN</td>\n",
       "      <td>NaN</td>\n",
       "      <td>NaN</td>\n",
       "      <td>NaN</td>\n",
       "      <td>NaN</td>\n",
       "      <td>NaN</td>\n",
       "      <td>NaN</td>\n",
       "      <td>NaN</td>\n",
       "    </tr>\n",
       "    <tr>\n",
       "      <th>...</th>\n",
       "      <td>...</td>\n",
       "      <td>...</td>\n",
       "      <td>...</td>\n",
       "      <td>...</td>\n",
       "      <td>...</td>\n",
       "      <td>...</td>\n",
       "      <td>...</td>\n",
       "      <td>...</td>\n",
       "      <td>...</td>\n",
       "      <td>...</td>\n",
       "      <td>...</td>\n",
       "      <td>...</td>\n",
       "      <td>...</td>\n",
       "      <td>...</td>\n",
       "      <td>...</td>\n",
       "      <td>...</td>\n",
       "      <td>...</td>\n",
       "      <td>...</td>\n",
       "      <td>...</td>\n",
       "      <td>...</td>\n",
       "      <td>...</td>\n",
       "    </tr>\n",
       "    <tr>\n",
       "      <th>606</th>\n",
       "      <td>2.5</td>\n",
       "      <td>NaN</td>\n",
       "      <td>NaN</td>\n",
       "      <td>NaN</td>\n",
       "      <td>NaN</td>\n",
       "      <td>NaN</td>\n",
       "      <td>2.5</td>\n",
       "      <td>NaN</td>\n",
       "      <td>NaN</td>\n",
       "      <td>NaN</td>\n",
       "      <td>...</td>\n",
       "      <td>NaN</td>\n",
       "      <td>NaN</td>\n",
       "      <td>NaN</td>\n",
       "      <td>NaN</td>\n",
       "      <td>NaN</td>\n",
       "      <td>NaN</td>\n",
       "      <td>NaN</td>\n",
       "      <td>NaN</td>\n",
       "      <td>NaN</td>\n",
       "      <td>NaN</td>\n",
       "    </tr>\n",
       "    <tr>\n",
       "      <th>607</th>\n",
       "      <td>4.0</td>\n",
       "      <td>NaN</td>\n",
       "      <td>NaN</td>\n",
       "      <td>NaN</td>\n",
       "      <td>NaN</td>\n",
       "      <td>NaN</td>\n",
       "      <td>NaN</td>\n",
       "      <td>NaN</td>\n",
       "      <td>NaN</td>\n",
       "      <td>NaN</td>\n",
       "      <td>...</td>\n",
       "      <td>NaN</td>\n",
       "      <td>NaN</td>\n",
       "      <td>NaN</td>\n",
       "      <td>NaN</td>\n",
       "      <td>NaN</td>\n",
       "      <td>NaN</td>\n",
       "      <td>NaN</td>\n",
       "      <td>NaN</td>\n",
       "      <td>NaN</td>\n",
       "      <td>NaN</td>\n",
       "    </tr>\n",
       "    <tr>\n",
       "      <th>608</th>\n",
       "      <td>2.5</td>\n",
       "      <td>2.0</td>\n",
       "      <td>2.0</td>\n",
       "      <td>NaN</td>\n",
       "      <td>NaN</td>\n",
       "      <td>NaN</td>\n",
       "      <td>NaN</td>\n",
       "      <td>NaN</td>\n",
       "      <td>NaN</td>\n",
       "      <td>4.0</td>\n",
       "      <td>...</td>\n",
       "      <td>NaN</td>\n",
       "      <td>NaN</td>\n",
       "      <td>NaN</td>\n",
       "      <td>NaN</td>\n",
       "      <td>NaN</td>\n",
       "      <td>NaN</td>\n",
       "      <td>NaN</td>\n",
       "      <td>NaN</td>\n",
       "      <td>NaN</td>\n",
       "      <td>NaN</td>\n",
       "    </tr>\n",
       "    <tr>\n",
       "      <th>609</th>\n",
       "      <td>3.0</td>\n",
       "      <td>NaN</td>\n",
       "      <td>NaN</td>\n",
       "      <td>NaN</td>\n",
       "      <td>NaN</td>\n",
       "      <td>NaN</td>\n",
       "      <td>NaN</td>\n",
       "      <td>NaN</td>\n",
       "      <td>NaN</td>\n",
       "      <td>4.0</td>\n",
       "      <td>...</td>\n",
       "      <td>NaN</td>\n",
       "      <td>NaN</td>\n",
       "      <td>NaN</td>\n",
       "      <td>NaN</td>\n",
       "      <td>NaN</td>\n",
       "      <td>NaN</td>\n",
       "      <td>NaN</td>\n",
       "      <td>NaN</td>\n",
       "      <td>NaN</td>\n",
       "      <td>NaN</td>\n",
       "    </tr>\n",
       "    <tr>\n",
       "      <th>610</th>\n",
       "      <td>5.0</td>\n",
       "      <td>NaN</td>\n",
       "      <td>NaN</td>\n",
       "      <td>NaN</td>\n",
       "      <td>NaN</td>\n",
       "      <td>5.0</td>\n",
       "      <td>NaN</td>\n",
       "      <td>NaN</td>\n",
       "      <td>NaN</td>\n",
       "      <td>NaN</td>\n",
       "      <td>...</td>\n",
       "      <td>NaN</td>\n",
       "      <td>NaN</td>\n",
       "      <td>NaN</td>\n",
       "      <td>NaN</td>\n",
       "      <td>NaN</td>\n",
       "      <td>NaN</td>\n",
       "      <td>NaN</td>\n",
       "      <td>NaN</td>\n",
       "      <td>NaN</td>\n",
       "      <td>NaN</td>\n",
       "    </tr>\n",
       "  </tbody>\n",
       "</table>\n",
       "<p>610 rows × 9724 columns</p>\n",
       "</div>"
      ],
      "text/plain": [
       "movieId  1       2       3       4       5       6       7       8       \\\n",
       "userId                                                                    \n",
       "1           4.0     NaN     4.0     NaN     NaN     4.0     NaN     NaN   \n",
       "2           NaN     NaN     NaN     NaN     NaN     NaN     NaN     NaN   \n",
       "3           NaN     NaN     NaN     NaN     NaN     NaN     NaN     NaN   \n",
       "4           NaN     NaN     NaN     NaN     NaN     NaN     NaN     NaN   \n",
       "5           4.0     NaN     NaN     NaN     NaN     NaN     NaN     NaN   \n",
       "...         ...     ...     ...     ...     ...     ...     ...     ...   \n",
       "606         2.5     NaN     NaN     NaN     NaN     NaN     2.5     NaN   \n",
       "607         4.0     NaN     NaN     NaN     NaN     NaN     NaN     NaN   \n",
       "608         2.5     2.0     2.0     NaN     NaN     NaN     NaN     NaN   \n",
       "609         3.0     NaN     NaN     NaN     NaN     NaN     NaN     NaN   \n",
       "610         5.0     NaN     NaN     NaN     NaN     5.0     NaN     NaN   \n",
       "\n",
       "movieId  9       10      ...  193565  193567  193571  193573  193579  193581  \\\n",
       "userId                   ...                                                   \n",
       "1           NaN     NaN  ...     NaN     NaN     NaN     NaN     NaN     NaN   \n",
       "2           NaN     NaN  ...     NaN     NaN     NaN     NaN     NaN     NaN   \n",
       "3           NaN     NaN  ...     NaN     NaN     NaN     NaN     NaN     NaN   \n",
       "4           NaN     NaN  ...     NaN     NaN     NaN     NaN     NaN     NaN   \n",
       "5           NaN     NaN  ...     NaN     NaN     NaN     NaN     NaN     NaN   \n",
       "...         ...     ...  ...     ...     ...     ...     ...     ...     ...   \n",
       "606         NaN     NaN  ...     NaN     NaN     NaN     NaN     NaN     NaN   \n",
       "607         NaN     NaN  ...     NaN     NaN     NaN     NaN     NaN     NaN   \n",
       "608         NaN     4.0  ...     NaN     NaN     NaN     NaN     NaN     NaN   \n",
       "609         NaN     4.0  ...     NaN     NaN     NaN     NaN     NaN     NaN   \n",
       "610         NaN     NaN  ...     NaN     NaN     NaN     NaN     NaN     NaN   \n",
       "\n",
       "movieId  193583  193585  193587  193609  \n",
       "userId                                   \n",
       "1           NaN     NaN     NaN     NaN  \n",
       "2           NaN     NaN     NaN     NaN  \n",
       "3           NaN     NaN     NaN     NaN  \n",
       "4           NaN     NaN     NaN     NaN  \n",
       "5           NaN     NaN     NaN     NaN  \n",
       "...         ...     ...     ...     ...  \n",
       "606         NaN     NaN     NaN     NaN  \n",
       "607         NaN     NaN     NaN     NaN  \n",
       "608         NaN     NaN     NaN     NaN  \n",
       "609         NaN     NaN     NaN     NaN  \n",
       "610         NaN     NaN     NaN     NaN  \n",
       "\n",
       "[610 rows x 9724 columns]"
      ]
     },
     "execution_count": 330,
     "metadata": {},
     "output_type": "execute_result"
    }
   ],
   "source": [
    "df_user = df_ratings.pivot(index='userId', columns='movieId', values='rating')\n",
    "df_user"
   ]
  },
  {
   "cell_type": "markdown",
   "id": "4d049745-a574-41fc-9626-bba320f13291",
   "metadata": {},
   "source": [
    "### Retrieve *k* most similar users"
   ]
  },
  {
   "cell_type": "markdown",
   "id": "8a492ff9-20d8-4806-b67b-d06ce67180e2",
   "metadata": {},
   "source": [
    "#### Preprocessing - Mean Imputation"
   ]
  },
  {
   "cell_type": "code",
   "execution_count": 7,
   "id": "deff4eed-def7-43fe-867f-82bc76d61012",
   "metadata": {
    "execution": {
     "iopub.execute_input": "2021-08-14T02:19:24.367490Z",
     "iopub.status.busy": "2021-08-14T02:19:24.367490Z",
     "iopub.status.idle": "2021-08-14T02:19:24.652483Z",
     "shell.execute_reply": "2021-08-14T02:19:24.651484Z",
     "shell.execute_reply.started": "2021-08-14T02:19:24.367490Z"
    },
    "tags": []
   },
   "outputs": [
    {
     "data": {
      "text/html": [
       "<div>\n",
       "<style scoped>\n",
       "    .dataframe tbody tr th:only-of-type {\n",
       "        vertical-align: middle;\n",
       "    }\n",
       "\n",
       "    .dataframe tbody tr th {\n",
       "        vertical-align: top;\n",
       "    }\n",
       "\n",
       "    .dataframe thead th {\n",
       "        text-align: right;\n",
       "    }\n",
       "</style>\n",
       "<table border=\"1\" class=\"dataframe\">\n",
       "  <thead>\n",
       "    <tr style=\"text-align: right;\">\n",
       "      <th>movieId</th>\n",
       "      <th>1</th>\n",
       "      <th>2</th>\n",
       "      <th>3</th>\n",
       "      <th>4</th>\n",
       "      <th>5</th>\n",
       "      <th>6</th>\n",
       "      <th>7</th>\n",
       "      <th>8</th>\n",
       "      <th>9</th>\n",
       "      <th>10</th>\n",
       "      <th>...</th>\n",
       "      <th>193565</th>\n",
       "      <th>193567</th>\n",
       "      <th>193571</th>\n",
       "      <th>193573</th>\n",
       "      <th>193579</th>\n",
       "      <th>193581</th>\n",
       "      <th>193583</th>\n",
       "      <th>193585</th>\n",
       "      <th>193587</th>\n",
       "      <th>193609</th>\n",
       "    </tr>\n",
       "    <tr>\n",
       "      <th>userId</th>\n",
       "      <th></th>\n",
       "      <th></th>\n",
       "      <th></th>\n",
       "      <th></th>\n",
       "      <th></th>\n",
       "      <th></th>\n",
       "      <th></th>\n",
       "      <th></th>\n",
       "      <th></th>\n",
       "      <th></th>\n",
       "      <th></th>\n",
       "      <th></th>\n",
       "      <th></th>\n",
       "      <th></th>\n",
       "      <th></th>\n",
       "      <th></th>\n",
       "      <th></th>\n",
       "      <th></th>\n",
       "      <th></th>\n",
       "      <th></th>\n",
       "      <th></th>\n",
       "    </tr>\n",
       "  </thead>\n",
       "  <tbody>\n",
       "    <tr>\n",
       "      <th>1</th>\n",
       "      <td>4.000000</td>\n",
       "      <td>4.366379</td>\n",
       "      <td>4.000000</td>\n",
       "      <td>4.366379</td>\n",
       "      <td>4.366379</td>\n",
       "      <td>4.000000</td>\n",
       "      <td>4.366379</td>\n",
       "      <td>4.366379</td>\n",
       "      <td>4.366379</td>\n",
       "      <td>4.366379</td>\n",
       "      <td>...</td>\n",
       "      <td>4.366379</td>\n",
       "      <td>4.366379</td>\n",
       "      <td>4.366379</td>\n",
       "      <td>4.366379</td>\n",
       "      <td>4.366379</td>\n",
       "      <td>4.366379</td>\n",
       "      <td>4.366379</td>\n",
       "      <td>4.366379</td>\n",
       "      <td>4.366379</td>\n",
       "      <td>4.366379</td>\n",
       "    </tr>\n",
       "    <tr>\n",
       "      <th>2</th>\n",
       "      <td>3.948276</td>\n",
       "      <td>3.948276</td>\n",
       "      <td>3.948276</td>\n",
       "      <td>3.948276</td>\n",
       "      <td>3.948276</td>\n",
       "      <td>3.948276</td>\n",
       "      <td>3.948276</td>\n",
       "      <td>3.948276</td>\n",
       "      <td>3.948276</td>\n",
       "      <td>3.948276</td>\n",
       "      <td>...</td>\n",
       "      <td>3.948276</td>\n",
       "      <td>3.948276</td>\n",
       "      <td>3.948276</td>\n",
       "      <td>3.948276</td>\n",
       "      <td>3.948276</td>\n",
       "      <td>3.948276</td>\n",
       "      <td>3.948276</td>\n",
       "      <td>3.948276</td>\n",
       "      <td>3.948276</td>\n",
       "      <td>3.948276</td>\n",
       "    </tr>\n",
       "    <tr>\n",
       "      <th>3</th>\n",
       "      <td>2.435897</td>\n",
       "      <td>2.435897</td>\n",
       "      <td>2.435897</td>\n",
       "      <td>2.435897</td>\n",
       "      <td>2.435897</td>\n",
       "      <td>2.435897</td>\n",
       "      <td>2.435897</td>\n",
       "      <td>2.435897</td>\n",
       "      <td>2.435897</td>\n",
       "      <td>2.435897</td>\n",
       "      <td>...</td>\n",
       "      <td>2.435897</td>\n",
       "      <td>2.435897</td>\n",
       "      <td>2.435897</td>\n",
       "      <td>2.435897</td>\n",
       "      <td>2.435897</td>\n",
       "      <td>2.435897</td>\n",
       "      <td>2.435897</td>\n",
       "      <td>2.435897</td>\n",
       "      <td>2.435897</td>\n",
       "      <td>2.435897</td>\n",
       "    </tr>\n",
       "    <tr>\n",
       "      <th>4</th>\n",
       "      <td>3.555556</td>\n",
       "      <td>3.555556</td>\n",
       "      <td>3.555556</td>\n",
       "      <td>3.555556</td>\n",
       "      <td>3.555556</td>\n",
       "      <td>3.555556</td>\n",
       "      <td>3.555556</td>\n",
       "      <td>3.555556</td>\n",
       "      <td>3.555556</td>\n",
       "      <td>3.555556</td>\n",
       "      <td>...</td>\n",
       "      <td>3.555556</td>\n",
       "      <td>3.555556</td>\n",
       "      <td>3.555556</td>\n",
       "      <td>3.555556</td>\n",
       "      <td>3.555556</td>\n",
       "      <td>3.555556</td>\n",
       "      <td>3.555556</td>\n",
       "      <td>3.555556</td>\n",
       "      <td>3.555556</td>\n",
       "      <td>3.555556</td>\n",
       "    </tr>\n",
       "    <tr>\n",
       "      <th>5</th>\n",
       "      <td>4.000000</td>\n",
       "      <td>3.636364</td>\n",
       "      <td>3.636364</td>\n",
       "      <td>3.636364</td>\n",
       "      <td>3.636364</td>\n",
       "      <td>3.636364</td>\n",
       "      <td>3.636364</td>\n",
       "      <td>3.636364</td>\n",
       "      <td>3.636364</td>\n",
       "      <td>3.636364</td>\n",
       "      <td>...</td>\n",
       "      <td>3.636364</td>\n",
       "      <td>3.636364</td>\n",
       "      <td>3.636364</td>\n",
       "      <td>3.636364</td>\n",
       "      <td>3.636364</td>\n",
       "      <td>3.636364</td>\n",
       "      <td>3.636364</td>\n",
       "      <td>3.636364</td>\n",
       "      <td>3.636364</td>\n",
       "      <td>3.636364</td>\n",
       "    </tr>\n",
       "  </tbody>\n",
       "</table>\n",
       "<p>5 rows × 9724 columns</p>\n",
       "</div>"
      ],
      "text/plain": [
       "movieId    1         2         3         4         5         6         7       \\\n",
       "userId                                                                          \n",
       "1        4.000000  4.366379  4.000000  4.366379  4.366379  4.000000  4.366379   \n",
       "2        3.948276  3.948276  3.948276  3.948276  3.948276  3.948276  3.948276   \n",
       "3        2.435897  2.435897  2.435897  2.435897  2.435897  2.435897  2.435897   \n",
       "4        3.555556  3.555556  3.555556  3.555556  3.555556  3.555556  3.555556   \n",
       "5        4.000000  3.636364  3.636364  3.636364  3.636364  3.636364  3.636364   \n",
       "\n",
       "movieId    8         9         10      ...    193565    193567    193571  \\\n",
       "userId                                 ...                                 \n",
       "1        4.366379  4.366379  4.366379  ...  4.366379  4.366379  4.366379   \n",
       "2        3.948276  3.948276  3.948276  ...  3.948276  3.948276  3.948276   \n",
       "3        2.435897  2.435897  2.435897  ...  2.435897  2.435897  2.435897   \n",
       "4        3.555556  3.555556  3.555556  ...  3.555556  3.555556  3.555556   \n",
       "5        3.636364  3.636364  3.636364  ...  3.636364  3.636364  3.636364   \n",
       "\n",
       "movieId    193573    193579    193581    193583    193585    193587    193609  \n",
       "userId                                                                         \n",
       "1        4.366379  4.366379  4.366379  4.366379  4.366379  4.366379  4.366379  \n",
       "2        3.948276  3.948276  3.948276  3.948276  3.948276  3.948276  3.948276  \n",
       "3        2.435897  2.435897  2.435897  2.435897  2.435897  2.435897  2.435897  \n",
       "4        3.555556  3.555556  3.555556  3.555556  3.555556  3.555556  3.555556  \n",
       "5        3.636364  3.636364  3.636364  3.636364  3.636364  3.636364  3.636364  \n",
       "\n",
       "[5 rows x 9724 columns]"
      ]
     },
     "execution_count": 7,
     "metadata": {},
     "output_type": "execute_result"
    }
   ],
   "source": [
    "df_user_filled = df_user.apply(lambda x: x.fillna(x.mean()), axis=1)\n",
    "df_user_filled.head()"
   ]
  },
  {
   "cell_type": "markdown",
   "id": "9454e57c-be0d-4195-a2b0-a66c5d3bb480",
   "metadata": {},
   "source": [
    "#### Similarity Computation"
   ]
  },
  {
   "cell_type": "code",
   "execution_count": 8,
   "id": "b2e6e19b-df76-4a61-bf2b-38d89e866a99",
   "metadata": {
    "execution": {
     "iopub.execute_input": "2021-08-14T02:19:24.654484Z",
     "iopub.status.busy": "2021-08-14T02:19:24.653484Z",
     "iopub.status.idle": "2021-08-14T02:19:25.129370Z",
     "shell.execute_reply": "2021-08-14T02:19:25.128368Z",
     "shell.execute_reply.started": "2021-08-14T02:19:24.653484Z"
    },
    "tags": []
   },
   "outputs": [
    {
     "name": "stderr",
     "output_type": "stream",
     "text": [
      "C:\\Users\\jude_\\anaconda3\\lib\\site-packages\\scipy\\stats\\stats.py:3913: PearsonRConstantInputWarning: An input array is constant; the correlation coefficent is not defined.\n",
      "  warnings.warn(PearsonRConstantInputWarning())\n"
     ]
    },
    {
     "data": {
      "text/plain": [
       "userId\n",
       "441    0.117418\n",
       "496    0.067878\n",
       "549    0.064006\n",
       "231    0.061159\n",
       "527    0.058456\n",
       "537    0.058072\n",
       "313    0.055313\n",
       "518    0.050288\n",
       "244    0.049511\n",
       "246    0.048314\n",
       "dtype: float64"
      ]
     },
     "execution_count": 8,
     "metadata": {},
     "output_type": "execute_result"
    }
   ],
   "source": [
    "k = 10\n",
    "reference_user = df_user_filled.loc[user_id]\n",
    "user_similarities = df_user_filled.apply(lambda x: pearsonr(x, reference_user)[0], axis=1)\n",
    "similar_users = user_similarities.drop(user_id, axis=0).nlargest(k)\n",
    "similar_users"
   ]
  },
  {
   "cell_type": "markdown",
   "id": "17625cf1-6fa0-4f5b-b39c-1c8c8500b55b",
   "metadata": {},
   "source": [
    "### Get average rating of similar users"
   ]
  },
  {
   "cell_type": "code",
   "execution_count": 9,
   "id": "42cf367d-3b73-4b2f-9d2b-ac5e8be8fc32",
   "metadata": {
    "execution": {
     "iopub.execute_input": "2021-08-14T02:19:25.131369Z",
     "iopub.status.busy": "2021-08-14T02:19:25.130370Z",
     "iopub.status.idle": "2021-08-14T02:19:25.191383Z",
     "shell.execute_reply": "2021-08-14T02:19:25.190382Z",
     "shell.execute_reply.started": "2021-08-14T02:19:25.131369Z"
    },
    "tags": []
   },
   "outputs": [
    {
     "data": {
      "text/plain": [
       "movieId\n",
       "2450      5.0\n",
       "68954     5.0\n",
       "68486     5.0\n",
       "2683      5.0\n",
       "1199      5.0\n",
       "         ... \n",
       "193581    NaN\n",
       "193583    NaN\n",
       "193585    NaN\n",
       "193587    NaN\n",
       "193609    NaN\n",
       "Length: 9724, dtype: float64"
      ]
     },
     "execution_count": 9,
     "metadata": {},
     "output_type": "execute_result"
    }
   ],
   "source": [
    "predicted_ratings = df_user.loc[similar_users.index].mean().sort_values(ascending=False)\n",
    "predicted_ratings"
   ]
  },
  {
   "cell_type": "markdown",
   "id": "db3a2252-d7e4-4038-932d-ec2faffcf9c8",
   "metadata": {},
   "source": [
    "#### Recommend items"
   ]
  },
  {
   "cell_type": "code",
   "execution_count": 10,
   "id": "7dd6fc8f-e9de-4901-8a9c-7844fdc3fc9e",
   "metadata": {
    "execution": {
     "iopub.execute_input": "2021-08-14T02:19:25.194384Z",
     "iopub.status.busy": "2021-08-14T02:19:25.193383Z",
     "iopub.status.idle": "2021-08-14T02:19:25.255421Z",
     "shell.execute_reply": "2021-08-14T02:19:25.254421Z",
     "shell.execute_reply.started": "2021-08-14T02:19:25.193383Z"
    },
    "tags": []
   },
   "outputs": [
    {
     "data": {
      "text/plain": [
       "movieId\n",
       "2450     5.0\n",
       "68954    5.0\n",
       "68486    5.0\n",
       "2683     5.0\n",
       "1199     5.0\n",
       "1200     5.0\n",
       "1997     5.0\n",
       "3153     5.0\n",
       "66371    5.0\n",
       "1213     5.0\n",
       "dtype: float64"
      ]
     },
     "execution_count": 10,
     "metadata": {},
     "output_type": "execute_result"
    }
   ],
   "source": [
    "user_unrated_items = df_user.loc[user_id].isna()\n",
    "recommended_items = predicted_ratings[user_unrated_items].head(10)\n",
    "recommended_items"
   ]
  },
  {
   "cell_type": "markdown",
   "id": "9f53daa6-bc24-4588-90a4-5c4207b0c305",
   "metadata": {},
   "source": [
    "Let's observe how other similar users rated those items."
   ]
  },
  {
   "cell_type": "code",
   "execution_count": 11,
   "id": "41762a2d-b9f9-46a7-a79c-836e8fc7ea8c",
   "metadata": {
    "execution": {
     "iopub.execute_input": "2021-08-14T02:19:25.257421Z",
     "iopub.status.busy": "2021-08-14T02:19:25.257421Z",
     "iopub.status.idle": "2021-08-14T02:19:25.303432Z",
     "shell.execute_reply": "2021-08-14T02:19:25.302431Z",
     "shell.execute_reply.started": "2021-08-14T02:19:25.257421Z"
    },
    "tags": []
   },
   "outputs": [
    {
     "data": {
      "text/html": [
       "<div>\n",
       "<style scoped>\n",
       "    .dataframe tbody tr th:only-of-type {\n",
       "        vertical-align: middle;\n",
       "    }\n",
       "\n",
       "    .dataframe tbody tr th {\n",
       "        vertical-align: top;\n",
       "    }\n",
       "\n",
       "    .dataframe thead th {\n",
       "        text-align: right;\n",
       "    }\n",
       "</style>\n",
       "<table border=\"1\" class=\"dataframe\">\n",
       "  <thead>\n",
       "    <tr style=\"text-align: right;\">\n",
       "      <th>movieId</th>\n",
       "      <th>2450</th>\n",
       "      <th>68954</th>\n",
       "      <th>68486</th>\n",
       "      <th>2683</th>\n",
       "      <th>1199</th>\n",
       "      <th>1200</th>\n",
       "      <th>1997</th>\n",
       "      <th>3153</th>\n",
       "      <th>66371</th>\n",
       "      <th>1213</th>\n",
       "    </tr>\n",
       "    <tr>\n",
       "      <th>userId</th>\n",
       "      <th></th>\n",
       "      <th></th>\n",
       "      <th></th>\n",
       "      <th></th>\n",
       "      <th></th>\n",
       "      <th></th>\n",
       "      <th></th>\n",
       "      <th></th>\n",
       "      <th></th>\n",
       "      <th></th>\n",
       "    </tr>\n",
       "  </thead>\n",
       "  <tbody>\n",
       "    <tr>\n",
       "      <th>441</th>\n",
       "      <td>NaN</td>\n",
       "      <td>NaN</td>\n",
       "      <td>NaN</td>\n",
       "      <td>5.0</td>\n",
       "      <td>NaN</td>\n",
       "      <td>NaN</td>\n",
       "      <td>NaN</td>\n",
       "      <td>NaN</td>\n",
       "      <td>NaN</td>\n",
       "      <td>NaN</td>\n",
       "    </tr>\n",
       "    <tr>\n",
       "      <th>496</th>\n",
       "      <td>NaN</td>\n",
       "      <td>NaN</td>\n",
       "      <td>NaN</td>\n",
       "      <td>NaN</td>\n",
       "      <td>NaN</td>\n",
       "      <td>NaN</td>\n",
       "      <td>NaN</td>\n",
       "      <td>NaN</td>\n",
       "      <td>NaN</td>\n",
       "      <td>NaN</td>\n",
       "    </tr>\n",
       "    <tr>\n",
       "      <th>549</th>\n",
       "      <td>NaN</td>\n",
       "      <td>NaN</td>\n",
       "      <td>NaN</td>\n",
       "      <td>NaN</td>\n",
       "      <td>NaN</td>\n",
       "      <td>NaN</td>\n",
       "      <td>NaN</td>\n",
       "      <td>NaN</td>\n",
       "      <td>NaN</td>\n",
       "      <td>NaN</td>\n",
       "    </tr>\n",
       "    <tr>\n",
       "      <th>231</th>\n",
       "      <td>NaN</td>\n",
       "      <td>NaN</td>\n",
       "      <td>NaN</td>\n",
       "      <td>NaN</td>\n",
       "      <td>NaN</td>\n",
       "      <td>5.0</td>\n",
       "      <td>NaN</td>\n",
       "      <td>NaN</td>\n",
       "      <td>NaN</td>\n",
       "      <td>NaN</td>\n",
       "    </tr>\n",
       "    <tr>\n",
       "      <th>527</th>\n",
       "      <td>5.0</td>\n",
       "      <td>NaN</td>\n",
       "      <td>NaN</td>\n",
       "      <td>NaN</td>\n",
       "      <td>NaN</td>\n",
       "      <td>NaN</td>\n",
       "      <td>5.0</td>\n",
       "      <td>NaN</td>\n",
       "      <td>NaN</td>\n",
       "      <td>NaN</td>\n",
       "    </tr>\n",
       "    <tr>\n",
       "      <th>537</th>\n",
       "      <td>NaN</td>\n",
       "      <td>NaN</td>\n",
       "      <td>NaN</td>\n",
       "      <td>NaN</td>\n",
       "      <td>NaN</td>\n",
       "      <td>NaN</td>\n",
       "      <td>NaN</td>\n",
       "      <td>NaN</td>\n",
       "      <td>NaN</td>\n",
       "      <td>NaN</td>\n",
       "    </tr>\n",
       "    <tr>\n",
       "      <th>313</th>\n",
       "      <td>NaN</td>\n",
       "      <td>NaN</td>\n",
       "      <td>NaN</td>\n",
       "      <td>NaN</td>\n",
       "      <td>5.0</td>\n",
       "      <td>5.0</td>\n",
       "      <td>5.0</td>\n",
       "      <td>5.0</td>\n",
       "      <td>NaN</td>\n",
       "      <td>5.0</td>\n",
       "    </tr>\n",
       "    <tr>\n",
       "      <th>518</th>\n",
       "      <td>NaN</td>\n",
       "      <td>NaN</td>\n",
       "      <td>NaN</td>\n",
       "      <td>NaN</td>\n",
       "      <td>NaN</td>\n",
       "      <td>NaN</td>\n",
       "      <td>NaN</td>\n",
       "      <td>NaN</td>\n",
       "      <td>NaN</td>\n",
       "      <td>NaN</td>\n",
       "    </tr>\n",
       "    <tr>\n",
       "      <th>244</th>\n",
       "      <td>NaN</td>\n",
       "      <td>NaN</td>\n",
       "      <td>NaN</td>\n",
       "      <td>NaN</td>\n",
       "      <td>NaN</td>\n",
       "      <td>5.0</td>\n",
       "      <td>NaN</td>\n",
       "      <td>NaN</td>\n",
       "      <td>NaN</td>\n",
       "      <td>NaN</td>\n",
       "    </tr>\n",
       "    <tr>\n",
       "      <th>246</th>\n",
       "      <td>NaN</td>\n",
       "      <td>5.0</td>\n",
       "      <td>5.0</td>\n",
       "      <td>NaN</td>\n",
       "      <td>NaN</td>\n",
       "      <td>NaN</td>\n",
       "      <td>NaN</td>\n",
       "      <td>NaN</td>\n",
       "      <td>5.0</td>\n",
       "      <td>NaN</td>\n",
       "    </tr>\n",
       "  </tbody>\n",
       "</table>\n",
       "</div>"
      ],
      "text/plain": [
       "movieId  2450   68954  68486  2683   1199   1200   1997   3153   66371  1213 \n",
       "userId                                                                       \n",
       "441        NaN    NaN    NaN    5.0    NaN    NaN    NaN    NaN    NaN    NaN\n",
       "496        NaN    NaN    NaN    NaN    NaN    NaN    NaN    NaN    NaN    NaN\n",
       "549        NaN    NaN    NaN    NaN    NaN    NaN    NaN    NaN    NaN    NaN\n",
       "231        NaN    NaN    NaN    NaN    NaN    5.0    NaN    NaN    NaN    NaN\n",
       "527        5.0    NaN    NaN    NaN    NaN    NaN    5.0    NaN    NaN    NaN\n",
       "537        NaN    NaN    NaN    NaN    NaN    NaN    NaN    NaN    NaN    NaN\n",
       "313        NaN    NaN    NaN    NaN    5.0    5.0    5.0    5.0    NaN    5.0\n",
       "518        NaN    NaN    NaN    NaN    NaN    NaN    NaN    NaN    NaN    NaN\n",
       "244        NaN    NaN    NaN    NaN    NaN    5.0    NaN    NaN    NaN    NaN\n",
       "246        NaN    5.0    5.0    NaN    NaN    NaN    NaN    NaN    5.0    NaN"
      ]
     },
     "execution_count": 11,
     "metadata": {},
     "output_type": "execute_result"
    }
   ],
   "source": [
    "df_user.loc[similar_users.index, recommended_items.index]"
   ]
  },
  {
   "cell_type": "markdown",
   "id": "1f525267-2b8e-42d6-8458-5c8ca6f2562d",
   "metadata": {},
   "source": [
    "### Variation: Get weighted average of similar users"
   ]
  },
  {
   "cell_type": "code",
   "execution_count": 12,
   "id": "f15da031-3b01-47a9-a4a7-54282ee5f980",
   "metadata": {
    "execution": {
     "iopub.execute_input": "2021-08-14T02:19:25.305432Z",
     "iopub.status.busy": "2021-08-14T02:19:25.304432Z",
     "iopub.status.idle": "2021-08-14T02:19:32.258406Z",
     "shell.execute_reply": "2021-08-14T02:19:32.258406Z",
     "shell.execute_reply.started": "2021-08-14T02:19:25.305432Z"
    },
    "tags": []
   },
   "outputs": [
    {
     "name": "stderr",
     "output_type": "stream",
     "text": [
      "<ipython-input-12-8c1860f1db0e>:4: RuntimeWarning: invalid value encountered in double_scalars\n",
      "  rating = weighted_similarity.sum()/norm\n"
     ]
    },
    {
     "data": {
      "text/plain": [
       "movieId\n",
       "1333      5.0\n",
       "1982      5.0\n",
       "3071      5.0\n",
       "1961      5.0\n",
       "2450      5.0\n",
       "         ... \n",
       "193581    NaN\n",
       "193583    NaN\n",
       "193585    NaN\n",
       "193587    NaN\n",
       "193609    NaN\n",
       "Length: 9724, dtype: float64"
      ]
     },
     "execution_count": 12,
     "metadata": {},
     "output_type": "execute_result"
    }
   ],
   "source": [
    "def get_weighted_similarity(x):\n",
    "    weighted_similarity = x*similar_users\n",
    "    norm = similar_users[~weighted_similarity.isna()].sum()\n",
    "    rating = weighted_similarity.sum()/norm\n",
    "    return rating\n",
    "\n",
    "predicted_ratings = df_user.loc[similar_users.index].apply(get_weighted_similarity, axis=0)\n",
    "predicted_ratings = predicted_ratings.sort_values(ascending=False)\n",
    "predicted_ratings"
   ]
  },
  {
   "cell_type": "markdown",
   "id": "0cc393c1-2a2a-47ce-966e-688809d694c0",
   "metadata": {},
   "source": [
    "#### Recommend items"
   ]
  },
  {
   "cell_type": "code",
   "execution_count": 13,
   "id": "2b2067ff-aafa-4217-965e-2db97b8d90e7",
   "metadata": {
    "execution": {
     "iopub.execute_input": "2021-08-14T02:19:32.260408Z",
     "iopub.status.busy": "2021-08-14T02:19:32.260408Z",
     "iopub.status.idle": "2021-08-14T02:19:32.275409Z",
     "shell.execute_reply": "2021-08-14T02:19:32.274409Z",
     "shell.execute_reply.started": "2021-08-14T02:19:32.260408Z"
    },
    "tags": []
   },
   "outputs": [
    {
     "data": {
      "text/plain": [
       "movieId\n",
       "1333    5.0\n",
       "1982    5.0\n",
       "3071    5.0\n",
       "1961    5.0\n",
       "2450    5.0\n",
       "2118    5.0\n",
       "2355    5.0\n",
       "2137    5.0\n",
       "4638    5.0\n",
       "1035    5.0\n",
       "dtype: float64"
      ]
     },
     "execution_count": 13,
     "metadata": {},
     "output_type": "execute_result"
    }
   ],
   "source": [
    "user_unrated_items = df_user.loc[user_id].isna()\n",
    "recommended_items = predicted_ratings[user_unrated_items].head(10)\n",
    "recommended_items"
   ]
  },
  {
   "cell_type": "markdown",
   "id": "f11b4c3b-5a08-442a-80c1-1db998cd1eea",
   "metadata": {},
   "source": [
    "Let's observe how other similar users rated those items."
   ]
  },
  {
   "cell_type": "code",
   "execution_count": 14,
   "id": "45f0e2c6-32f0-4e55-8880-6008c31c13bc",
   "metadata": {
    "execution": {
     "iopub.execute_input": "2021-08-14T02:19:32.276410Z",
     "iopub.status.busy": "2021-08-14T02:19:32.276410Z",
     "iopub.status.idle": "2021-08-14T02:19:32.307417Z",
     "shell.execute_reply": "2021-08-14T02:19:32.306417Z",
     "shell.execute_reply.started": "2021-08-14T02:19:32.276410Z"
    },
    "tags": []
   },
   "outputs": [
    {
     "data": {
      "text/html": [
       "<div>\n",
       "<style scoped>\n",
       "    .dataframe tbody tr th:only-of-type {\n",
       "        vertical-align: middle;\n",
       "    }\n",
       "\n",
       "    .dataframe tbody tr th {\n",
       "        vertical-align: top;\n",
       "    }\n",
       "\n",
       "    .dataframe thead th {\n",
       "        text-align: right;\n",
       "    }\n",
       "</style>\n",
       "<table border=\"1\" class=\"dataframe\">\n",
       "  <thead>\n",
       "    <tr style=\"text-align: right;\">\n",
       "      <th>movieId</th>\n",
       "      <th>1333</th>\n",
       "      <th>1982</th>\n",
       "      <th>3071</th>\n",
       "      <th>1961</th>\n",
       "      <th>2450</th>\n",
       "      <th>2118</th>\n",
       "      <th>2355</th>\n",
       "      <th>2137</th>\n",
       "      <th>4638</th>\n",
       "      <th>1035</th>\n",
       "    </tr>\n",
       "    <tr>\n",
       "      <th>userId</th>\n",
       "      <th></th>\n",
       "      <th></th>\n",
       "      <th></th>\n",
       "      <th></th>\n",
       "      <th></th>\n",
       "      <th></th>\n",
       "      <th></th>\n",
       "      <th></th>\n",
       "      <th></th>\n",
       "      <th></th>\n",
       "    </tr>\n",
       "  </thead>\n",
       "  <tbody>\n",
       "    <tr>\n",
       "      <th>441</th>\n",
       "      <td>NaN</td>\n",
       "      <td>NaN</td>\n",
       "      <td>NaN</td>\n",
       "      <td>NaN</td>\n",
       "      <td>NaN</td>\n",
       "      <td>NaN</td>\n",
       "      <td>NaN</td>\n",
       "      <td>NaN</td>\n",
       "      <td>NaN</td>\n",
       "      <td>NaN</td>\n",
       "    </tr>\n",
       "    <tr>\n",
       "      <th>496</th>\n",
       "      <td>NaN</td>\n",
       "      <td>NaN</td>\n",
       "      <td>NaN</td>\n",
       "      <td>NaN</td>\n",
       "      <td>NaN</td>\n",
       "      <td>NaN</td>\n",
       "      <td>NaN</td>\n",
       "      <td>NaN</td>\n",
       "      <td>NaN</td>\n",
       "      <td>NaN</td>\n",
       "    </tr>\n",
       "    <tr>\n",
       "      <th>549</th>\n",
       "      <td>NaN</td>\n",
       "      <td>NaN</td>\n",
       "      <td>NaN</td>\n",
       "      <td>NaN</td>\n",
       "      <td>NaN</td>\n",
       "      <td>NaN</td>\n",
       "      <td>NaN</td>\n",
       "      <td>NaN</td>\n",
       "      <td>NaN</td>\n",
       "      <td>NaN</td>\n",
       "    </tr>\n",
       "    <tr>\n",
       "      <th>231</th>\n",
       "      <td>NaN</td>\n",
       "      <td>NaN</td>\n",
       "      <td>NaN</td>\n",
       "      <td>NaN</td>\n",
       "      <td>NaN</td>\n",
       "      <td>NaN</td>\n",
       "      <td>NaN</td>\n",
       "      <td>NaN</td>\n",
       "      <td>NaN</td>\n",
       "      <td>NaN</td>\n",
       "    </tr>\n",
       "    <tr>\n",
       "      <th>527</th>\n",
       "      <td>5.0</td>\n",
       "      <td>5.0</td>\n",
       "      <td>5.0</td>\n",
       "      <td>5.0</td>\n",
       "      <td>5.0</td>\n",
       "      <td>5.0</td>\n",
       "      <td>5.0</td>\n",
       "      <td>5.0</td>\n",
       "      <td>5.0</td>\n",
       "      <td>5.0</td>\n",
       "    </tr>\n",
       "    <tr>\n",
       "      <th>537</th>\n",
       "      <td>NaN</td>\n",
       "      <td>NaN</td>\n",
       "      <td>NaN</td>\n",
       "      <td>NaN</td>\n",
       "      <td>NaN</td>\n",
       "      <td>NaN</td>\n",
       "      <td>NaN</td>\n",
       "      <td>NaN</td>\n",
       "      <td>NaN</td>\n",
       "      <td>NaN</td>\n",
       "    </tr>\n",
       "    <tr>\n",
       "      <th>313</th>\n",
       "      <td>NaN</td>\n",
       "      <td>NaN</td>\n",
       "      <td>NaN</td>\n",
       "      <td>NaN</td>\n",
       "      <td>NaN</td>\n",
       "      <td>NaN</td>\n",
       "      <td>NaN</td>\n",
       "      <td>NaN</td>\n",
       "      <td>NaN</td>\n",
       "      <td>NaN</td>\n",
       "    </tr>\n",
       "    <tr>\n",
       "      <th>518</th>\n",
       "      <td>NaN</td>\n",
       "      <td>NaN</td>\n",
       "      <td>NaN</td>\n",
       "      <td>NaN</td>\n",
       "      <td>NaN</td>\n",
       "      <td>NaN</td>\n",
       "      <td>NaN</td>\n",
       "      <td>NaN</td>\n",
       "      <td>NaN</td>\n",
       "      <td>NaN</td>\n",
       "    </tr>\n",
       "    <tr>\n",
       "      <th>244</th>\n",
       "      <td>NaN</td>\n",
       "      <td>NaN</td>\n",
       "      <td>NaN</td>\n",
       "      <td>NaN</td>\n",
       "      <td>NaN</td>\n",
       "      <td>NaN</td>\n",
       "      <td>NaN</td>\n",
       "      <td>NaN</td>\n",
       "      <td>NaN</td>\n",
       "      <td>NaN</td>\n",
       "    </tr>\n",
       "    <tr>\n",
       "      <th>246</th>\n",
       "      <td>NaN</td>\n",
       "      <td>NaN</td>\n",
       "      <td>NaN</td>\n",
       "      <td>NaN</td>\n",
       "      <td>NaN</td>\n",
       "      <td>NaN</td>\n",
       "      <td>NaN</td>\n",
       "      <td>NaN</td>\n",
       "      <td>NaN</td>\n",
       "      <td>NaN</td>\n",
       "    </tr>\n",
       "  </tbody>\n",
       "</table>\n",
       "</div>"
      ],
      "text/plain": [
       "movieId  1333  1982  3071  1961  2450  2118  2355  2137  4638  1035\n",
       "userId                                                             \n",
       "441       NaN   NaN   NaN   NaN   NaN   NaN   NaN   NaN   NaN   NaN\n",
       "496       NaN   NaN   NaN   NaN   NaN   NaN   NaN   NaN   NaN   NaN\n",
       "549       NaN   NaN   NaN   NaN   NaN   NaN   NaN   NaN   NaN   NaN\n",
       "231       NaN   NaN   NaN   NaN   NaN   NaN   NaN   NaN   NaN   NaN\n",
       "527       5.0   5.0   5.0   5.0   5.0   5.0   5.0   5.0   5.0   5.0\n",
       "537       NaN   NaN   NaN   NaN   NaN   NaN   NaN   NaN   NaN   NaN\n",
       "313       NaN   NaN   NaN   NaN   NaN   NaN   NaN   NaN   NaN   NaN\n",
       "518       NaN   NaN   NaN   NaN   NaN   NaN   NaN   NaN   NaN   NaN\n",
       "244       NaN   NaN   NaN   NaN   NaN   NaN   NaN   NaN   NaN   NaN\n",
       "246       NaN   NaN   NaN   NaN   NaN   NaN   NaN   NaN   NaN   NaN"
      ]
     },
     "execution_count": 14,
     "metadata": {},
     "output_type": "execute_result"
    }
   ],
   "source": [
    "df_user.loc[similar_users.index, recommended_items.index]"
   ]
  },
  {
   "cell_type": "markdown",
   "id": "82a98693-a919-459e-9665-6deb7ac881eb",
   "metadata": {},
   "source": [
    "## Item-based Collaborative Filtering"
   ]
  },
  {
   "cell_type": "markdown",
   "id": "00b4d74c-3bdd-49ec-a231-d178555437b7",
   "metadata": {},
   "source": [
    "### Build Item-User Matrix"
   ]
  },
  {
   "cell_type": "code",
   "execution_count": 15,
   "id": "8dba1219-0b5a-43df-ab15-637ea16a40a0",
   "metadata": {
    "execution": {
     "iopub.execute_input": "2021-08-14T02:19:32.308417Z",
     "iopub.status.busy": "2021-08-14T02:19:32.308417Z",
     "iopub.status.idle": "2021-08-14T02:19:32.323421Z",
     "shell.execute_reply": "2021-08-14T02:19:32.322420Z",
     "shell.execute_reply.started": "2021-08-14T02:19:32.308417Z"
    },
    "tags": []
   },
   "outputs": [],
   "source": [
    "user_id = 3\n",
    "item_id = 1"
   ]
  },
  {
   "cell_type": "code",
   "execution_count": 16,
   "id": "64371fd9-e331-4ecc-8e7a-67086ef15027",
   "metadata": {
    "execution": {
     "iopub.execute_input": "2021-08-14T02:19:32.325422Z",
     "iopub.status.busy": "2021-08-14T02:19:32.324420Z",
     "iopub.status.idle": "2021-08-14T02:19:32.449623Z",
     "shell.execute_reply": "2021-08-14T02:19:32.449449Z",
     "shell.execute_reply.started": "2021-08-14T02:19:32.325422Z"
    },
    "tags": []
   },
   "outputs": [
    {
     "data": {
      "text/html": [
       "<div>\n",
       "<style scoped>\n",
       "    .dataframe tbody tr th:only-of-type {\n",
       "        vertical-align: middle;\n",
       "    }\n",
       "\n",
       "    .dataframe tbody tr th {\n",
       "        vertical-align: top;\n",
       "    }\n",
       "\n",
       "    .dataframe thead th {\n",
       "        text-align: right;\n",
       "    }\n",
       "</style>\n",
       "<table border=\"1\" class=\"dataframe\">\n",
       "  <thead>\n",
       "    <tr style=\"text-align: right;\">\n",
       "      <th>userId</th>\n",
       "      <th>1</th>\n",
       "      <th>2</th>\n",
       "      <th>3</th>\n",
       "      <th>4</th>\n",
       "      <th>5</th>\n",
       "      <th>6</th>\n",
       "      <th>7</th>\n",
       "      <th>8</th>\n",
       "      <th>9</th>\n",
       "      <th>10</th>\n",
       "      <th>...</th>\n",
       "      <th>601</th>\n",
       "      <th>602</th>\n",
       "      <th>603</th>\n",
       "      <th>604</th>\n",
       "      <th>605</th>\n",
       "      <th>606</th>\n",
       "      <th>607</th>\n",
       "      <th>608</th>\n",
       "      <th>609</th>\n",
       "      <th>610</th>\n",
       "    </tr>\n",
       "    <tr>\n",
       "      <th>movieId</th>\n",
       "      <th></th>\n",
       "      <th></th>\n",
       "      <th></th>\n",
       "      <th></th>\n",
       "      <th></th>\n",
       "      <th></th>\n",
       "      <th></th>\n",
       "      <th></th>\n",
       "      <th></th>\n",
       "      <th></th>\n",
       "      <th></th>\n",
       "      <th></th>\n",
       "      <th></th>\n",
       "      <th></th>\n",
       "      <th></th>\n",
       "      <th></th>\n",
       "      <th></th>\n",
       "      <th></th>\n",
       "      <th></th>\n",
       "      <th></th>\n",
       "      <th></th>\n",
       "    </tr>\n",
       "  </thead>\n",
       "  <tbody>\n",
       "    <tr>\n",
       "      <th>1</th>\n",
       "      <td>4.0</td>\n",
       "      <td>NaN</td>\n",
       "      <td>NaN</td>\n",
       "      <td>NaN</td>\n",
       "      <td>4.0</td>\n",
       "      <td>NaN</td>\n",
       "      <td>4.5</td>\n",
       "      <td>NaN</td>\n",
       "      <td>NaN</td>\n",
       "      <td>NaN</td>\n",
       "      <td>...</td>\n",
       "      <td>4.0</td>\n",
       "      <td>NaN</td>\n",
       "      <td>4.0</td>\n",
       "      <td>3.0</td>\n",
       "      <td>4.0</td>\n",
       "      <td>2.5</td>\n",
       "      <td>4.0</td>\n",
       "      <td>2.5</td>\n",
       "      <td>3.0</td>\n",
       "      <td>5.0</td>\n",
       "    </tr>\n",
       "    <tr>\n",
       "      <th>2</th>\n",
       "      <td>NaN</td>\n",
       "      <td>NaN</td>\n",
       "      <td>NaN</td>\n",
       "      <td>NaN</td>\n",
       "      <td>NaN</td>\n",
       "      <td>4.0</td>\n",
       "      <td>NaN</td>\n",
       "      <td>4.0</td>\n",
       "      <td>NaN</td>\n",
       "      <td>NaN</td>\n",
       "      <td>...</td>\n",
       "      <td>NaN</td>\n",
       "      <td>4.0</td>\n",
       "      <td>NaN</td>\n",
       "      <td>5.0</td>\n",
       "      <td>3.5</td>\n",
       "      <td>NaN</td>\n",
       "      <td>NaN</td>\n",
       "      <td>2.0</td>\n",
       "      <td>NaN</td>\n",
       "      <td>NaN</td>\n",
       "    </tr>\n",
       "    <tr>\n",
       "      <th>3</th>\n",
       "      <td>4.0</td>\n",
       "      <td>NaN</td>\n",
       "      <td>NaN</td>\n",
       "      <td>NaN</td>\n",
       "      <td>NaN</td>\n",
       "      <td>5.0</td>\n",
       "      <td>NaN</td>\n",
       "      <td>NaN</td>\n",
       "      <td>NaN</td>\n",
       "      <td>NaN</td>\n",
       "      <td>...</td>\n",
       "      <td>NaN</td>\n",
       "      <td>NaN</td>\n",
       "      <td>NaN</td>\n",
       "      <td>NaN</td>\n",
       "      <td>NaN</td>\n",
       "      <td>NaN</td>\n",
       "      <td>NaN</td>\n",
       "      <td>2.0</td>\n",
       "      <td>NaN</td>\n",
       "      <td>NaN</td>\n",
       "    </tr>\n",
       "    <tr>\n",
       "      <th>4</th>\n",
       "      <td>NaN</td>\n",
       "      <td>NaN</td>\n",
       "      <td>NaN</td>\n",
       "      <td>NaN</td>\n",
       "      <td>NaN</td>\n",
       "      <td>3.0</td>\n",
       "      <td>NaN</td>\n",
       "      <td>NaN</td>\n",
       "      <td>NaN</td>\n",
       "      <td>NaN</td>\n",
       "      <td>...</td>\n",
       "      <td>NaN</td>\n",
       "      <td>NaN</td>\n",
       "      <td>NaN</td>\n",
       "      <td>NaN</td>\n",
       "      <td>NaN</td>\n",
       "      <td>NaN</td>\n",
       "      <td>NaN</td>\n",
       "      <td>NaN</td>\n",
       "      <td>NaN</td>\n",
       "      <td>NaN</td>\n",
       "    </tr>\n",
       "    <tr>\n",
       "      <th>5</th>\n",
       "      <td>NaN</td>\n",
       "      <td>NaN</td>\n",
       "      <td>NaN</td>\n",
       "      <td>NaN</td>\n",
       "      <td>NaN</td>\n",
       "      <td>5.0</td>\n",
       "      <td>NaN</td>\n",
       "      <td>NaN</td>\n",
       "      <td>NaN</td>\n",
       "      <td>NaN</td>\n",
       "      <td>...</td>\n",
       "      <td>NaN</td>\n",
       "      <td>NaN</td>\n",
       "      <td>NaN</td>\n",
       "      <td>3.0</td>\n",
       "      <td>NaN</td>\n",
       "      <td>NaN</td>\n",
       "      <td>NaN</td>\n",
       "      <td>NaN</td>\n",
       "      <td>NaN</td>\n",
       "      <td>NaN</td>\n",
       "    </tr>\n",
       "    <tr>\n",
       "      <th>...</th>\n",
       "      <td>...</td>\n",
       "      <td>...</td>\n",
       "      <td>...</td>\n",
       "      <td>...</td>\n",
       "      <td>...</td>\n",
       "      <td>...</td>\n",
       "      <td>...</td>\n",
       "      <td>...</td>\n",
       "      <td>...</td>\n",
       "      <td>...</td>\n",
       "      <td>...</td>\n",
       "      <td>...</td>\n",
       "      <td>...</td>\n",
       "      <td>...</td>\n",
       "      <td>...</td>\n",
       "      <td>...</td>\n",
       "      <td>...</td>\n",
       "      <td>...</td>\n",
       "      <td>...</td>\n",
       "      <td>...</td>\n",
       "      <td>...</td>\n",
       "    </tr>\n",
       "    <tr>\n",
       "      <th>193581</th>\n",
       "      <td>NaN</td>\n",
       "      <td>NaN</td>\n",
       "      <td>NaN</td>\n",
       "      <td>NaN</td>\n",
       "      <td>NaN</td>\n",
       "      <td>NaN</td>\n",
       "      <td>NaN</td>\n",
       "      <td>NaN</td>\n",
       "      <td>NaN</td>\n",
       "      <td>NaN</td>\n",
       "      <td>...</td>\n",
       "      <td>NaN</td>\n",
       "      <td>NaN</td>\n",
       "      <td>NaN</td>\n",
       "      <td>NaN</td>\n",
       "      <td>NaN</td>\n",
       "      <td>NaN</td>\n",
       "      <td>NaN</td>\n",
       "      <td>NaN</td>\n",
       "      <td>NaN</td>\n",
       "      <td>NaN</td>\n",
       "    </tr>\n",
       "    <tr>\n",
       "      <th>193583</th>\n",
       "      <td>NaN</td>\n",
       "      <td>NaN</td>\n",
       "      <td>NaN</td>\n",
       "      <td>NaN</td>\n",
       "      <td>NaN</td>\n",
       "      <td>NaN</td>\n",
       "      <td>NaN</td>\n",
       "      <td>NaN</td>\n",
       "      <td>NaN</td>\n",
       "      <td>NaN</td>\n",
       "      <td>...</td>\n",
       "      <td>NaN</td>\n",
       "      <td>NaN</td>\n",
       "      <td>NaN</td>\n",
       "      <td>NaN</td>\n",
       "      <td>NaN</td>\n",
       "      <td>NaN</td>\n",
       "      <td>NaN</td>\n",
       "      <td>NaN</td>\n",
       "      <td>NaN</td>\n",
       "      <td>NaN</td>\n",
       "    </tr>\n",
       "    <tr>\n",
       "      <th>193585</th>\n",
       "      <td>NaN</td>\n",
       "      <td>NaN</td>\n",
       "      <td>NaN</td>\n",
       "      <td>NaN</td>\n",
       "      <td>NaN</td>\n",
       "      <td>NaN</td>\n",
       "      <td>NaN</td>\n",
       "      <td>NaN</td>\n",
       "      <td>NaN</td>\n",
       "      <td>NaN</td>\n",
       "      <td>...</td>\n",
       "      <td>NaN</td>\n",
       "      <td>NaN</td>\n",
       "      <td>NaN</td>\n",
       "      <td>NaN</td>\n",
       "      <td>NaN</td>\n",
       "      <td>NaN</td>\n",
       "      <td>NaN</td>\n",
       "      <td>NaN</td>\n",
       "      <td>NaN</td>\n",
       "      <td>NaN</td>\n",
       "    </tr>\n",
       "    <tr>\n",
       "      <th>193587</th>\n",
       "      <td>NaN</td>\n",
       "      <td>NaN</td>\n",
       "      <td>NaN</td>\n",
       "      <td>NaN</td>\n",
       "      <td>NaN</td>\n",
       "      <td>NaN</td>\n",
       "      <td>NaN</td>\n",
       "      <td>NaN</td>\n",
       "      <td>NaN</td>\n",
       "      <td>NaN</td>\n",
       "      <td>...</td>\n",
       "      <td>NaN</td>\n",
       "      <td>NaN</td>\n",
       "      <td>NaN</td>\n",
       "      <td>NaN</td>\n",
       "      <td>NaN</td>\n",
       "      <td>NaN</td>\n",
       "      <td>NaN</td>\n",
       "      <td>NaN</td>\n",
       "      <td>NaN</td>\n",
       "      <td>NaN</td>\n",
       "    </tr>\n",
       "    <tr>\n",
       "      <th>193609</th>\n",
       "      <td>NaN</td>\n",
       "      <td>NaN</td>\n",
       "      <td>NaN</td>\n",
       "      <td>NaN</td>\n",
       "      <td>NaN</td>\n",
       "      <td>NaN</td>\n",
       "      <td>NaN</td>\n",
       "      <td>NaN</td>\n",
       "      <td>NaN</td>\n",
       "      <td>NaN</td>\n",
       "      <td>...</td>\n",
       "      <td>NaN</td>\n",
       "      <td>NaN</td>\n",
       "      <td>NaN</td>\n",
       "      <td>NaN</td>\n",
       "      <td>NaN</td>\n",
       "      <td>NaN</td>\n",
       "      <td>NaN</td>\n",
       "      <td>NaN</td>\n",
       "      <td>NaN</td>\n",
       "      <td>NaN</td>\n",
       "    </tr>\n",
       "  </tbody>\n",
       "</table>\n",
       "<p>9724 rows × 610 columns</p>\n",
       "</div>"
      ],
      "text/plain": [
       "userId   1    2    3    4    5    6    7    8    9    10   ...  601  602  603  \\\n",
       "movieId                                                    ...                  \n",
       "1        4.0  NaN  NaN  NaN  4.0  NaN  4.5  NaN  NaN  NaN  ...  4.0  NaN  4.0   \n",
       "2        NaN  NaN  NaN  NaN  NaN  4.0  NaN  4.0  NaN  NaN  ...  NaN  4.0  NaN   \n",
       "3        4.0  NaN  NaN  NaN  NaN  5.0  NaN  NaN  NaN  NaN  ...  NaN  NaN  NaN   \n",
       "4        NaN  NaN  NaN  NaN  NaN  3.0  NaN  NaN  NaN  NaN  ...  NaN  NaN  NaN   \n",
       "5        NaN  NaN  NaN  NaN  NaN  5.0  NaN  NaN  NaN  NaN  ...  NaN  NaN  NaN   \n",
       "...      ...  ...  ...  ...  ...  ...  ...  ...  ...  ...  ...  ...  ...  ...   \n",
       "193581   NaN  NaN  NaN  NaN  NaN  NaN  NaN  NaN  NaN  NaN  ...  NaN  NaN  NaN   \n",
       "193583   NaN  NaN  NaN  NaN  NaN  NaN  NaN  NaN  NaN  NaN  ...  NaN  NaN  NaN   \n",
       "193585   NaN  NaN  NaN  NaN  NaN  NaN  NaN  NaN  NaN  NaN  ...  NaN  NaN  NaN   \n",
       "193587   NaN  NaN  NaN  NaN  NaN  NaN  NaN  NaN  NaN  NaN  ...  NaN  NaN  NaN   \n",
       "193609   NaN  NaN  NaN  NaN  NaN  NaN  NaN  NaN  NaN  NaN  ...  NaN  NaN  NaN   \n",
       "\n",
       "userId   604  605  606  607  608  609  610  \n",
       "movieId                                     \n",
       "1        3.0  4.0  2.5  4.0  2.5  3.0  5.0  \n",
       "2        5.0  3.5  NaN  NaN  2.0  NaN  NaN  \n",
       "3        NaN  NaN  NaN  NaN  2.0  NaN  NaN  \n",
       "4        NaN  NaN  NaN  NaN  NaN  NaN  NaN  \n",
       "5        3.0  NaN  NaN  NaN  NaN  NaN  NaN  \n",
       "...      ...  ...  ...  ...  ...  ...  ...  \n",
       "193581   NaN  NaN  NaN  NaN  NaN  NaN  NaN  \n",
       "193583   NaN  NaN  NaN  NaN  NaN  NaN  NaN  \n",
       "193585   NaN  NaN  NaN  NaN  NaN  NaN  NaN  \n",
       "193587   NaN  NaN  NaN  NaN  NaN  NaN  NaN  \n",
       "193609   NaN  NaN  NaN  NaN  NaN  NaN  NaN  \n",
       "\n",
       "[9724 rows x 610 columns]"
      ]
     },
     "execution_count": 16,
     "metadata": {},
     "output_type": "execute_result"
    }
   ],
   "source": [
    "df_item = df_ratings.pivot(index='movieId', columns='userId', values='rating')\n",
    "df_item"
   ]
  },
  {
   "cell_type": "markdown",
   "id": "d390a038-8d86-4739-bd0f-8a5ea77af96e",
   "metadata": {},
   "source": [
    "### Retrieve *k* most similar items"
   ]
  },
  {
   "cell_type": "markdown",
   "id": "04a5700c-d314-4f61-aad3-14b87f8865c9",
   "metadata": {},
   "source": [
    "#### Preprocessing - Mean Imputation"
   ]
  },
  {
   "cell_type": "code",
   "execution_count": 17,
   "id": "96e6e5ea-340f-44c2-bae5-bfc7aaf86dd0",
   "metadata": {
    "execution": {
     "iopub.execute_input": "2021-08-14T02:19:32.451449Z",
     "iopub.status.busy": "2021-08-14T02:19:32.451449Z",
     "iopub.status.idle": "2021-08-14T02:19:34.889182Z",
     "shell.execute_reply": "2021-08-14T02:19:34.889182Z",
     "shell.execute_reply.started": "2021-08-14T02:19:32.451449Z"
    },
    "tags": []
   },
   "outputs": [
    {
     "data": {
      "text/html": [
       "<div>\n",
       "<style scoped>\n",
       "    .dataframe tbody tr th:only-of-type {\n",
       "        vertical-align: middle;\n",
       "    }\n",
       "\n",
       "    .dataframe tbody tr th {\n",
       "        vertical-align: top;\n",
       "    }\n",
       "\n",
       "    .dataframe thead th {\n",
       "        text-align: right;\n",
       "    }\n",
       "</style>\n",
       "<table border=\"1\" class=\"dataframe\">\n",
       "  <thead>\n",
       "    <tr style=\"text-align: right;\">\n",
       "      <th>userId</th>\n",
       "      <th>1</th>\n",
       "      <th>2</th>\n",
       "      <th>3</th>\n",
       "      <th>4</th>\n",
       "      <th>5</th>\n",
       "      <th>6</th>\n",
       "      <th>7</th>\n",
       "      <th>8</th>\n",
       "      <th>9</th>\n",
       "      <th>10</th>\n",
       "      <th>...</th>\n",
       "      <th>601</th>\n",
       "      <th>602</th>\n",
       "      <th>603</th>\n",
       "      <th>604</th>\n",
       "      <th>605</th>\n",
       "      <th>606</th>\n",
       "      <th>607</th>\n",
       "      <th>608</th>\n",
       "      <th>609</th>\n",
       "      <th>610</th>\n",
       "    </tr>\n",
       "    <tr>\n",
       "      <th>movieId</th>\n",
       "      <th></th>\n",
       "      <th></th>\n",
       "      <th></th>\n",
       "      <th></th>\n",
       "      <th></th>\n",
       "      <th></th>\n",
       "      <th></th>\n",
       "      <th></th>\n",
       "      <th></th>\n",
       "      <th></th>\n",
       "      <th></th>\n",
       "      <th></th>\n",
       "      <th></th>\n",
       "      <th></th>\n",
       "      <th></th>\n",
       "      <th></th>\n",
       "      <th></th>\n",
       "      <th></th>\n",
       "      <th></th>\n",
       "      <th></th>\n",
       "      <th></th>\n",
       "    </tr>\n",
       "  </thead>\n",
       "  <tbody>\n",
       "    <tr>\n",
       "      <th>1</th>\n",
       "      <td>4.000000</td>\n",
       "      <td>3.920930</td>\n",
       "      <td>3.920930</td>\n",
       "      <td>3.920930</td>\n",
       "      <td>4.000000</td>\n",
       "      <td>3.92093</td>\n",
       "      <td>4.500000</td>\n",
       "      <td>3.920930</td>\n",
       "      <td>3.920930</td>\n",
       "      <td>3.920930</td>\n",
       "      <td>...</td>\n",
       "      <td>4.000000</td>\n",
       "      <td>3.920930</td>\n",
       "      <td>4.000000</td>\n",
       "      <td>3.000000</td>\n",
       "      <td>4.000000</td>\n",
       "      <td>2.500000</td>\n",
       "      <td>4.000000</td>\n",
       "      <td>2.500000</td>\n",
       "      <td>3.000000</td>\n",
       "      <td>5.000000</td>\n",
       "    </tr>\n",
       "    <tr>\n",
       "      <th>2</th>\n",
       "      <td>3.431818</td>\n",
       "      <td>3.431818</td>\n",
       "      <td>3.431818</td>\n",
       "      <td>3.431818</td>\n",
       "      <td>3.431818</td>\n",
       "      <td>4.00000</td>\n",
       "      <td>3.431818</td>\n",
       "      <td>4.000000</td>\n",
       "      <td>3.431818</td>\n",
       "      <td>3.431818</td>\n",
       "      <td>...</td>\n",
       "      <td>3.431818</td>\n",
       "      <td>4.000000</td>\n",
       "      <td>3.431818</td>\n",
       "      <td>5.000000</td>\n",
       "      <td>3.500000</td>\n",
       "      <td>3.431818</td>\n",
       "      <td>3.431818</td>\n",
       "      <td>2.000000</td>\n",
       "      <td>3.431818</td>\n",
       "      <td>3.431818</td>\n",
       "    </tr>\n",
       "    <tr>\n",
       "      <th>3</th>\n",
       "      <td>4.000000</td>\n",
       "      <td>3.259615</td>\n",
       "      <td>3.259615</td>\n",
       "      <td>3.259615</td>\n",
       "      <td>3.259615</td>\n",
       "      <td>5.00000</td>\n",
       "      <td>3.259615</td>\n",
       "      <td>3.259615</td>\n",
       "      <td>3.259615</td>\n",
       "      <td>3.259615</td>\n",
       "      <td>...</td>\n",
       "      <td>3.259615</td>\n",
       "      <td>3.259615</td>\n",
       "      <td>3.259615</td>\n",
       "      <td>3.259615</td>\n",
       "      <td>3.259615</td>\n",
       "      <td>3.259615</td>\n",
       "      <td>3.259615</td>\n",
       "      <td>2.000000</td>\n",
       "      <td>3.259615</td>\n",
       "      <td>3.259615</td>\n",
       "    </tr>\n",
       "    <tr>\n",
       "      <th>4</th>\n",
       "      <td>2.357143</td>\n",
       "      <td>2.357143</td>\n",
       "      <td>2.357143</td>\n",
       "      <td>2.357143</td>\n",
       "      <td>2.357143</td>\n",
       "      <td>3.00000</td>\n",
       "      <td>2.357143</td>\n",
       "      <td>2.357143</td>\n",
       "      <td>2.357143</td>\n",
       "      <td>2.357143</td>\n",
       "      <td>...</td>\n",
       "      <td>2.357143</td>\n",
       "      <td>2.357143</td>\n",
       "      <td>2.357143</td>\n",
       "      <td>2.357143</td>\n",
       "      <td>2.357143</td>\n",
       "      <td>2.357143</td>\n",
       "      <td>2.357143</td>\n",
       "      <td>2.357143</td>\n",
       "      <td>2.357143</td>\n",
       "      <td>2.357143</td>\n",
       "    </tr>\n",
       "    <tr>\n",
       "      <th>5</th>\n",
       "      <td>3.071429</td>\n",
       "      <td>3.071429</td>\n",
       "      <td>3.071429</td>\n",
       "      <td>3.071429</td>\n",
       "      <td>3.071429</td>\n",
       "      <td>5.00000</td>\n",
       "      <td>3.071429</td>\n",
       "      <td>3.071429</td>\n",
       "      <td>3.071429</td>\n",
       "      <td>3.071429</td>\n",
       "      <td>...</td>\n",
       "      <td>3.071429</td>\n",
       "      <td>3.071429</td>\n",
       "      <td>3.071429</td>\n",
       "      <td>3.000000</td>\n",
       "      <td>3.071429</td>\n",
       "      <td>3.071429</td>\n",
       "      <td>3.071429</td>\n",
       "      <td>3.071429</td>\n",
       "      <td>3.071429</td>\n",
       "      <td>3.071429</td>\n",
       "    </tr>\n",
       "  </tbody>\n",
       "</table>\n",
       "<p>5 rows × 610 columns</p>\n",
       "</div>"
      ],
      "text/plain": [
       "userId        1         2         3         4         5        6         7    \\\n",
       "movieId                                                                        \n",
       "1        4.000000  3.920930  3.920930  3.920930  4.000000  3.92093  4.500000   \n",
       "2        3.431818  3.431818  3.431818  3.431818  3.431818  4.00000  3.431818   \n",
       "3        4.000000  3.259615  3.259615  3.259615  3.259615  5.00000  3.259615   \n",
       "4        2.357143  2.357143  2.357143  2.357143  2.357143  3.00000  2.357143   \n",
       "5        3.071429  3.071429  3.071429  3.071429  3.071429  5.00000  3.071429   \n",
       "\n",
       "userId        8         9         10   ...       601       602       603  \\\n",
       "movieId                                ...                                 \n",
       "1        3.920930  3.920930  3.920930  ...  4.000000  3.920930  4.000000   \n",
       "2        4.000000  3.431818  3.431818  ...  3.431818  4.000000  3.431818   \n",
       "3        3.259615  3.259615  3.259615  ...  3.259615  3.259615  3.259615   \n",
       "4        2.357143  2.357143  2.357143  ...  2.357143  2.357143  2.357143   \n",
       "5        3.071429  3.071429  3.071429  ...  3.071429  3.071429  3.071429   \n",
       "\n",
       "userId        604       605       606       607       608       609       610  \n",
       "movieId                                                                        \n",
       "1        3.000000  4.000000  2.500000  4.000000  2.500000  3.000000  5.000000  \n",
       "2        5.000000  3.500000  3.431818  3.431818  2.000000  3.431818  3.431818  \n",
       "3        3.259615  3.259615  3.259615  3.259615  2.000000  3.259615  3.259615  \n",
       "4        2.357143  2.357143  2.357143  2.357143  2.357143  2.357143  2.357143  \n",
       "5        3.000000  3.071429  3.071429  3.071429  3.071429  3.071429  3.071429  \n",
       "\n",
       "[5 rows x 610 columns]"
      ]
     },
     "execution_count": 17,
     "metadata": {},
     "output_type": "execute_result"
    }
   ],
   "source": [
    "df_item_filled = df_item.apply(lambda x: x.fillna(x.mean()), axis=1)\n",
    "df_item_filled.head()"
   ]
  },
  {
   "cell_type": "markdown",
   "id": "5e1cc928-ff18-4ce4-808b-17d738df637f",
   "metadata": {},
   "source": [
    "#### Similarity Computation"
   ]
  },
  {
   "cell_type": "code",
   "execution_count": 18,
   "id": "97b2e4b6-e88a-4096-acfa-a2704f8f2364",
   "metadata": {
    "execution": {
     "iopub.execute_input": "2021-08-14T02:19:34.891183Z",
     "iopub.status.busy": "2021-08-14T02:19:34.891183Z",
     "iopub.status.idle": "2021-08-14T02:19:36.082034Z",
     "shell.execute_reply": "2021-08-14T02:19:36.082034Z",
     "shell.execute_reply.started": "2021-08-14T02:19:34.891183Z"
    },
    "tags": []
   },
   "outputs": [
    {
     "name": "stderr",
     "output_type": "stream",
     "text": [
      "C:\\Users\\jude_\\anaconda3\\lib\\site-packages\\scipy\\stats\\stats.py:3913: PearsonRConstantInputWarning: An input array is constant; the correlation coefficent is not defined.\n",
      "  warnings.warn(PearsonRConstantInputWarning())\n"
     ]
    },
    {
     "data": {
      "text/plain": [
       "movieId\n",
       "1275    0.112876\n",
       "2080    0.112139\n",
       "2424    0.110641\n",
       "688     0.092266\n",
       "2288    0.081103\n",
       "dtype: float64"
      ]
     },
     "execution_count": 18,
     "metadata": {},
     "output_type": "execute_result"
    }
   ],
   "source": [
    "k = 5\n",
    "reference_item = df_item_filled.loc[item_id]\n",
    "item_similarities = df_item_filled.apply(lambda x: pearsonr(x, reference_item)[0], axis=1)\n",
    "user_rated_items = df_item.loc[:, user_id].dropna().index.tolist()\n",
    "item_similarities = item_similarities.drop(item_id, axis=0).loc[user_rated_items]\n",
    "similar_items = item_similarities.nlargest(k)\n",
    "similar_items"
   ]
  },
  {
   "cell_type": "markdown",
   "id": "721ec6ea-951e-4d3d-98b1-0d2d3417317d",
   "metadata": {},
   "source": [
    "### Get weighted average of similar items\n",
    "\n",
    "This is how `user_id = 3` will rate `movieId = 1`"
   ]
  },
  {
   "cell_type": "code",
   "execution_count": 19,
   "id": "43ad2c91-92fb-4b98-957d-d99076bafa79",
   "metadata": {
    "execution": {
     "iopub.execute_input": "2021-08-14T02:19:36.084035Z",
     "iopub.status.busy": "2021-08-14T02:19:36.084035Z",
     "iopub.status.idle": "2021-08-14T02:19:36.099038Z",
     "shell.execute_reply": "2021-08-14T02:19:36.098038Z",
     "shell.execute_reply.started": "2021-08-14T02:19:36.084035Z"
    },
    "tags": []
   },
   "outputs": [
    {
     "data": {
      "text/plain": [
       "movieId\n",
       "1275    3.5\n",
       "2080    0.5\n",
       "2424    0.5\n",
       "688     0.5\n",
       "2288    4.0\n",
       "Name: 3, dtype: float64"
      ]
     },
     "execution_count": 19,
     "metadata": {},
     "output_type": "execute_result"
    }
   ],
   "source": [
    "df_similar_items = df_item.loc[similar_items.index, user_id]\n",
    "df_similar_items"
   ]
  },
  {
   "cell_type": "code",
   "execution_count": 20,
   "id": "b2b97a55-5c67-425f-8e54-60128e22a3a3",
   "metadata": {
    "execution": {
     "iopub.execute_input": "2021-08-14T02:19:36.101038Z",
     "iopub.status.busy": "2021-08-14T02:19:36.100038Z",
     "iopub.status.idle": "2021-08-14T02:19:36.115042Z",
     "shell.execute_reply": "2021-08-14T02:19:36.114041Z",
     "shell.execute_reply.started": "2021-08-14T02:19:36.101038Z"
    },
    "tags": []
   },
   "outputs": [
    {
     "data": {
      "text/plain": [
       "1.7229008908010734"
      ]
     },
     "execution_count": 20,
     "metadata": {},
     "output_type": "execute_result"
    }
   ],
   "source": [
    "def get_item_weighted_similarity(x):\n",
    "    weighted_similarity = x*similar_items\n",
    "    norm = similar_items[~weighted_similarity.isna()].sum()\n",
    "    rating = weighted_similarity.sum()/norm\n",
    "    return rating\n",
    "\n",
    "get_item_weighted_similarity(df_similar_items)"
   ]
  },
  {
   "cell_type": "markdown",
   "id": "d3da6470-d64a-43d3-8553-35415e1cd841",
   "metadata": {},
   "source": [
    "## Latent Factor Models"
   ]
  },
  {
   "cell_type": "markdown",
   "id": "f9fd9ae1-3fe4-43cf-8dd0-594cc357500a",
   "metadata": {},
   "source": [
    "### Train-Test Split"
   ]
  },
  {
   "cell_type": "code",
   "execution_count": 337,
   "id": "a03a87e3-1a7c-493c-8779-83bb91f8f3f3",
   "metadata": {
    "execution": {
     "iopub.execute_input": "2021-08-14T03:56:00.715845Z",
     "iopub.status.busy": "2021-08-14T03:56:00.715845Z",
     "iopub.status.idle": "2021-08-14T03:56:00.816885Z",
     "shell.execute_reply": "2021-08-14T03:56:00.815885Z",
     "shell.execute_reply.started": "2021-08-14T03:56:00.715845Z"
    },
    "tags": []
   },
   "outputs": [],
   "source": [
    "train_size = 0.9\n",
    "\n",
    "matrix = df_user.copy()\n",
    "row_boundary, col_boundary = (np.array(matrix.shape) * train_size).astype(int)\n",
    "\n",
    "# hide the test values in train set\n",
    "train_matrix = matrix.copy()\n",
    "train_matrix.iloc[row_boundary:, col_boundary:] = np.nan\n",
    "\n",
    "# hide the train values in test set\n",
    "test_matrix = matrix.copy()\n",
    "test_matrix.iloc[:, :] = np.nan \n",
    "test_matrix.iloc[:row_boundary, :col_boundary] = matrix.iloc[:row_boundary, :col_boundary]"
   ]
  },
  {
   "cell_type": "markdown",
   "id": "fe7184e8-933a-4200-95a1-81cc87d99c44",
   "metadata": {},
   "source": [
    "Sanity check.\n",
    "\n",
    "The test set section of the train matrix should be null."
   ]
  },
  {
   "cell_type": "code",
   "execution_count": 338,
   "id": "312b3809-29e2-4351-b71e-dacc13a8aeda",
   "metadata": {
    "execution": {
     "iopub.execute_input": "2021-08-14T03:56:01.026014Z",
     "iopub.status.busy": "2021-08-14T03:56:01.026014Z",
     "iopub.status.idle": "2021-08-14T03:56:01.073024Z",
     "shell.execute_reply": "2021-08-14T03:56:01.072024Z",
     "shell.execute_reply.started": "2021-08-14T03:56:01.026014Z"
    },
    "tags": []
   },
   "outputs": [
    {
     "data": {
      "text/html": [
       "<div>\n",
       "<style scoped>\n",
       "    .dataframe tbody tr th:only-of-type {\n",
       "        vertical-align: middle;\n",
       "    }\n",
       "\n",
       "    .dataframe tbody tr th {\n",
       "        vertical-align: top;\n",
       "    }\n",
       "\n",
       "    .dataframe thead th {\n",
       "        text-align: right;\n",
       "    }\n",
       "</style>\n",
       "<table border=\"1\" class=\"dataframe\">\n",
       "  <thead>\n",
       "    <tr style=\"text-align: right;\">\n",
       "      <th>movieId</th>\n",
       "      <th>128838</th>\n",
       "      <th>128842</th>\n",
       "      <th>128852</th>\n",
       "      <th>128900</th>\n",
       "      <th>128902</th>\n",
       "      <th>128908</th>\n",
       "      <th>128914</th>\n",
       "      <th>128944</th>\n",
       "      <th>128968</th>\n",
       "      <th>128975</th>\n",
       "      <th>...</th>\n",
       "      <th>193565</th>\n",
       "      <th>193567</th>\n",
       "      <th>193571</th>\n",
       "      <th>193573</th>\n",
       "      <th>193579</th>\n",
       "      <th>193581</th>\n",
       "      <th>193583</th>\n",
       "      <th>193585</th>\n",
       "      <th>193587</th>\n",
       "      <th>193609</th>\n",
       "    </tr>\n",
       "    <tr>\n",
       "      <th>userId</th>\n",
       "      <th></th>\n",
       "      <th></th>\n",
       "      <th></th>\n",
       "      <th></th>\n",
       "      <th></th>\n",
       "      <th></th>\n",
       "      <th></th>\n",
       "      <th></th>\n",
       "      <th></th>\n",
       "      <th></th>\n",
       "      <th></th>\n",
       "      <th></th>\n",
       "      <th></th>\n",
       "      <th></th>\n",
       "      <th></th>\n",
       "      <th></th>\n",
       "      <th></th>\n",
       "      <th></th>\n",
       "      <th></th>\n",
       "      <th></th>\n",
       "      <th></th>\n",
       "    </tr>\n",
       "  </thead>\n",
       "  <tbody>\n",
       "    <tr>\n",
       "      <th>550</th>\n",
       "      <td>NaN</td>\n",
       "      <td>NaN</td>\n",
       "      <td>NaN</td>\n",
       "      <td>NaN</td>\n",
       "      <td>NaN</td>\n",
       "      <td>NaN</td>\n",
       "      <td>NaN</td>\n",
       "      <td>NaN</td>\n",
       "      <td>NaN</td>\n",
       "      <td>NaN</td>\n",
       "      <td>...</td>\n",
       "      <td>NaN</td>\n",
       "      <td>NaN</td>\n",
       "      <td>NaN</td>\n",
       "      <td>NaN</td>\n",
       "      <td>NaN</td>\n",
       "      <td>NaN</td>\n",
       "      <td>NaN</td>\n",
       "      <td>NaN</td>\n",
       "      <td>NaN</td>\n",
       "      <td>NaN</td>\n",
       "    </tr>\n",
       "    <tr>\n",
       "      <th>551</th>\n",
       "      <td>NaN</td>\n",
       "      <td>NaN</td>\n",
       "      <td>NaN</td>\n",
       "      <td>NaN</td>\n",
       "      <td>NaN</td>\n",
       "      <td>NaN</td>\n",
       "      <td>NaN</td>\n",
       "      <td>NaN</td>\n",
       "      <td>NaN</td>\n",
       "      <td>NaN</td>\n",
       "      <td>...</td>\n",
       "      <td>NaN</td>\n",
       "      <td>NaN</td>\n",
       "      <td>NaN</td>\n",
       "      <td>NaN</td>\n",
       "      <td>NaN</td>\n",
       "      <td>NaN</td>\n",
       "      <td>NaN</td>\n",
       "      <td>NaN</td>\n",
       "      <td>NaN</td>\n",
       "      <td>NaN</td>\n",
       "    </tr>\n",
       "    <tr>\n",
       "      <th>552</th>\n",
       "      <td>NaN</td>\n",
       "      <td>NaN</td>\n",
       "      <td>NaN</td>\n",
       "      <td>NaN</td>\n",
       "      <td>NaN</td>\n",
       "      <td>NaN</td>\n",
       "      <td>NaN</td>\n",
       "      <td>NaN</td>\n",
       "      <td>NaN</td>\n",
       "      <td>NaN</td>\n",
       "      <td>...</td>\n",
       "      <td>NaN</td>\n",
       "      <td>NaN</td>\n",
       "      <td>NaN</td>\n",
       "      <td>NaN</td>\n",
       "      <td>NaN</td>\n",
       "      <td>NaN</td>\n",
       "      <td>NaN</td>\n",
       "      <td>NaN</td>\n",
       "      <td>NaN</td>\n",
       "      <td>NaN</td>\n",
       "    </tr>\n",
       "    <tr>\n",
       "      <th>553</th>\n",
       "      <td>NaN</td>\n",
       "      <td>NaN</td>\n",
       "      <td>NaN</td>\n",
       "      <td>NaN</td>\n",
       "      <td>NaN</td>\n",
       "      <td>NaN</td>\n",
       "      <td>NaN</td>\n",
       "      <td>NaN</td>\n",
       "      <td>NaN</td>\n",
       "      <td>NaN</td>\n",
       "      <td>...</td>\n",
       "      <td>NaN</td>\n",
       "      <td>NaN</td>\n",
       "      <td>NaN</td>\n",
       "      <td>NaN</td>\n",
       "      <td>NaN</td>\n",
       "      <td>NaN</td>\n",
       "      <td>NaN</td>\n",
       "      <td>NaN</td>\n",
       "      <td>NaN</td>\n",
       "      <td>NaN</td>\n",
       "    </tr>\n",
       "    <tr>\n",
       "      <th>554</th>\n",
       "      <td>NaN</td>\n",
       "      <td>NaN</td>\n",
       "      <td>NaN</td>\n",
       "      <td>NaN</td>\n",
       "      <td>NaN</td>\n",
       "      <td>NaN</td>\n",
       "      <td>NaN</td>\n",
       "      <td>NaN</td>\n",
       "      <td>NaN</td>\n",
       "      <td>NaN</td>\n",
       "      <td>...</td>\n",
       "      <td>NaN</td>\n",
       "      <td>NaN</td>\n",
       "      <td>NaN</td>\n",
       "      <td>NaN</td>\n",
       "      <td>NaN</td>\n",
       "      <td>NaN</td>\n",
       "      <td>NaN</td>\n",
       "      <td>NaN</td>\n",
       "      <td>NaN</td>\n",
       "      <td>NaN</td>\n",
       "    </tr>\n",
       "    <tr>\n",
       "      <th>...</th>\n",
       "      <td>...</td>\n",
       "      <td>...</td>\n",
       "      <td>...</td>\n",
       "      <td>...</td>\n",
       "      <td>...</td>\n",
       "      <td>...</td>\n",
       "      <td>...</td>\n",
       "      <td>...</td>\n",
       "      <td>...</td>\n",
       "      <td>...</td>\n",
       "      <td>...</td>\n",
       "      <td>...</td>\n",
       "      <td>...</td>\n",
       "      <td>...</td>\n",
       "      <td>...</td>\n",
       "      <td>...</td>\n",
       "      <td>...</td>\n",
       "      <td>...</td>\n",
       "      <td>...</td>\n",
       "      <td>...</td>\n",
       "      <td>...</td>\n",
       "    </tr>\n",
       "    <tr>\n",
       "      <th>606</th>\n",
       "      <td>NaN</td>\n",
       "      <td>NaN</td>\n",
       "      <td>NaN</td>\n",
       "      <td>NaN</td>\n",
       "      <td>NaN</td>\n",
       "      <td>NaN</td>\n",
       "      <td>NaN</td>\n",
       "      <td>NaN</td>\n",
       "      <td>NaN</td>\n",
       "      <td>NaN</td>\n",
       "      <td>...</td>\n",
       "      <td>NaN</td>\n",
       "      <td>NaN</td>\n",
       "      <td>NaN</td>\n",
       "      <td>NaN</td>\n",
       "      <td>NaN</td>\n",
       "      <td>NaN</td>\n",
       "      <td>NaN</td>\n",
       "      <td>NaN</td>\n",
       "      <td>NaN</td>\n",
       "      <td>NaN</td>\n",
       "    </tr>\n",
       "    <tr>\n",
       "      <th>607</th>\n",
       "      <td>NaN</td>\n",
       "      <td>NaN</td>\n",
       "      <td>NaN</td>\n",
       "      <td>NaN</td>\n",
       "      <td>NaN</td>\n",
       "      <td>NaN</td>\n",
       "      <td>NaN</td>\n",
       "      <td>NaN</td>\n",
       "      <td>NaN</td>\n",
       "      <td>NaN</td>\n",
       "      <td>...</td>\n",
       "      <td>NaN</td>\n",
       "      <td>NaN</td>\n",
       "      <td>NaN</td>\n",
       "      <td>NaN</td>\n",
       "      <td>NaN</td>\n",
       "      <td>NaN</td>\n",
       "      <td>NaN</td>\n",
       "      <td>NaN</td>\n",
       "      <td>NaN</td>\n",
       "      <td>NaN</td>\n",
       "    </tr>\n",
       "    <tr>\n",
       "      <th>608</th>\n",
       "      <td>NaN</td>\n",
       "      <td>NaN</td>\n",
       "      <td>NaN</td>\n",
       "      <td>NaN</td>\n",
       "      <td>NaN</td>\n",
       "      <td>NaN</td>\n",
       "      <td>NaN</td>\n",
       "      <td>NaN</td>\n",
       "      <td>NaN</td>\n",
       "      <td>NaN</td>\n",
       "      <td>...</td>\n",
       "      <td>NaN</td>\n",
       "      <td>NaN</td>\n",
       "      <td>NaN</td>\n",
       "      <td>NaN</td>\n",
       "      <td>NaN</td>\n",
       "      <td>NaN</td>\n",
       "      <td>NaN</td>\n",
       "      <td>NaN</td>\n",
       "      <td>NaN</td>\n",
       "      <td>NaN</td>\n",
       "    </tr>\n",
       "    <tr>\n",
       "      <th>609</th>\n",
       "      <td>NaN</td>\n",
       "      <td>NaN</td>\n",
       "      <td>NaN</td>\n",
       "      <td>NaN</td>\n",
       "      <td>NaN</td>\n",
       "      <td>NaN</td>\n",
       "      <td>NaN</td>\n",
       "      <td>NaN</td>\n",
       "      <td>NaN</td>\n",
       "      <td>NaN</td>\n",
       "      <td>...</td>\n",
       "      <td>NaN</td>\n",
       "      <td>NaN</td>\n",
       "      <td>NaN</td>\n",
       "      <td>NaN</td>\n",
       "      <td>NaN</td>\n",
       "      <td>NaN</td>\n",
       "      <td>NaN</td>\n",
       "      <td>NaN</td>\n",
       "      <td>NaN</td>\n",
       "      <td>NaN</td>\n",
       "    </tr>\n",
       "    <tr>\n",
       "      <th>610</th>\n",
       "      <td>NaN</td>\n",
       "      <td>NaN</td>\n",
       "      <td>NaN</td>\n",
       "      <td>NaN</td>\n",
       "      <td>NaN</td>\n",
       "      <td>NaN</td>\n",
       "      <td>NaN</td>\n",
       "      <td>NaN</td>\n",
       "      <td>NaN</td>\n",
       "      <td>NaN</td>\n",
       "      <td>...</td>\n",
       "      <td>NaN</td>\n",
       "      <td>NaN</td>\n",
       "      <td>NaN</td>\n",
       "      <td>NaN</td>\n",
       "      <td>NaN</td>\n",
       "      <td>NaN</td>\n",
       "      <td>NaN</td>\n",
       "      <td>NaN</td>\n",
       "      <td>NaN</td>\n",
       "      <td>NaN</td>\n",
       "    </tr>\n",
       "  </tbody>\n",
       "</table>\n",
       "<p>61 rows × 973 columns</p>\n",
       "</div>"
      ],
      "text/plain": [
       "movieId  128838  128842  128852  128900  128902  128908  128914  128944  \\\n",
       "userId                                                                    \n",
       "550         NaN     NaN     NaN     NaN     NaN     NaN     NaN     NaN   \n",
       "551         NaN     NaN     NaN     NaN     NaN     NaN     NaN     NaN   \n",
       "552         NaN     NaN     NaN     NaN     NaN     NaN     NaN     NaN   \n",
       "553         NaN     NaN     NaN     NaN     NaN     NaN     NaN     NaN   \n",
       "554         NaN     NaN     NaN     NaN     NaN     NaN     NaN     NaN   \n",
       "...         ...     ...     ...     ...     ...     ...     ...     ...   \n",
       "606         NaN     NaN     NaN     NaN     NaN     NaN     NaN     NaN   \n",
       "607         NaN     NaN     NaN     NaN     NaN     NaN     NaN     NaN   \n",
       "608         NaN     NaN     NaN     NaN     NaN     NaN     NaN     NaN   \n",
       "609         NaN     NaN     NaN     NaN     NaN     NaN     NaN     NaN   \n",
       "610         NaN     NaN     NaN     NaN     NaN     NaN     NaN     NaN   \n",
       "\n",
       "movieId  128968  128975  ...  193565  193567  193571  193573  193579  193581  \\\n",
       "userId                   ...                                                   \n",
       "550         NaN     NaN  ...     NaN     NaN     NaN     NaN     NaN     NaN   \n",
       "551         NaN     NaN  ...     NaN     NaN     NaN     NaN     NaN     NaN   \n",
       "552         NaN     NaN  ...     NaN     NaN     NaN     NaN     NaN     NaN   \n",
       "553         NaN     NaN  ...     NaN     NaN     NaN     NaN     NaN     NaN   \n",
       "554         NaN     NaN  ...     NaN     NaN     NaN     NaN     NaN     NaN   \n",
       "...         ...     ...  ...     ...     ...     ...     ...     ...     ...   \n",
       "606         NaN     NaN  ...     NaN     NaN     NaN     NaN     NaN     NaN   \n",
       "607         NaN     NaN  ...     NaN     NaN     NaN     NaN     NaN     NaN   \n",
       "608         NaN     NaN  ...     NaN     NaN     NaN     NaN     NaN     NaN   \n",
       "609         NaN     NaN  ...     NaN     NaN     NaN     NaN     NaN     NaN   \n",
       "610         NaN     NaN  ...     NaN     NaN     NaN     NaN     NaN     NaN   \n",
       "\n",
       "movieId  193583  193585  193587  193609  \n",
       "userId                                   \n",
       "550         NaN     NaN     NaN     NaN  \n",
       "551         NaN     NaN     NaN     NaN  \n",
       "552         NaN     NaN     NaN     NaN  \n",
       "553         NaN     NaN     NaN     NaN  \n",
       "554         NaN     NaN     NaN     NaN  \n",
       "...         ...     ...     ...     ...  \n",
       "606         NaN     NaN     NaN     NaN  \n",
       "607         NaN     NaN     NaN     NaN  \n",
       "608         NaN     NaN     NaN     NaN  \n",
       "609         NaN     NaN     NaN     NaN  \n",
       "610         NaN     NaN     NaN     NaN  \n",
       "\n",
       "[61 rows x 973 columns]"
      ]
     },
     "execution_count": 338,
     "metadata": {},
     "output_type": "execute_result"
    }
   ],
   "source": [
    "train_matrix.iloc[row_boundary:, col_boundary:]"
   ]
  },
  {
   "cell_type": "code",
   "execution_count": 339,
   "id": "4391307d-db68-4d9d-bf10-1f1f5bb230cd",
   "metadata": {
    "execution": {
     "iopub.execute_input": "2021-08-14T03:56:01.158906Z",
     "iopub.status.busy": "2021-08-14T03:56:01.158906Z",
     "iopub.status.idle": "2021-08-14T03:56:01.167908Z",
     "shell.execute_reply": "2021-08-14T03:56:01.166909Z",
     "shell.execute_reply.started": "2021-08-14T03:56:01.158906Z"
    },
    "tags": []
   },
   "outputs": [
    {
     "data": {
      "text/plain": [
       "0"
      ]
     },
     "execution_count": 339,
     "metadata": {},
     "output_type": "execute_result"
    }
   ],
   "source": [
    "def check_not_null_count(values:np.array):\n",
    "    return np.isfinite(values).sum()    \n",
    "\n",
    "check_not_null_count(train_matrix.iloc[row_boundary:, col_boundary:].values)"
   ]
  },
  {
   "cell_type": "markdown",
   "id": "7f6d0a22-3a28-4144-940f-9ed90783ccd8",
   "metadata": {},
   "source": [
    "Sanity check.\n",
    "\n",
    "The test set section of the test matrix should contain non-null values."
   ]
  },
  {
   "cell_type": "code",
   "execution_count": 340,
   "id": "44db4fd4-0e2d-4f13-a949-b38dd39216bf",
   "metadata": {
    "execution": {
     "iopub.execute_input": "2021-08-14T03:56:01.785714Z",
     "iopub.status.busy": "2021-08-14T03:56:01.785714Z",
     "iopub.status.idle": "2021-08-14T03:56:01.800718Z",
     "shell.execute_reply": "2021-08-14T03:56:01.799718Z",
     "shell.execute_reply.started": "2021-08-14T03:56:01.785714Z"
    },
    "tags": []
   },
   "outputs": [],
   "source": [
    "# test_matrix.iloc[:row_boundary, :col_boundary]"
   ]
  },
  {
   "cell_type": "code",
   "execution_count": 341,
   "id": "cfd7b950-5df6-49a7-ac5b-4a4660560cb4",
   "metadata": {
    "execution": {
     "iopub.execute_input": "2021-08-14T03:56:02.183757Z",
     "iopub.status.busy": "2021-08-14T03:56:02.182756Z",
     "iopub.status.idle": "2021-08-14T03:56:02.210953Z",
     "shell.execute_reply": "2021-08-14T03:56:02.209953Z",
     "shell.execute_reply.started": "2021-08-14T03:56:02.183757Z"
    },
    "tags": []
   },
   "outputs": [
    {
     "data": {
      "text/plain": [
       "82959"
      ]
     },
     "execution_count": 341,
     "metadata": {},
     "output_type": "execute_result"
    }
   ],
   "source": [
    "check_not_null_count(test_matrix.iloc[:row_boundary, :col_boundary].values)"
   ]
  },
  {
   "cell_type": "markdown",
   "id": "c4d197ab-cafa-4b59-b75d-63e90fcea935",
   "metadata": {},
   "source": [
    "The non-null count for the test set section should match the non-null count for the whole test set matrix."
   ]
  },
  {
   "cell_type": "code",
   "execution_count": 342,
   "id": "2545b73a-a50b-4c6f-a063-5b8f841bd68b",
   "metadata": {
    "execution": {
     "iopub.execute_input": "2021-08-14T03:56:02.655785Z",
     "iopub.status.busy": "2021-08-14T03:56:02.655785Z",
     "iopub.status.idle": "2021-08-14T03:56:02.685792Z",
     "shell.execute_reply": "2021-08-14T03:56:02.684792Z",
     "shell.execute_reply.started": "2021-08-14T03:56:02.655785Z"
    },
    "tags": []
   },
   "outputs": [
    {
     "data": {
      "text/plain": [
       "82959"
      ]
     },
     "execution_count": 342,
     "metadata": {},
     "output_type": "execute_result"
    }
   ],
   "source": [
    "check_not_null_count(test_matrix.values)"
   ]
  },
  {
   "cell_type": "markdown",
   "id": "d3c28e34-4a34-43d4-bb21-9f528e779a7e",
   "metadata": {},
   "source": [
    "Our dataset is very sparse. We only have this much non-null values:"
   ]
  },
  {
   "cell_type": "code",
   "execution_count": 392,
   "id": "3011ce00-7dc2-4772-b266-057bd8aee736",
   "metadata": {
    "execution": {
     "iopub.execute_input": "2021-08-14T05:40:28.710123Z",
     "iopub.status.busy": "2021-08-14T05:40:28.709123Z",
     "iopub.status.idle": "2021-08-14T05:40:28.748131Z",
     "shell.execute_reply": "2021-08-14T05:40:28.747131Z",
     "shell.execute_reply.started": "2021-08-14T05:40:28.710123Z"
    },
    "tags": []
   },
   "outputs": [
    {
     "name": "stdout",
     "output_type": "stream",
     "text": [
      "Non-null values: 1.700%\n"
     ]
    }
   ],
   "source": [
    "print(f'Non-null values: {check_not_null_count(matrix.values) / (matrix.shape[0]*matrix.shape[1]):.3%}')"
   ]
  },
  {
   "cell_type": "markdown",
   "id": "0dd130e9-8789-4a86-978c-46319128fe2e",
   "metadata": {},
   "source": [
    "### Singular Value Decomposition"
   ]
  },
  {
   "cell_type": "code",
   "execution_count": 351,
   "id": "375f00c9-f0f0-48ad-a9e0-f846a2fc9f1d",
   "metadata": {
    "execution": {
     "iopub.execute_input": "2021-08-14T03:57:20.073670Z",
     "iopub.status.busy": "2021-08-14T03:57:20.073670Z",
     "iopub.status.idle": "2021-08-14T03:57:22.651001Z",
     "shell.execute_reply": "2021-08-14T03:57:22.650000Z",
     "shell.execute_reply.started": "2021-08-14T03:57:20.073670Z"
    },
    "tags": []
   },
   "outputs": [
    {
     "data": {
      "text/plain": [
       "((610, 610), (610,), (610, 9724))"
      ]
     },
     "execution_count": 351,
     "metadata": {},
     "output_type": "execute_result"
    }
   ],
   "source": [
    "matrix_imputed = train_matrix.apply(lambda x: x.fillna(x.mean()), axis=1)\n",
    "# matrix_imputed = train_matrix.fillna(0)\n",
    "u, s, vh = np.linalg.svd(matrix_imputed, full_matrices=False)\n",
    "u.shape, s.shape, vh.shape"
   ]
  },
  {
   "cell_type": "code",
   "execution_count": 352,
   "id": "278b8a65-693e-48fa-a550-4e9f826033b1",
   "metadata": {
    "execution": {
     "iopub.execute_input": "2021-08-14T03:57:22.654001Z",
     "iopub.status.busy": "2021-08-14T03:57:22.653001Z",
     "iopub.status.idle": "2021-08-14T03:57:22.777032Z",
     "shell.execute_reply": "2021-08-14T03:57:22.776032Z",
     "shell.execute_reply.started": "2021-08-14T03:57:22.654001Z"
    },
    "tags": []
   },
   "outputs": [
    {
     "data": {
      "text/plain": [
       "(610, 9724)"
      ]
     },
     "execution_count": 352,
     "metadata": {},
     "output_type": "execute_result"
    }
   ],
   "source": [
    "factors = 600\n",
    "reconstructed_matrix = u[:, :factors] @ np.diag(s[:factors]) @ vh[:factors, :]\n",
    "reconstructed_matrix.shape"
   ]
  },
  {
   "cell_type": "code",
   "execution_count": 353,
   "id": "f818d9d1-17b4-4423-93d7-1375313f11f2",
   "metadata": {
    "execution": {
     "iopub.execute_input": "2021-08-14T03:57:22.779033Z",
     "iopub.status.busy": "2021-08-14T03:57:22.779033Z",
     "iopub.status.idle": "2021-08-14T03:57:22.793549Z",
     "shell.execute_reply": "2021-08-14T03:57:22.791549Z",
     "shell.execute_reply.started": "2021-08-14T03:57:22.779033Z"
    },
    "tags": []
   },
   "outputs": [],
   "source": [
    "# train_matrix.iloc[:10,:10]"
   ]
  },
  {
   "cell_type": "markdown",
   "id": "37da6e1e-e27c-4140-bc66-41dea87230cd",
   "metadata": {},
   "source": [
    "#### Train Set Score"
   ]
  },
  {
   "cell_type": "code",
   "execution_count": 354,
   "id": "a62740a2-3a32-4d72-9c98-c4c76fa04a54",
   "metadata": {
    "execution": {
     "iopub.execute_input": "2021-08-14T03:57:22.795549Z",
     "iopub.status.busy": "2021-08-14T03:57:22.795549Z",
     "iopub.status.idle": "2021-08-14T03:57:23.189774Z",
     "shell.execute_reply": "2021-08-14T03:57:23.188774Z",
     "shell.execute_reply.started": "2021-08-14T03:57:22.795549Z"
    },
    "tags": []
   },
   "outputs": [
    {
     "data": {
      "text/html": [
       "<div>\n",
       "<style scoped>\n",
       "    .dataframe tbody tr th:only-of-type {\n",
       "        vertical-align: middle;\n",
       "    }\n",
       "\n",
       "    .dataframe tbody tr th {\n",
       "        vertical-align: top;\n",
       "    }\n",
       "\n",
       "    .dataframe thead th {\n",
       "        text-align: right;\n",
       "    }\n",
       "</style>\n",
       "<table border=\"1\" class=\"dataframe\">\n",
       "  <thead>\n",
       "    <tr style=\"text-align: right;\">\n",
       "      <th></th>\n",
       "      <th>userId</th>\n",
       "      <th>movieId</th>\n",
       "      <th>actual</th>\n",
       "      <th>pred</th>\n",
       "    </tr>\n",
       "  </thead>\n",
       "  <tbody>\n",
       "    <tr>\n",
       "      <th>0</th>\n",
       "      <td>1</td>\n",
       "      <td>1</td>\n",
       "      <td>4.0</td>\n",
       "      <td>3.998999</td>\n",
       "    </tr>\n",
       "    <tr>\n",
       "      <th>1</th>\n",
       "      <td>2</td>\n",
       "      <td>1</td>\n",
       "      <td>NaN</td>\n",
       "      <td>3.945500</td>\n",
       "    </tr>\n",
       "    <tr>\n",
       "      <th>2</th>\n",
       "      <td>3</td>\n",
       "      <td>1</td>\n",
       "      <td>NaN</td>\n",
       "      <td>2.436001</td>\n",
       "    </tr>\n",
       "    <tr>\n",
       "      <th>3</th>\n",
       "      <td>4</td>\n",
       "      <td>1</td>\n",
       "      <td>NaN</td>\n",
       "      <td>3.554769</td>\n",
       "    </tr>\n",
       "    <tr>\n",
       "      <th>4</th>\n",
       "      <td>5</td>\n",
       "      <td>1</td>\n",
       "      <td>4.0</td>\n",
       "      <td>3.998107</td>\n",
       "    </tr>\n",
       "    <tr>\n",
       "      <th>...</th>\n",
       "      <td>...</td>\n",
       "      <td>...</td>\n",
       "      <td>...</td>\n",
       "      <td>...</td>\n",
       "    </tr>\n",
       "    <tr>\n",
       "      <th>5931635</th>\n",
       "      <td>606</td>\n",
       "      <td>193609</td>\n",
       "      <td>NaN</td>\n",
       "      <td>3.657400</td>\n",
       "    </tr>\n",
       "    <tr>\n",
       "      <th>5931636</th>\n",
       "      <td>607</td>\n",
       "      <td>193609</td>\n",
       "      <td>NaN</td>\n",
       "      <td>3.786097</td>\n",
       "    </tr>\n",
       "    <tr>\n",
       "      <th>5931637</th>\n",
       "      <td>608</td>\n",
       "      <td>193609</td>\n",
       "      <td>NaN</td>\n",
       "      <td>3.134173</td>\n",
       "    </tr>\n",
       "    <tr>\n",
       "      <th>5931638</th>\n",
       "      <td>609</td>\n",
       "      <td>193609</td>\n",
       "      <td>NaN</td>\n",
       "      <td>3.270429</td>\n",
       "    </tr>\n",
       "    <tr>\n",
       "      <th>5931639</th>\n",
       "      <td>610</td>\n",
       "      <td>193609</td>\n",
       "      <td>NaN</td>\n",
       "      <td>3.691516</td>\n",
       "    </tr>\n",
       "  </tbody>\n",
       "</table>\n",
       "<p>5931640 rows × 4 columns</p>\n",
       "</div>"
      ],
      "text/plain": [
       "         userId movieId  actual      pred\n",
       "0             1       1     4.0  3.998999\n",
       "1             2       1     NaN  3.945500\n",
       "2             3       1     NaN  2.436001\n",
       "3             4       1     NaN  3.554769\n",
       "4             5       1     4.0  3.998107\n",
       "...         ...     ...     ...       ...\n",
       "5931635     606  193609     NaN  3.657400\n",
       "5931636     607  193609     NaN  3.786097\n",
       "5931637     608  193609     NaN  3.134173\n",
       "5931638     609  193609     NaN  3.270429\n",
       "5931639     610  193609     NaN  3.691516\n",
       "\n",
       "[5931640 rows x 4 columns]"
      ]
     },
     "execution_count": 354,
     "metadata": {},
     "output_type": "execute_result"
    }
   ],
   "source": [
    "train_ratings = train_matrix.reset_index().melt(id_vars=['userId'])\n",
    "train_ratings.rename({'value':'actual'}, inplace=True, axis=1)\n",
    "train_ratings['pred'] = reconstructed_matrix.T.flatten()\n",
    "train_ratings"
   ]
  },
  {
   "cell_type": "code",
   "execution_count": 355,
   "id": "847fc5d4-5354-4c9e-8247-19bd786d1fcf",
   "metadata": {
    "execution": {
     "iopub.execute_input": "2021-08-14T03:57:23.191774Z",
     "iopub.status.busy": "2021-08-14T03:57:23.191774Z",
     "iopub.status.idle": "2021-08-14T03:57:23.205777Z",
     "shell.execute_reply": "2021-08-14T03:57:23.204778Z",
     "shell.execute_reply.started": "2021-08-14T03:57:23.191774Z"
    },
    "tags": []
   },
   "outputs": [],
   "source": [
    "# true_ratings = train_matrix.values.flatten()\n",
    "# predicted_ratings = reconstructed_matrix.flatten()\n",
    "# print(f\"Original Size: {len(true_ratings)}\")\n",
    "# mask = np.argwhere(~np.isnan(true_ratings))\n",
    "# true_ratings = true_ratings[mask]\n",
    "# predicted_ratings = predicted_ratings[mask]\n",
    "# print(f\"After Filtering Nulls Size: {len(true_ratings)}\")"
   ]
  },
  {
   "cell_type": "code",
   "execution_count": 356,
   "id": "666afa8f-449f-44f1-aff3-ad3013cfeb61",
   "metadata": {
    "execution": {
     "iopub.execute_input": "2021-08-14T03:57:23.331961Z",
     "iopub.status.busy": "2021-08-14T03:57:23.331961Z",
     "iopub.status.idle": "2021-08-14T03:57:23.840479Z",
     "shell.execute_reply": "2021-08-14T03:57:23.839479Z",
     "shell.execute_reply.started": "2021-08-14T03:57:23.331961Z"
    },
    "tags": []
   },
   "outputs": [
    {
     "name": "stdout",
     "output_type": "stream",
     "text": [
      "Original Size: 5931640\n",
      "After Filtering Nulls Size: 100411\n",
      "RMSE: 0.003960286952709188\n"
     ]
    }
   ],
   "source": [
    "from sklearn.metrics import mean_squared_error\n",
    "\n",
    "# rmse = mean_squared_error(true_ratings, predicted_ratings, squared=False)\n",
    "\n",
    "print(f\"Original Size: {train_ratings.shape[0]}\")\n",
    "train_ratings_filtered = train_ratings.dropna()\n",
    "print(f\"After Filtering Nulls Size: {train_ratings_filtered.shape[0]}\")\n",
    "rmse = mean_squared_error(train_ratings_filtered['actual'], train_ratings_filtered['pred'], squared=False)\n",
    "print(f'RMSE: {rmse}')"
   ]
  },
  {
   "cell_type": "markdown",
   "id": "913967ab-5336-4e34-a71b-995cb8a4c306",
   "metadata": {},
   "source": [
    "#### Test Set Score"
   ]
  },
  {
   "cell_type": "code",
   "execution_count": 357,
   "id": "b32d8747-3244-4223-88f3-2b241621815b",
   "metadata": {
    "execution": {
     "iopub.execute_input": "2021-08-14T03:57:26.193664Z",
     "iopub.status.busy": "2021-08-14T03:57:26.193664Z",
     "iopub.status.idle": "2021-08-14T03:57:27.110532Z",
     "shell.execute_reply": "2021-08-14T03:57:27.109532Z",
     "shell.execute_reply.started": "2021-08-14T03:57:26.193664Z"
    },
    "tags": []
   },
   "outputs": [
    {
     "name": "stdout",
     "output_type": "stream",
     "text": [
      "Original Size: 5931640\n",
      "After Filtering Nulls Size: 82959\n",
      "RMSE: 0.004128927247791236\n"
     ]
    }
   ],
   "source": [
    "test_ratings = test_matrix.reset_index().melt(id_vars=['userId'])\n",
    "test_ratings.rename({'value':'actual'}, inplace=True, axis=1)\n",
    "test_ratings['pred'] = reconstructed_matrix.T.flatten()\n",
    "\n",
    "print(f\"Original Size: {test_ratings.shape[0]}\")\n",
    "test_ratings_filtered = test_ratings.dropna()\n",
    "print(f\"After Filtering Nulls Size: {test_ratings_filtered.shape[0]}\")\n",
    "rmse = mean_squared_error(test_ratings_filtered['actual'], test_ratings_filtered['pred'], squared=False)\n",
    "print(f'RMSE: {rmse}')"
   ]
  },
  {
   "cell_type": "markdown",
   "id": "cd3d6a34-aa52-4138-8990-ca291a5a2a77",
   "metadata": {},
   "source": [
    "### Non-Negative Matrix Factorization"
   ]
  },
  {
   "cell_type": "code",
   "execution_count": 370,
   "id": "369ec84e-596d-4223-8671-3a02e737bf5f",
   "metadata": {
    "execution": {
     "iopub.execute_input": "2021-08-14T03:59:22.324802Z",
     "iopub.status.busy": "2021-08-14T03:59:22.324802Z",
     "iopub.status.idle": "2021-08-14T04:02:44.425984Z",
     "shell.execute_reply": "2021-08-14T04:02:44.424984Z",
     "shell.execute_reply.started": "2021-08-14T03:59:22.324802Z"
    },
    "tags": []
   },
   "outputs": [
    {
     "name": "stderr",
     "output_type": "stream",
     "text": [
      "C:\\Users\\jude_\\anaconda3\\lib\\site-packages\\sklearn\\decomposition\\_nmf.py:1090: ConvergenceWarning: Maximum number of iterations 50 reached. Increase it to improve convergence.\n",
      "  warnings.warn(\"Maximum number of iterations %d reached. Increase it to\"\n"
     ]
    },
    {
     "data": {
      "text/plain": [
       "((610, 500), (500, 9724), 50)"
      ]
     },
     "execution_count": 370,
     "metadata": {},
     "output_type": "execute_result"
    }
   ],
   "source": [
    "from sklearn.decomposition import non_negative_factorization\n",
    "\n",
    "matrix_imputed = train_matrix.apply(lambda x: x.fillna(x.mean()), axis=1)\n",
    "W, H, n_iter = non_negative_factorization(matrix_imputed, n_components=500, \n",
    "                                          init='nndsvd', random_state=0, max_iter=50)\n",
    "W.shape, H.shape, n_iter"
   ]
  },
  {
   "cell_type": "code",
   "execution_count": 371,
   "id": "59de17bc-7dea-4a40-bcf7-9a9569cf3824",
   "metadata": {
    "execution": {
     "iopub.execute_input": "2021-08-14T04:02:44.428988Z",
     "iopub.status.busy": "2021-08-14T04:02:44.427998Z",
     "iopub.status.idle": "2021-08-14T04:02:44.570995Z",
     "shell.execute_reply": "2021-08-14T04:02:44.568994Z",
     "shell.execute_reply.started": "2021-08-14T04:02:44.428988Z"
    },
    "tags": []
   },
   "outputs": [
    {
     "data": {
      "text/plain": [
       "(610, 9724)"
      ]
     },
     "execution_count": 371,
     "metadata": {},
     "output_type": "execute_result"
    }
   ],
   "source": [
    "reconstructed_matrix = W @ H\n",
    "reconstructed_matrix.shape"
   ]
  },
  {
   "cell_type": "markdown",
   "id": "562cf27b-096a-4a11-a146-7202eb9060bc",
   "metadata": {},
   "source": [
    "#### Train Set Score"
   ]
  },
  {
   "cell_type": "code",
   "execution_count": 372,
   "id": "f98df7d0-92b1-4b06-a0a1-0f6b8659d22e",
   "metadata": {
    "execution": {
     "iopub.execute_input": "2021-08-14T04:02:44.573995Z",
     "iopub.status.busy": "2021-08-14T04:02:44.573995Z",
     "iopub.status.idle": "2021-08-14T04:02:45.510461Z",
     "shell.execute_reply": "2021-08-14T04:02:45.509462Z",
     "shell.execute_reply.started": "2021-08-14T04:02:44.573995Z"
    },
    "tags": []
   },
   "outputs": [
    {
     "name": "stdout",
     "output_type": "stream",
     "text": [
      "Original Size: 5931640\n",
      "After Filtering Nulls Size: 100411\n",
      "RMSE: 0.3433503967285106\n"
     ]
    }
   ],
   "source": [
    "train_ratings = train_matrix.reset_index().melt(id_vars=['userId'])\n",
    "train_ratings.rename({'value':'actual'}, inplace=True, axis=1)\n",
    "train_ratings['pred'] = reconstructed_matrix.T.flatten()\n",
    "\n",
    "print(f\"Original Size: {train_ratings.shape[0]}\")\n",
    "train_ratings_filtered = train_ratings.dropna()\n",
    "print(f\"After Filtering Nulls Size: {train_ratings_filtered.shape[0]}\")\n",
    "rmse = mean_squared_error(train_ratings_filtered['actual'], train_ratings_filtered['pred'], squared=False)\n",
    "print(f'RMSE: {rmse}')"
   ]
  },
  {
   "cell_type": "markdown",
   "id": "bd42c511-5a33-428d-8575-36e3640d624f",
   "metadata": {},
   "source": [
    "#### Test Set Score"
   ]
  },
  {
   "cell_type": "code",
   "execution_count": 373,
   "id": "286ba789-b85e-4dcc-a1a7-1e0e03f2d13d",
   "metadata": {
    "execution": {
     "iopub.execute_input": "2021-08-14T04:02:45.512462Z",
     "iopub.status.busy": "2021-08-14T04:02:45.511462Z",
     "iopub.status.idle": "2021-08-14T04:02:46.443960Z",
     "shell.execute_reply": "2021-08-14T04:02:46.442960Z",
     "shell.execute_reply.started": "2021-08-14T04:02:45.512462Z"
    },
    "tags": []
   },
   "outputs": [
    {
     "name": "stdout",
     "output_type": "stream",
     "text": [
      "Original Size: 5931640\n",
      "After Filtering Nulls Size: 82959\n",
      "RMSE: 0.34632106907456445\n"
     ]
    }
   ],
   "source": [
    "test_ratings = test_matrix.reset_index().melt(id_vars=['userId'])\n",
    "test_ratings.rename({'value':'actual'}, inplace=True, axis=1)\n",
    "test_ratings['pred'] = reconstructed_matrix.T.flatten()\n",
    "\n",
    "print(f\"Original Size: {test_ratings.shape[0]}\")\n",
    "test_ratings_filtered = test_ratings.dropna()\n",
    "print(f\"After Filtering Nulls Size: {test_ratings_filtered.shape[0]}\")\n",
    "rmse = mean_squared_error(test_ratings_filtered['actual'], test_ratings_filtered['pred'], squared=False)\n",
    "print(f'RMSE: {rmse}')"
   ]
  },
  {
   "cell_type": "markdown",
   "id": "32255f2f-2620-4772-b508-3d281c5fc624",
   "metadata": {
    "execution": {
     "iopub.execute_input": "2021-08-14T05:36:38.562633Z",
     "iopub.status.busy": "2021-08-14T05:36:38.562633Z",
     "iopub.status.idle": "2021-08-14T05:36:38.578637Z",
     "shell.execute_reply": "2021-08-14T05:36:38.577636Z",
     "shell.execute_reply.started": "2021-08-14T05:36:38.562633Z"
    },
    "tags": []
   },
   "source": [
    "### Using Surprise library\n",
    "\n",
    "For more details, visit the <a href=\"http://surpriselib.com/\">Surprise documentation</a>."
   ]
  },
  {
   "cell_type": "code",
   "execution_count": 394,
   "id": "fb2ecb49-25c2-4789-a5a7-42d5f9f899b5",
   "metadata": {
    "execution": {
     "iopub.execute_input": "2021-08-14T06:09:02.338672Z",
     "iopub.status.busy": "2021-08-14T06:09:02.338672Z",
     "iopub.status.idle": "2021-08-14T06:09:02.648752Z",
     "shell.execute_reply": "2021-08-14T06:09:02.647751Z",
     "shell.execute_reply.started": "2021-08-14T06:09:02.338672Z"
    },
    "tags": []
   },
   "outputs": [
    {
     "data": {
      "text/plain": [
       "<surprise.dataset.DatasetAutoFolds at 0x1708501cc40>"
      ]
     },
     "execution_count": 394,
     "metadata": {},
     "output_type": "execute_result"
    }
   ],
   "source": [
    "from surprise import SVD\n",
    "from surprise import Dataset\n",
    "from surprise.model_selection import cross_validate\n",
    "\n",
    "# Load the movielens-100k dataset (download it if needed).\n",
    "data = Dataset.load_builtin('ml-100k')\n",
    "data"
   ]
  },
  {
   "cell_type": "code",
   "execution_count": 401,
   "id": "6987c6e2-6862-48b1-bcbf-74a80c253ff9",
   "metadata": {
    "execution": {
     "iopub.execute_input": "2021-08-14T06:10:01.262515Z",
     "iopub.status.busy": "2021-08-14T06:10:01.262515Z",
     "iopub.status.idle": "2021-08-14T06:10:01.276519Z",
     "shell.execute_reply": "2021-08-14T06:10:01.275517Z",
     "shell.execute_reply.started": "2021-08-14T06:10:01.262515Z"
    },
    "tags": []
   },
   "outputs": [
    {
     "data": {
      "text/plain": [
       "100000"
      ]
     },
     "execution_count": 401,
     "metadata": {},
     "output_type": "execute_result"
    }
   ],
   "source": [
    "len(data.raw_ratings)"
   ]
  },
  {
   "cell_type": "code",
   "execution_count": 402,
   "id": "7cb7983c-57d0-47e0-98eb-8ed187d0d16f",
   "metadata": {
    "execution": {
     "iopub.execute_input": "2021-08-14T06:10:24.433917Z",
     "iopub.status.busy": "2021-08-14T06:10:24.432917Z",
     "iopub.status.idle": "2021-08-14T06:11:00.222238Z",
     "shell.execute_reply": "2021-08-14T06:11:00.221237Z",
     "shell.execute_reply.started": "2021-08-14T06:10:24.432917Z"
    }
   },
   "outputs": [
    {
     "name": "stdout",
     "output_type": "stream",
     "text": [
      "Evaluating RMSE, MAE of algorithm SVD on 5 split(s).\n",
      "\n",
      "                  Fold 1  Fold 2  Fold 3  Fold 4  Fold 5  Mean    Std     \n",
      "RMSE (testset)    0.9392  0.9316  0.9377  0.9332  0.9401  0.9364  0.0034  \n",
      "MAE (testset)     0.7369  0.7352  0.7406  0.7357  0.7389  0.7375  0.0020  \n",
      "Fit time          6.81    6.64    6.55    6.56    6.78    6.67    0.11    \n",
      "Test time         0.22    0.20    0.21    0.43    0.22    0.26    0.09    \n"
     ]
    },
    {
     "data": {
      "text/plain": [
       "{'test_rmse': array([0.93921411, 0.93158093, 0.93773454, 0.93322255, 0.94010429]),\n",
       " 'test_mae': array([0.73691424, 0.73521979, 0.74056718, 0.73572648, 0.7388908 ]),\n",
       " 'fit_time': (6.809737205505371,\n",
       "  6.639822244644165,\n",
       "  6.547652721405029,\n",
       "  6.564387321472168,\n",
       "  6.781553506851196),\n",
       " 'test_time': (0.22304987907409668,\n",
       "  0.20055198669433594,\n",
       "  0.20606541633605957,\n",
       "  0.4340980052947998,\n",
       "  0.2170572280883789)}"
      ]
     },
     "execution_count": 402,
     "metadata": {},
     "output_type": "execute_result"
    }
   ],
   "source": [
    "# Use the famous SVD algorithm.\n",
    "algo = SVD()\n",
    "\n",
    "# Run 5-fold cross-validation and print results.\n",
    "cross_validate(algo, data, measures=['RMSE', 'MAE'], cv=5, verbose=True)"
   ]
  },
  {
   "cell_type": "code",
   "execution_count": 408,
   "id": "c729f259-9f43-4a61-a506-1432a600921f",
   "metadata": {
    "execution": {
     "iopub.execute_input": "2021-08-14T06:16:59.073612Z",
     "iopub.status.busy": "2021-08-14T06:16:59.073612Z",
     "iopub.status.idle": "2021-08-14T06:16:59.255196Z",
     "shell.execute_reply": "2021-08-14T06:16:59.253652Z",
     "shell.execute_reply.started": "2021-08-14T06:16:59.073612Z"
    },
    "tags": []
   },
   "outputs": [],
   "source": [
    "from surprise import NormalPredictor\n",
    "from surprise import Dataset\n",
    "from surprise import Reader\n",
    "from surprise.model_selection import cross_validate\n",
    "\n",
    "# A reader is still needed but only the rating_scale param is requiered.\n",
    "reader = Reader(rating_scale=(0, 5))\n",
    "\n",
    "# The columns must correspond to user id, item id and ratings (in that order).\n",
    "data = Dataset.load_from_df(df_ratings, reader)"
   ]
  },
  {
   "cell_type": "code",
   "execution_count": 450,
   "id": "a609873c-f022-4dab-a9a0-8e7d3d933164",
   "metadata": {
    "execution": {
     "iopub.execute_input": "2021-08-14T13:12:38.090641Z",
     "iopub.status.busy": "2021-08-14T13:12:38.090641Z",
     "iopub.status.idle": "2021-08-14T13:12:40.573702Z",
     "shell.execute_reply": "2021-08-14T13:12:40.572955Z",
     "shell.execute_reply.started": "2021-08-14T13:12:38.090641Z"
    },
    "tags": []
   },
   "outputs": [
    {
     "name": "stdout",
     "output_type": "stream",
     "text": [
      "RMSE: 0.8645\n"
     ]
    },
    {
     "data": {
      "text/plain": [
       "0.8644530531029808"
      ]
     },
     "execution_count": 450,
     "metadata": {},
     "output_type": "execute_result"
    }
   ],
   "source": [
    "from surprise.model_selection import train_test_split\n",
    "from surprise import accuracy\n",
    "\n",
    "trainset, testset = train_test_split(data, test_size=.2, random_state=0)\n",
    "\n",
    "# We'll use the famous SVD algorithm.\n",
    "algo = SVD(n_factors=2)\n",
    "\n",
    "# Train the algorithm on the trainset, and predict ratings for the testset\n",
    "algo.fit(trainset)\n",
    "predictions = algo.test(testset)\n",
    "\n",
    "# Then compute RMSE\n",
    "accuracy.rmse(predictions)"
   ]
  },
  {
   "cell_type": "code",
   "execution_count": 451,
   "id": "551e3a93-b956-4691-a071-15c5352e3bf3",
   "metadata": {
    "execution": {
     "iopub.execute_input": "2021-08-14T13:12:40.576693Z",
     "iopub.status.busy": "2021-08-14T13:12:40.576693Z",
     "iopub.status.idle": "2021-08-14T13:12:40.589696Z",
     "shell.execute_reply": "2021-08-14T13:12:40.588696Z",
     "shell.execute_reply.started": "2021-08-14T13:12:40.576693Z"
    },
    "tags": []
   },
   "outputs": [
    {
     "data": {
      "text/plain": [
       "((610, 2), (8979, 2))"
      ]
     },
     "execution_count": 451,
     "metadata": {},
     "output_type": "execute_result"
    }
   ],
   "source": [
    "algo.pu.shape, algo.qi.shape"
   ]
  },
  {
   "cell_type": "code",
   "execution_count": 455,
   "id": "afccb364-baab-4820-8b42-64c9c3d12850",
   "metadata": {
    "execution": {
     "iopub.execute_input": "2021-08-14T13:12:58.885676Z",
     "iopub.status.busy": "2021-08-14T13:12:58.885676Z",
     "iopub.status.idle": "2021-08-14T13:12:58.912681Z",
     "shell.execute_reply": "2021-08-14T13:12:58.911681Z",
     "shell.execute_reply.started": "2021-08-14T13:12:58.885676Z"
    },
    "tags": []
   },
   "outputs": [
    {
     "data": {
      "text/plain": [
       "(610, 8979)"
      ]
     },
     "execution_count": 455,
     "metadata": {},
     "output_type": "execute_result"
    }
   ],
   "source": [
    "(algo.pu @ algo.qi.T).shape"
   ]
  },
  {
   "cell_type": "code",
   "execution_count": 442,
   "id": "027f4c40-8b2f-448c-934c-dcde90f96c2a",
   "metadata": {
    "execution": {
     "iopub.execute_input": "2021-08-14T13:01:51.464916Z",
     "iopub.status.busy": "2021-08-14T13:01:51.464916Z",
     "iopub.status.idle": "2021-08-14T13:01:51.474937Z",
     "shell.execute_reply": "2021-08-14T13:01:51.473936Z",
     "shell.execute_reply.started": "2021-08-14T13:01:51.464916Z"
    },
    "tags": []
   },
   "outputs": [
    {
     "data": {
      "text/plain": [
       "9724"
      ]
     },
     "execution_count": 442,
     "metadata": {},
     "output_type": "execute_result"
    }
   ],
   "source": [
    "len(df_ratings['movieId'].unique())"
   ]
  },
  {
   "cell_type": "code",
   "execution_count": 434,
   "id": "24847581-f562-4b8e-868f-3011fff7f75d",
   "metadata": {
    "execution": {
     "iopub.execute_input": "2021-08-14T12:59:25.206593Z",
     "iopub.status.busy": "2021-08-14T12:59:25.206593Z",
     "iopub.status.idle": "2021-08-14T12:59:25.218613Z",
     "shell.execute_reply": "2021-08-14T12:59:25.217612Z",
     "shell.execute_reply.started": "2021-08-14T12:59:25.206593Z"
    },
    "tags": []
   },
   "outputs": [
    {
     "data": {
      "text/plain": [
       "(610, 8979)"
      ]
     },
     "execution_count": 434,
     "metadata": {},
     "output_type": "execute_result"
    }
   ],
   "source": [
    "trainset.n_users, trainset.n_items"
   ]
  },
  {
   "cell_type": "code",
   "execution_count": 443,
   "id": "778d2153-95f1-44e3-8d69-fd0f96764c46",
   "metadata": {
    "execution": {
     "iopub.execute_input": "2021-08-14T13:02:10.400939Z",
     "iopub.status.busy": "2021-08-14T13:02:10.400939Z",
     "iopub.status.idle": "2021-08-14T13:02:10.414969Z",
     "shell.execute_reply": "2021-08-14T13:02:10.413971Z",
     "shell.execute_reply.started": "2021-08-14T13:02:10.400939Z"
    }
   },
   "outputs": [
    {
     "data": {
      "text/plain": [
       "20168"
      ]
     },
     "execution_count": 443,
     "metadata": {},
     "output_type": "execute_result"
    }
   ],
   "source": [
    "len(testset)"
   ]
  },
  {
   "cell_type": "code",
   "execution_count": null,
   "id": "ba6f8b3e-4303-4076-818a-2660d4d09e32",
   "metadata": {},
   "outputs": [],
   "source": []
  },
  {
   "cell_type": "code",
   "execution_count": 409,
   "id": "14d8e9e2-eec3-4aad-9b93-4e40ac6701d3",
   "metadata": {
    "execution": {
     "iopub.execute_input": "2021-08-14T06:17:10.210536Z",
     "iopub.status.busy": "2021-08-14T06:17:10.209534Z",
     "iopub.status.idle": "2021-08-14T06:17:12.101748Z",
     "shell.execute_reply": "2021-08-14T06:17:12.100748Z",
     "shell.execute_reply.started": "2021-08-14T06:17:10.210536Z"
    }
   },
   "outputs": [
    {
     "data": {
      "text/plain": [
       "{'test_rmse': array([1.42208342, 1.42297205]),\n",
       " 'test_mae': array([1.13396628, 1.13534907]),\n",
       " 'fit_time': (0.11360979080200195, 0.13002991676330566),\n",
       " 'test_time': (0.48670101165771484, 0.6636519432067871)}"
      ]
     },
     "execution_count": 409,
     "metadata": {},
     "output_type": "execute_result"
    }
   ],
   "source": [
    "# We can now use this dataset as we please, e.g. calling cross_validate\n",
    "cross_validate(NormalPredictor(), data, cv=2)"
   ]
  },
  {
   "cell_type": "code",
   "execution_count": 410,
   "id": "4e1e016c-053f-47bc-8e08-0ec64009dc89",
   "metadata": {
    "execution": {
     "iopub.execute_input": "2021-08-14T06:18:42.354524Z",
     "iopub.status.busy": "2021-08-14T06:18:42.354524Z",
     "iopub.status.idle": "2021-08-14T06:19:16.973168Z",
     "shell.execute_reply": "2021-08-14T06:19:16.972168Z",
     "shell.execute_reply.started": "2021-08-14T06:18:42.354524Z"
    }
   },
   "outputs": [
    {
     "name": "stdout",
     "output_type": "stream",
     "text": [
      "Evaluating RMSE, MAE of algorithm SVD on 5 split(s).\n",
      "\n",
      "                  Fold 1  Fold 2  Fold 3  Fold 4  Fold 5  Mean    Std     \n",
      "RMSE (testset)    0.8703  0.8745  0.8623  0.8820  0.8800  0.8738  0.0070  \n",
      "MAE (testset)     0.6679  0.6711  0.6621  0.6784  0.6773  0.6714  0.0060  \n",
      "Fit time          6.47    6.43    6.48    6.46    6.48    6.47    0.02    \n",
      "Test time         0.23    0.20    0.38    0.20    0.20    0.24    0.07    \n"
     ]
    },
    {
     "data": {
      "text/plain": [
       "{'test_rmse': array([0.87034096, 0.87445257, 0.86233985, 0.88196824, 0.87996387]),\n",
       " 'test_mae': array([0.66792047, 0.67110855, 0.66207446, 0.67837767, 0.67732784]),\n",
       " 'fit_time': (6.474883794784546,\n",
       "  6.434120416641235,\n",
       "  6.478055953979492,\n",
       "  6.459465742111206,\n",
       "  6.483584403991699),\n",
       " 'test_time': (0.22705650329589844,\n",
       "  0.19904518127441406,\n",
       "  0.378084659576416,\n",
       "  0.19904470443725586,\n",
       "  0.19805026054382324)}"
      ]
     },
     "execution_count": 410,
     "metadata": {},
     "output_type": "execute_result"
    }
   ],
   "source": [
    "# Use the famous SVD algorithm.\n",
    "algo = SVD()\n",
    "\n",
    "# Run 5-fold cross-validation and print results.\n",
    "cross_validate(algo, data, measures=['RMSE', 'MAE'], cv=5, verbose=True)"
   ]
  },
  {
   "cell_type": "code",
   "execution_count": null,
   "id": "35f8d709-8508-45c0-8158-f942ddc545e5",
   "metadata": {},
   "outputs": [],
   "source": []
  },
  {
   "cell_type": "markdown",
   "id": "f02a27c7-05aa-4ad0-9b44-30d20e24887f",
   "metadata": {},
   "source": [
    "## References\n",
    "\n",
    "1. F. Maxwell Harper and Joseph A. Konstan. 2015. The MovieLens Datasets: History and Context. ACM Transactions on Interactive Intelligent Systems (TiiS) 5, 4: 19:1–19:19. https://doi.org/10.1145/2827872"
   ]
  },
  {
   "cell_type": "markdown",
   "id": "deaab1ef-a2b4-418b-8af2-d884a07d7534",
   "metadata": {
    "editable": false,
    "tags": []
   },
   "source": [
    "## End\n",
    "<sup>made by **Jude Michael Teves**</sup> <br>\n",
    "<sup>for comments, corrections, suggestions, please email:</sup><sup> <href>judemichaelteves@gmail.com</href> or <href>jude.teves@dlsu.edu.ph</href></sup><br>"
   ]
  }
 ],
 "metadata": {
  "kernelspec": {
   "display_name": "Python 3",
   "language": "python",
   "name": "python3"
  },
  "language_info": {
   "codemirror_mode": {
    "name": "ipython",
    "version": 3
   },
   "file_extension": ".py",
   "mimetype": "text/x-python",
   "name": "python",
   "nbconvert_exporter": "python",
   "pygments_lexer": "ipython3",
   "version": "3.8.8"
  }
 },
 "nbformat": 4,
 "nbformat_minor": 5
}

{
 "cells": [
  {
   "cell_type": "code",
   "execution_count": 1,
   "id": "03487dc8-9ee5-468a-8c7f-c377738d3c84",
   "metadata": {
    "execution": {
     "iopub.execute_input": "2021-08-11T06:48:45.030745Z",
     "iopub.status.busy": "2021-08-11T06:48:45.027745Z",
     "iopub.status.idle": "2021-08-11T06:48:47.081705Z",
     "shell.execute_reply": "2021-08-11T06:48:47.080704Z",
     "shell.execute_reply.started": "2021-08-11T06:48:45.029745Z"
    },
    "tags": []
   },
   "outputs": [],
   "source": [
    "import pandas as pd\n",
    "from sklearn.metrics.pairwise import cosine_similarity\n",
    "from sklearn.metrics import jaccard_score"
   ]
  },
  {
   "cell_type": "code",
   "execution_count": 2,
   "id": "5d2b7281-1e74-4eb7-b613-d53e477b9190",
   "metadata": {
    "execution": {
     "iopub.execute_input": "2021-08-11T06:48:47.083705Z",
     "iopub.status.busy": "2021-08-11T06:48:47.082704Z",
     "iopub.status.idle": "2021-08-11T06:48:47.112712Z",
     "shell.execute_reply": "2021-08-11T06:48:47.112712Z",
     "shell.execute_reply.started": "2021-08-11T06:48:47.083705Z"
    },
    "tags": []
   },
   "outputs": [
    {
     "data": {
      "text/html": [
       "<div>\n",
       "<style scoped>\n",
       "    .dataframe tbody tr th:only-of-type {\n",
       "        vertical-align: middle;\n",
       "    }\n",
       "\n",
       "    .dataframe tbody tr th {\n",
       "        vertical-align: top;\n",
       "    }\n",
       "\n",
       "    .dataframe thead th {\n",
       "        text-align: right;\n",
       "    }\n",
       "</style>\n",
       "<table border=\"1\" class=\"dataframe\">\n",
       "  <thead>\n",
       "    <tr style=\"text-align: right;\">\n",
       "      <th></th>\n",
       "      <th>0</th>\n",
       "      <th>1</th>\n",
       "      <th>2</th>\n",
       "      <th>3</th>\n",
       "    </tr>\n",
       "  </thead>\n",
       "  <tbody>\n",
       "    <tr>\n",
       "      <th>0</th>\n",
       "      <td>1</td>\n",
       "      <td>1</td>\n",
       "      <td>0</td>\n",
       "      <td>1</td>\n",
       "    </tr>\n",
       "    <tr>\n",
       "      <th>1</th>\n",
       "      <td>1</td>\n",
       "      <td>1</td>\n",
       "      <td>1</td>\n",
       "      <td>1</td>\n",
       "    </tr>\n",
       "    <tr>\n",
       "      <th>2</th>\n",
       "      <td>1</td>\n",
       "      <td>0</td>\n",
       "      <td>1</td>\n",
       "      <td>1</td>\n",
       "    </tr>\n",
       "    <tr>\n",
       "      <th>3</th>\n",
       "      <td>1</td>\n",
       "      <td>1</td>\n",
       "      <td>0</td>\n",
       "      <td>0</td>\n",
       "    </tr>\n",
       "  </tbody>\n",
       "</table>\n",
       "</div>"
      ],
      "text/plain": [
       "   0  1  2  3\n",
       "0  1  1  0  1\n",
       "1  1  1  1  1\n",
       "2  1  0  1  1\n",
       "3  1  1  0  0"
      ]
     },
     "execution_count": 2,
     "metadata": {},
     "output_type": "execute_result"
    }
   ],
   "source": [
    "df = pd.DataFrame([[1,1,0,1],[1,1,1,1],[1,0,1,1],[1,1,0,0]])\n",
    "# df = df-0.5\n",
    "df"
   ]
  },
  {
   "cell_type": "code",
   "execution_count": 3,
   "id": "017e603c-1d41-4338-869f-e2b476598a79",
   "metadata": {
    "execution": {
     "iopub.execute_input": "2021-08-11T06:48:47.116712Z",
     "iopub.status.busy": "2021-08-11T06:48:47.115712Z",
     "iopub.status.idle": "2021-08-11T06:48:47.130235Z",
     "shell.execute_reply": "2021-08-11T06:48:47.128716Z",
     "shell.execute_reply.started": "2021-08-11T06:48:47.116712Z"
    },
    "tags": []
   },
   "outputs": [
    {
     "data": {
      "text/html": [
       "<div>\n",
       "<style scoped>\n",
       "    .dataframe tbody tr th:only-of-type {\n",
       "        vertical-align: middle;\n",
       "    }\n",
       "\n",
       "    .dataframe tbody tr th {\n",
       "        vertical-align: top;\n",
       "    }\n",
       "\n",
       "    .dataframe thead th {\n",
       "        text-align: right;\n",
       "    }\n",
       "</style>\n",
       "<table border=\"1\" class=\"dataframe\">\n",
       "  <thead>\n",
       "    <tr style=\"text-align: right;\">\n",
       "      <th></th>\n",
       "      <th>0</th>\n",
       "    </tr>\n",
       "  </thead>\n",
       "  <tbody>\n",
       "    <tr>\n",
       "      <th>0</th>\n",
       "      <td>0.00</td>\n",
       "    </tr>\n",
       "    <tr>\n",
       "      <th>1</th>\n",
       "      <td>0.00</td>\n",
       "    </tr>\n",
       "    <tr>\n",
       "      <th>2</th>\n",
       "      <td>0.25</td>\n",
       "    </tr>\n",
       "    <tr>\n",
       "      <th>3</th>\n",
       "      <td>0.00</td>\n",
       "    </tr>\n",
       "  </tbody>\n",
       "</table>\n",
       "</div>"
      ],
      "text/plain": [
       "      0\n",
       "0  0.00\n",
       "1  0.00\n",
       "2  0.25\n",
       "3  0.00"
      ]
     },
     "execution_count": 3,
     "metadata": {},
     "output_type": "execute_result"
    }
   ],
   "source": [
    "# user = pd.Series([1,1,0.5,1]).to_frame()\n",
    "user = pd.Series([0,0,0.25,0]).to_frame()\n",
    "user"
   ]
  },
  {
   "cell_type": "code",
   "execution_count": 4,
   "id": "4241db87-b9ec-4dcb-afef-714e82b35d1b",
   "metadata": {
    "execution": {
     "iopub.execute_input": "2021-08-11T06:48:47.133225Z",
     "iopub.status.busy": "2021-08-11T06:48:47.132225Z",
     "iopub.status.idle": "2021-08-11T06:48:47.146228Z",
     "shell.execute_reply": "2021-08-11T06:48:47.144227Z",
     "shell.execute_reply.started": "2021-08-11T06:48:47.133225Z"
    },
    "tags": []
   },
   "outputs": [
    {
     "data": {
      "text/plain": [
       "array([[0.  ],\n",
       "       [0.  ],\n",
       "       [0.25],\n",
       "       [0.  ]])"
      ]
     },
     "execution_count": 4,
     "metadata": {},
     "output_type": "execute_result"
    }
   ],
   "source": [
    "user.values"
   ]
  },
  {
   "cell_type": "code",
   "execution_count": 5,
   "id": "312850b2-027f-4c4c-91de-2750a2e0b5f6",
   "metadata": {
    "execution": {
     "iopub.execute_input": "2021-08-11T06:48:47.151738Z",
     "iopub.status.busy": "2021-08-11T06:48:47.150738Z",
     "iopub.status.idle": "2021-08-11T06:48:47.160751Z",
     "shell.execute_reply": "2021-08-11T06:48:47.159740Z",
     "shell.execute_reply.started": "2021-08-11T06:48:47.151738Z"
    },
    "tags": []
   },
   "outputs": [
    {
     "data": {
      "text/plain": [
       "array([[0.5       ],\n",
       "       [0.        ],\n",
       "       [0.70710678],\n",
       "       [0.57735027]])"
      ]
     },
     "execution_count": 5,
     "metadata": {},
     "output_type": "execute_result"
    }
   ],
   "source": [
    "cosine_similarity(df.values.T, user.values.T)"
   ]
  },
  {
   "cell_type": "code",
   "execution_count": 6,
   "id": "b0afec5e-aa1b-4e21-9dd1-30a2265ae013",
   "metadata": {
    "execution": {
     "iopub.execute_input": "2021-08-11T06:48:47.162742Z",
     "iopub.status.busy": "2021-08-11T06:48:47.161742Z",
     "iopub.status.idle": "2021-08-11T06:48:47.175971Z",
     "shell.execute_reply": "2021-08-11T06:48:47.174973Z",
     "shell.execute_reply.started": "2021-08-11T06:48:47.162742Z"
    },
    "tags": []
   },
   "outputs": [
    {
     "data": {
      "text/plain": [
       "array([1, 1, 1, 1], dtype=int64)"
      ]
     },
     "execution_count": 6,
     "metadata": {},
     "output_type": "execute_result"
    }
   ],
   "source": [
    "df.values.T[0]"
   ]
  },
  {
   "cell_type": "code",
   "execution_count": 7,
   "id": "4e224601-46f2-43ea-9c11-6e0fcb08ee15",
   "metadata": {
    "execution": {
     "iopub.execute_input": "2021-08-11T06:48:47.208981Z",
     "iopub.status.busy": "2021-08-11T06:48:47.208981Z",
     "iopub.status.idle": "2021-08-11T06:48:47.223982Z",
     "shell.execute_reply": "2021-08-11T06:48:47.222982Z",
     "shell.execute_reply.started": "2021-08-11T06:48:47.208981Z"
    },
    "tags": []
   },
   "outputs": [
    {
     "data": {
      "text/plain": [
       "array([0.  , 0.  , 0.25, 0.  ])"
      ]
     },
     "execution_count": 7,
     "metadata": {},
     "output_type": "execute_result"
    }
   ],
   "source": [
    "user.values.T[0]"
   ]
  },
  {
   "cell_type": "code",
   "execution_count": 8,
   "id": "498fd79a-3d3f-4ff5-bd3c-fac0e26badda",
   "metadata": {
    "execution": {
     "iopub.execute_input": "2021-08-11T06:48:47.743116Z",
     "iopub.status.busy": "2021-08-11T06:48:47.743116Z",
     "iopub.status.idle": "2021-08-11T06:48:47.756946Z",
     "shell.execute_reply": "2021-08-11T06:48:47.755946Z",
     "shell.execute_reply.started": "2021-08-11T06:48:47.743116Z"
    },
    "tags": []
   },
   "outputs": [],
   "source": [
    "# jaccard_score(df.values.T[0], user.values.T[0])"
   ]
  },
  {
   "cell_type": "code",
   "execution_count": 9,
   "id": "d555977a-1f00-4076-878c-85aa6e99bb95",
   "metadata": {
    "execution": {
     "iopub.execute_input": "2021-08-11T06:48:48.273700Z",
     "iopub.status.busy": "2021-08-11T06:48:48.273700Z",
     "iopub.status.idle": "2021-08-11T06:48:48.287721Z",
     "shell.execute_reply": "2021-08-11T06:48:48.286721Z",
     "shell.execute_reply.started": "2021-08-11T06:48:48.273700Z"
    }
   },
   "outputs": [
    {
     "data": {
      "text/plain": [
       "array([[0.87831007, 0.84515425],\n",
       "       [0.9797959 , 0.70710678],\n",
       "       [1.        , 0.57735027],\n",
       "       [0.77777778, 0.96225045],\n",
       "       [1.        , 0.57735027]])"
      ]
     },
     "execution_count": 9,
     "metadata": {},
     "output_type": "execute_result"
    }
   ],
   "source": [
    "a = [[5,3,1],[5,4,3],[1,1,1],[5,1,1],[5,5,5]]\n",
    "b = [[1,1,1], [1,0,0]]\n",
    "cosine_similarity(a, b)"
   ]
  },
  {
   "cell_type": "markdown",
   "id": "fb1e122b-2ef6-4386-bb6b-df9ac3cd96fd",
   "metadata": {},
   "source": [
    "Slide deck - average variation"
   ]
  },
  {
   "cell_type": "code",
   "execution_count": 11,
   "id": "e4186d1f-1d25-4b62-a55f-7d2aafd752b0",
   "metadata": {
    "execution": {
     "iopub.execute_input": "2021-08-11T06:51:31.819643Z",
     "iopub.status.busy": "2021-08-11T06:51:31.819643Z",
     "iopub.status.idle": "2021-08-11T06:51:31.835565Z",
     "shell.execute_reply": "2021-08-11T06:51:31.834565Z",
     "shell.execute_reply.started": "2021-08-11T06:51:31.819643Z"
    },
    "tags": []
   },
   "outputs": [
    {
     "data": {
      "text/plain": [
       "array([[0.99890611, 0.84169758, 0.72542337, 0.87287156]])"
      ]
     },
     "execution_count": 11,
     "metadata": {},
     "output_type": "execute_result"
    }
   ],
   "source": [
    "a = [[4.5,4.5,5,4.5]]\n",
    "b = [[1,1,1,1],[1,1,0,1],[0,1,1,0], [1,1,1,0]]\n",
    "cosine_similarity(a, b)"
   ]
  },
  {
   "cell_type": "code",
   "execution_count": null,
   "id": "a791c965-32c3-4179-b181-f2a7a292c79a",
   "metadata": {},
   "outputs": [],
   "source": []
  }
 ],
 "metadata": {
  "kernelspec": {
   "display_name": "Python 3",
   "language": "python",
   "name": "python3"
  },
  "language_info": {
   "codemirror_mode": {
    "name": "ipython",
    "version": 3
   },
   "file_extension": ".py",
   "mimetype": "text/x-python",
   "name": "python",
   "nbconvert_exporter": "python",
   "pygments_lexer": "ipython3",
   "version": "3.8.8"
  }
 },
 "nbformat": 4,
 "nbformat_minor": 5
}

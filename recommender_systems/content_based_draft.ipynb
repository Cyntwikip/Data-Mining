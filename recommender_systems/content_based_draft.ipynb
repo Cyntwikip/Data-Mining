{
 "cells": [
  {
   "cell_type": "code",
   "execution_count": 12,
   "id": "03487dc8-9ee5-468a-8c7f-c377738d3c84",
   "metadata": {
    "execution": {
     "iopub.execute_input": "2021-08-09T09:29:52.254772Z",
     "iopub.status.busy": "2021-08-09T09:29:52.254772Z",
     "iopub.status.idle": "2021-08-09T09:29:52.261792Z",
     "shell.execute_reply": "2021-08-09T09:29:52.260791Z",
     "shell.execute_reply.started": "2021-08-09T09:29:52.254772Z"
    },
    "tags": []
   },
   "outputs": [],
   "source": [
    "import pandas as pd\n",
    "from sklearn.metrics.pairwise import cosine_similarity\n",
    "from sklearn.metrics import jaccard_score"
   ]
  },
  {
   "cell_type": "code",
   "execution_count": 22,
   "id": "5d2b7281-1e74-4eb7-b613-d53e477b9190",
   "metadata": {
    "execution": {
     "iopub.execute_input": "2021-08-09T09:34:14.683990Z",
     "iopub.status.busy": "2021-08-09T09:34:14.683990Z",
     "iopub.status.idle": "2021-08-09T09:34:14.712622Z",
     "shell.execute_reply": "2021-08-09T09:34:14.711622Z",
     "shell.execute_reply.started": "2021-08-09T09:34:14.683990Z"
    },
    "tags": []
   },
   "outputs": [
    {
     "data": {
      "text/html": [
       "<div>\n",
       "<style scoped>\n",
       "    .dataframe tbody tr th:only-of-type {\n",
       "        vertical-align: middle;\n",
       "    }\n",
       "\n",
       "    .dataframe tbody tr th {\n",
       "        vertical-align: top;\n",
       "    }\n",
       "\n",
       "    .dataframe thead th {\n",
       "        text-align: right;\n",
       "    }\n",
       "</style>\n",
       "<table border=\"1\" class=\"dataframe\">\n",
       "  <thead>\n",
       "    <tr style=\"text-align: right;\">\n",
       "      <th></th>\n",
       "      <th>0</th>\n",
       "      <th>1</th>\n",
       "      <th>2</th>\n",
       "      <th>3</th>\n",
       "    </tr>\n",
       "  </thead>\n",
       "  <tbody>\n",
       "    <tr>\n",
       "      <th>0</th>\n",
       "      <td>1</td>\n",
       "      <td>1</td>\n",
       "      <td>0</td>\n",
       "      <td>1</td>\n",
       "    </tr>\n",
       "    <tr>\n",
       "      <th>1</th>\n",
       "      <td>1</td>\n",
       "      <td>1</td>\n",
       "      <td>1</td>\n",
       "      <td>1</td>\n",
       "    </tr>\n",
       "    <tr>\n",
       "      <th>2</th>\n",
       "      <td>1</td>\n",
       "      <td>0</td>\n",
       "      <td>1</td>\n",
       "      <td>1</td>\n",
       "    </tr>\n",
       "    <tr>\n",
       "      <th>3</th>\n",
       "      <td>1</td>\n",
       "      <td>1</td>\n",
       "      <td>0</td>\n",
       "      <td>0</td>\n",
       "    </tr>\n",
       "  </tbody>\n",
       "</table>\n",
       "</div>"
      ],
      "text/plain": [
       "   0  1  2  3\n",
       "0  1  1  0  1\n",
       "1  1  1  1  1\n",
       "2  1  0  1  1\n",
       "3  1  1  0  0"
      ]
     },
     "execution_count": 22,
     "metadata": {},
     "output_type": "execute_result"
    }
   ],
   "source": [
    "df = pd.DataFrame([[1,1,0,1],[1,1,1,1],[1,0,1,1],[1,1,0,0]])\n",
    "df"
   ]
  },
  {
   "cell_type": "code",
   "execution_count": 26,
   "id": "017e603c-1d41-4338-869f-e2b476598a79",
   "metadata": {
    "execution": {
     "iopub.execute_input": "2021-08-09T10:09:24.886352Z",
     "iopub.status.busy": "2021-08-09T10:09:24.885352Z",
     "iopub.status.idle": "2021-08-09T10:09:24.907357Z",
     "shell.execute_reply": "2021-08-09T10:09:24.906358Z",
     "shell.execute_reply.started": "2021-08-09T10:09:24.885352Z"
    },
    "tags": []
   },
   "outputs": [
    {
     "data": {
      "text/html": [
       "<div>\n",
       "<style scoped>\n",
       "    .dataframe tbody tr th:only-of-type {\n",
       "        vertical-align: middle;\n",
       "    }\n",
       "\n",
       "    .dataframe tbody tr th {\n",
       "        vertical-align: top;\n",
       "    }\n",
       "\n",
       "    .dataframe thead th {\n",
       "        text-align: right;\n",
       "    }\n",
       "</style>\n",
       "<table border=\"1\" class=\"dataframe\">\n",
       "  <thead>\n",
       "    <tr style=\"text-align: right;\">\n",
       "      <th></th>\n",
       "      <th>0</th>\n",
       "    </tr>\n",
       "  </thead>\n",
       "  <tbody>\n",
       "    <tr>\n",
       "      <th>0</th>\n",
       "      <td>0.0</td>\n",
       "    </tr>\n",
       "    <tr>\n",
       "      <th>1</th>\n",
       "      <td>0.0</td>\n",
       "    </tr>\n",
       "    <tr>\n",
       "      <th>2</th>\n",
       "      <td>0.5</td>\n",
       "    </tr>\n",
       "    <tr>\n",
       "      <th>3</th>\n",
       "      <td>0.0</td>\n",
       "    </tr>\n",
       "  </tbody>\n",
       "</table>\n",
       "</div>"
      ],
      "text/plain": [
       "     0\n",
       "0  0.0\n",
       "1  0.0\n",
       "2  0.5\n",
       "3  0.0"
      ]
     },
     "execution_count": 26,
     "metadata": {},
     "output_type": "execute_result"
    }
   ],
   "source": [
    "# user = pd.Series([1,1,0.5,1]).to_frame()\n",
    "user = pd.Series([0,0,0.5,0]).to_frame()\n",
    "user"
   ]
  },
  {
   "cell_type": "code",
   "execution_count": 27,
   "id": "4241db87-b9ec-4dcb-afef-714e82b35d1b",
   "metadata": {
    "execution": {
     "iopub.execute_input": "2021-08-09T10:09:25.390709Z",
     "iopub.status.busy": "2021-08-09T10:09:25.390709Z",
     "iopub.status.idle": "2021-08-09T10:09:25.408747Z",
     "shell.execute_reply": "2021-08-09T10:09:25.407747Z",
     "shell.execute_reply.started": "2021-08-09T10:09:25.390709Z"
    },
    "tags": []
   },
   "outputs": [
    {
     "data": {
      "text/plain": [
       "array([[0. ],\n",
       "       [0. ],\n",
       "       [0.5],\n",
       "       [0. ]])"
      ]
     },
     "execution_count": 27,
     "metadata": {},
     "output_type": "execute_result"
    }
   ],
   "source": [
    "user.values"
   ]
  },
  {
   "cell_type": "code",
   "execution_count": 28,
   "id": "312850b2-027f-4c4c-91de-2750a2e0b5f6",
   "metadata": {
    "execution": {
     "iopub.execute_input": "2021-08-09T10:09:25.711713Z",
     "iopub.status.busy": "2021-08-09T10:09:25.710713Z",
     "iopub.status.idle": "2021-08-09T10:09:25.722717Z",
     "shell.execute_reply": "2021-08-09T10:09:25.721716Z",
     "shell.execute_reply.started": "2021-08-09T10:09:25.711713Z"
    },
    "tags": []
   },
   "outputs": [
    {
     "data": {
      "text/plain": [
       "array([[0.5       ],\n",
       "       [0.        ],\n",
       "       [0.70710678],\n",
       "       [0.57735027]])"
      ]
     },
     "execution_count": 28,
     "metadata": {},
     "output_type": "execute_result"
    }
   ],
   "source": [
    "cosine_similarity(df.values.T, user.values.T)"
   ]
  },
  {
   "cell_type": "code",
   "execution_count": 29,
   "id": "b0afec5e-aa1b-4e21-9dd1-30a2265ae013",
   "metadata": {
    "execution": {
     "iopub.execute_input": "2021-08-09T10:09:26.128407Z",
     "iopub.status.busy": "2021-08-09T10:09:26.128407Z",
     "iopub.status.idle": "2021-08-09T10:09:26.143410Z",
     "shell.execute_reply": "2021-08-09T10:09:26.142408Z",
     "shell.execute_reply.started": "2021-08-09T10:09:26.128407Z"
    },
    "tags": []
   },
   "outputs": [
    {
     "data": {
      "text/plain": [
       "array([1, 1, 1, 1], dtype=int64)"
      ]
     },
     "execution_count": 29,
     "metadata": {},
     "output_type": "execute_result"
    }
   ],
   "source": [
    "df.values.T[0]"
   ]
  },
  {
   "cell_type": "code",
   "execution_count": 30,
   "id": "4e224601-46f2-43ea-9c11-6e0fcb08ee15",
   "metadata": {
    "execution": {
     "iopub.execute_input": "2021-08-09T10:09:26.679227Z",
     "iopub.status.busy": "2021-08-09T10:09:26.679227Z",
     "iopub.status.idle": "2021-08-09T10:09:26.692228Z",
     "shell.execute_reply": "2021-08-09T10:09:26.691228Z",
     "shell.execute_reply.started": "2021-08-09T10:09:26.679227Z"
    },
    "tags": []
   },
   "outputs": [
    {
     "data": {
      "text/plain": [
       "array([0. , 0. , 0.5, 0. ])"
      ]
     },
     "execution_count": 30,
     "metadata": {},
     "output_type": "execute_result"
    }
   ],
   "source": [
    "user.values.T[0]"
   ]
  },
  {
   "cell_type": "code",
   "execution_count": 21,
   "id": "498fd79a-3d3f-4ff5-bd3c-fac0e26badda",
   "metadata": {
    "execution": {
     "iopub.execute_input": "2021-08-09T09:33:02.090627Z",
     "iopub.status.busy": "2021-08-09T09:33:02.090627Z",
     "iopub.status.idle": "2021-08-09T09:33:02.094628Z",
     "shell.execute_reply": "2021-08-09T09:33:02.093765Z",
     "shell.execute_reply.started": "2021-08-09T09:33:02.090627Z"
    },
    "tags": []
   },
   "outputs": [],
   "source": [
    "# jaccard_score(df.values.T[0], user.values.T[0])"
   ]
  },
  {
   "cell_type": "code",
   "execution_count": null,
   "id": "d555977a-1f00-4076-878c-85aa6e99bb95",
   "metadata": {},
   "outputs": [],
   "source": []
  }
 ],
 "metadata": {
  "kernelspec": {
   "display_name": "Python 3",
   "language": "python",
   "name": "python3"
  },
  "language_info": {
   "codemirror_mode": {
    "name": "ipython",
    "version": 3
   },
   "file_extension": ".py",
   "mimetype": "text/x-python",
   "name": "python",
   "nbconvert_exporter": "python",
   "pygments_lexer": "ipython3",
   "version": "3.8.8"
  }
 },
 "nbformat": 4,
 "nbformat_minor": 5
}

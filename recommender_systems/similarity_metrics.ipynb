{
 "cells": [
  {
   "cell_type": "markdown",
   "id": "0d9fbbd2-4510-4037-b1d7-345c06a8fb04",
   "metadata": {
    "tags": []
   },
   "source": [
    "## Similarity Metrics\n",
    "\n",
    "*Prepared by:*\n",
    "**Jude Michael Teves**  \n",
    "Faculty, Software Technology Department  \n",
    "College of Computer Studies - De La Salle University"
   ]
  },
  {
   "cell_type": "markdown",
   "id": "5e2786d9-00a1-4dee-972b-c38647481fbb",
   "metadata": {},
   "source": [
    "This notebook is for introducing different similarity metrics that we could use in the context of recommender systems."
   ]
  },
  {
   "cell_type": "markdown",
   "id": "2077dcd3-b899-4b1e-b0e5-65ee23b581e3",
   "metadata": {},
   "source": [
    "## Preliminaries"
   ]
  },
  {
   "cell_type": "markdown",
   "id": "8f0b7bcb-618f-40dd-a357-ea8433008bf0",
   "metadata": {},
   "source": [
    "### Import libraries"
   ]
  },
  {
   "cell_type": "code",
   "execution_count": 2,
   "id": "63742691-ef92-4e6a-b07f-b4029e3d18be",
   "metadata": {
    "execution": {
     "iopub.execute_input": "2021-08-13T10:00:42.079631Z",
     "iopub.status.busy": "2021-08-13T10:00:42.078624Z",
     "iopub.status.idle": "2021-08-13T10:00:42.093170Z",
     "shell.execute_reply": "2021-08-13T10:00:42.092190Z",
     "shell.execute_reply.started": "2021-08-13T10:00:42.079631Z"
    },
    "tags": []
   },
   "outputs": [],
   "source": [
    "import numpy as np\n",
    "import pandas as pd\n",
    "\n",
    "from sklearn.metrics.pairwise import cosine_similarity\n",
    "from sklearn.metrics import jaccard_score\n",
    "from scipy.stats import pearsonr"
   ]
  },
  {
   "cell_type": "markdown",
   "id": "680acdcd-075a-4539-a839-3656506d617f",
   "metadata": {},
   "source": [
    "## Similarity Metrics\n",
    "\n",
    "In this section, we will explore the different similarity metrics that we can use.\n",
    "\n",
    "For the following equations, let:\n",
    "- $r_x$ : the vector of ratings of user *x*\n",
    "- $r_y$ : the vector of ratings of user *y*\n",
    "\n",
    "Let's use the following dummy data for pedagogical purposes. The rows are correspond to the users while the columns correspond to the items."
   ]
  },
  {
   "cell_type": "code",
   "execution_count": 9,
   "id": "fa9331fa-bbac-4e3b-8ec0-953ffe21bf50",
   "metadata": {
    "execution": {
     "iopub.execute_input": "2021-08-13T10:06:44.774770Z",
     "iopub.status.busy": "2021-08-13T10:06:44.773770Z",
     "iopub.status.idle": "2021-08-13T10:06:44.811778Z",
     "shell.execute_reply": "2021-08-13T10:06:44.810778Z",
     "shell.execute_reply.started": "2021-08-13T10:06:44.774770Z"
    },
    "tags": []
   },
   "outputs": [
    {
     "data": {
      "text/html": [
       "<div>\n",
       "<style scoped>\n",
       "    .dataframe tbody tr th:only-of-type {\n",
       "        vertical-align: middle;\n",
       "    }\n",
       "\n",
       "    .dataframe tbody tr th {\n",
       "        vertical-align: top;\n",
       "    }\n",
       "\n",
       "    .dataframe thead th {\n",
       "        text-align: right;\n",
       "    }\n",
       "</style>\n",
       "<table border=\"1\" class=\"dataframe\">\n",
       "  <thead>\n",
       "    <tr style=\"text-align: right;\">\n",
       "      <th></th>\n",
       "      <th>0</th>\n",
       "      <th>1</th>\n",
       "      <th>2</th>\n",
       "      <th>3</th>\n",
       "      <th>4</th>\n",
       "      <th>5</th>\n",
       "      <th>6</th>\n",
       "    </tr>\n",
       "  </thead>\n",
       "  <tbody>\n",
       "    <tr>\n",
       "      <th>0</th>\n",
       "      <td>4.0</td>\n",
       "      <td>NaN</td>\n",
       "      <td>NaN</td>\n",
       "      <td>5.0</td>\n",
       "      <td>1.0</td>\n",
       "      <td>NaN</td>\n",
       "      <td>NaN</td>\n",
       "    </tr>\n",
       "    <tr>\n",
       "      <th>1</th>\n",
       "      <td>5.0</td>\n",
       "      <td>5.0</td>\n",
       "      <td>4.0</td>\n",
       "      <td>NaN</td>\n",
       "      <td>NaN</td>\n",
       "      <td>NaN</td>\n",
       "      <td>NaN</td>\n",
       "    </tr>\n",
       "    <tr>\n",
       "      <th>2</th>\n",
       "      <td>NaN</td>\n",
       "      <td>NaN</td>\n",
       "      <td>NaN</td>\n",
       "      <td>2.0</td>\n",
       "      <td>4.0</td>\n",
       "      <td>5.0</td>\n",
       "      <td>NaN</td>\n",
       "    </tr>\n",
       "    <tr>\n",
       "      <th>3</th>\n",
       "      <td>NaN</td>\n",
       "      <td>3.0</td>\n",
       "      <td>NaN</td>\n",
       "      <td>NaN</td>\n",
       "      <td>NaN</td>\n",
       "      <td>NaN</td>\n",
       "      <td>3.0</td>\n",
       "    </tr>\n",
       "  </tbody>\n",
       "</table>\n",
       "</div>"
      ],
      "text/plain": [
       "     0    1    2    3    4    5    6\n",
       "0  4.0  NaN  NaN  5.0  1.0  NaN  NaN\n",
       "1  5.0  5.0  4.0  NaN  NaN  NaN  NaN\n",
       "2  NaN  NaN  NaN  2.0  4.0  5.0  NaN\n",
       "3  NaN  3.0  NaN  NaN  NaN  NaN  3.0"
      ]
     },
     "execution_count": 9,
     "metadata": {},
     "output_type": "execute_result"
    }
   ],
   "source": [
    "vals = [[4, np.nan, np.nan, 5, 1, np.nan, np.nan],\n",
    "        [5, 5, 4, np.nan, np.nan, np.nan, np.nan],\n",
    "        [np.nan, np.nan, np.nan, 2, 4, 5, np.nan],\n",
    "        [np.nan, 3, np.nan, np.nan, np.nan, np.nan, 3]]\n",
    "vals = pd.DataFrame(vals)\n",
    "\n",
    "vals"
   ]
  },
  {
   "cell_type": "markdown",
   "id": "f6481ca3-7b91-4ad0-96d6-8060673ffb8c",
   "metadata": {},
   "source": [
    "### Jaccard Similarity\n",
    "\n",
    "$$\\Large S_J(r_x,r_y) = \\frac{|r_x \\cap r_y|}{|r_x \\cup r_y|}$$\n",
    "\n",
    "In Jaccard similarity, we simply check the intersection over union of the rated items. This is akin to treating the values as implicit ratings, which means that the value of a rating (high or low) is ignored.\n",
    "\n",
    "\n"
   ]
  },
  {
   "cell_type": "code",
   "execution_count": 14,
   "id": "d9887843-6a0a-41bb-a395-c7d2ea36e298",
   "metadata": {
    "execution": {
     "iopub.execute_input": "2021-08-13T10:07:41.164704Z",
     "iopub.status.busy": "2021-08-13T10:07:41.163704Z",
     "iopub.status.idle": "2021-08-13T10:07:41.192710Z",
     "shell.execute_reply": "2021-08-13T10:07:41.191710Z",
     "shell.execute_reply.started": "2021-08-13T10:07:41.163704Z"
    },
    "tags": []
   },
   "outputs": [
    {
     "data": {
      "text/html": [
       "<div>\n",
       "<style scoped>\n",
       "    .dataframe tbody tr th:only-of-type {\n",
       "        vertical-align: middle;\n",
       "    }\n",
       "\n",
       "    .dataframe tbody tr th {\n",
       "        vertical-align: top;\n",
       "    }\n",
       "\n",
       "    .dataframe thead th {\n",
       "        text-align: right;\n",
       "    }\n",
       "</style>\n",
       "<table border=\"1\" class=\"dataframe\">\n",
       "  <thead>\n",
       "    <tr style=\"text-align: right;\">\n",
       "      <th></th>\n",
       "      <th>0</th>\n",
       "      <th>1</th>\n",
       "      <th>2</th>\n",
       "      <th>3</th>\n",
       "      <th>4</th>\n",
       "      <th>5</th>\n",
       "      <th>6</th>\n",
       "    </tr>\n",
       "  </thead>\n",
       "  <tbody>\n",
       "    <tr>\n",
       "      <th>0</th>\n",
       "      <td>True</td>\n",
       "      <td>False</td>\n",
       "      <td>False</td>\n",
       "      <td>True</td>\n",
       "      <td>True</td>\n",
       "      <td>False</td>\n",
       "      <td>False</td>\n",
       "    </tr>\n",
       "    <tr>\n",
       "      <th>1</th>\n",
       "      <td>True</td>\n",
       "      <td>True</td>\n",
       "      <td>True</td>\n",
       "      <td>False</td>\n",
       "      <td>False</td>\n",
       "      <td>False</td>\n",
       "      <td>False</td>\n",
       "    </tr>\n",
       "    <tr>\n",
       "      <th>2</th>\n",
       "      <td>False</td>\n",
       "      <td>False</td>\n",
       "      <td>False</td>\n",
       "      <td>True</td>\n",
       "      <td>True</td>\n",
       "      <td>True</td>\n",
       "      <td>False</td>\n",
       "    </tr>\n",
       "    <tr>\n",
       "      <th>3</th>\n",
       "      <td>False</td>\n",
       "      <td>True</td>\n",
       "      <td>False</td>\n",
       "      <td>False</td>\n",
       "      <td>False</td>\n",
       "      <td>False</td>\n",
       "      <td>True</td>\n",
       "    </tr>\n",
       "  </tbody>\n",
       "</table>\n",
       "</div>"
      ],
      "text/plain": [
       "       0      1      2      3      4      5      6\n",
       "0   True  False  False   True   True  False  False\n",
       "1   True   True   True  False  False  False  False\n",
       "2  False  False  False   True   True   True  False\n",
       "3  False   True  False  False  False  False   True"
      ]
     },
     "execution_count": 14,
     "metadata": {},
     "output_type": "execute_result"
    }
   ],
   "source": [
    "vals_bool = ~vals.isnull()\n",
    "vals_bool"
   ]
  },
  {
   "cell_type": "markdown",
   "id": "aeaaf863-464f-451b-bd62-bf4476d307ab",
   "metadata": {},
   "source": [
    "#### Sample score"
   ]
  },
  {
   "cell_type": "code",
   "execution_count": 90,
   "id": "a631f6a7-8eb9-44fd-8c3e-7d71fb6db15a",
   "metadata": {
    "execution": {
     "iopub.execute_input": "2021-08-13T11:45:35.698217Z",
     "iopub.status.busy": "2021-08-13T11:45:35.698217Z",
     "iopub.status.idle": "2021-08-13T11:45:35.716525Z",
     "shell.execute_reply": "2021-08-13T11:45:35.715525Z",
     "shell.execute_reply.started": "2021-08-13T11:45:35.698217Z"
    },
    "tags": []
   },
   "outputs": [
    {
     "data": {
      "text/plain": [
       "0.2"
      ]
     },
     "execution_count": 90,
     "metadata": {},
     "output_type": "execute_result"
    }
   ],
   "source": [
    "jaccard_score(vals_bool.iloc[1], vals_bool.iloc[0])"
   ]
  },
  {
   "cell_type": "markdown",
   "id": "3506b1e6-57a8-4757-867c-cf3f2742a2e9",
   "metadata": {},
   "source": [
    "#### Similarity scores in the whole utility matrix"
   ]
  },
  {
   "cell_type": "code",
   "execution_count": 91,
   "id": "641577d2-11d4-4cdb-ba31-0ca39425e848",
   "metadata": {
    "execution": {
     "iopub.execute_input": "2021-08-13T11:45:36.721953Z",
     "iopub.status.busy": "2021-08-13T11:45:36.721953Z",
     "iopub.status.idle": "2021-08-13T11:45:36.751547Z",
     "shell.execute_reply": "2021-08-13T11:45:36.750546Z",
     "shell.execute_reply.started": "2021-08-13T11:45:36.721953Z"
    },
    "tags": []
   },
   "outputs": [
    {
     "data": {
      "text/plain": [
       "0    1.0\n",
       "1    0.2\n",
       "2    0.5\n",
       "3    0.0\n",
       "dtype: float64"
      ]
     },
     "execution_count": 91,
     "metadata": {},
     "output_type": "execute_result"
    }
   ],
   "source": [
    "vals_bool.apply(lambda x: jaccard_score(x, vals_bool.iloc[0]), axis=1)"
   ]
  },
  {
   "cell_type": "markdown",
   "id": "ab652921-9831-49f1-98ae-43b57cf90371",
   "metadata": {},
   "source": [
    "### Cosine Similarity\n",
    "\n",
    "$$\\Large S_C(r_x,r_y) = \\frac{r_x \\cdot r_y}{\\| r_x \\|  \\| r_y \\|}$$\n",
    "$$\\Large S_C(r_x,r_y) = \\frac{\\sum_i r_{xi} r_{yi} }{\\sqrt{ \\sum_i r_{xi}^2} \\sqrt{ \\sum_i r_{yi}^2} }$$\n",
    "\n",
    "In Cosine similarity, we look at the angle of the two vectors and not their magnitudes.\n"
   ]
  },
  {
   "cell_type": "code",
   "execution_count": 26,
   "id": "fa3155ed-acb4-4154-865e-c76a5a00bf27",
   "metadata": {
    "execution": {
     "iopub.execute_input": "2021-08-13T10:34:41.704892Z",
     "iopub.status.busy": "2021-08-13T10:34:41.704892Z",
     "iopub.status.idle": "2021-08-13T10:34:41.733346Z",
     "shell.execute_reply": "2021-08-13T10:34:41.732346Z",
     "shell.execute_reply.started": "2021-08-13T10:34:41.704892Z"
    },
    "tags": []
   },
   "outputs": [
    {
     "data": {
      "text/plain": [
       "array([[1.        ],\n",
       "       [0.37986859],\n",
       "       [0.32203059],\n",
       "       [0.        ]])"
      ]
     },
     "execution_count": 26,
     "metadata": {},
     "output_type": "execute_result"
    }
   ],
   "source": [
    "vals_filled = vals.fillna(0)\n",
    "cosine_similarity(vals_filled, vals_filled.iloc[[0]])"
   ]
  },
  {
   "cell_type": "markdown",
   "id": "b6082efa-6483-4257-9bb9-6587d7cec065",
   "metadata": {},
   "source": [
    "#### Mean-centered variation\n",
    "\n",
    "The limitation of the vanilla cosine similarity metric is that some users rate very high or very low. And we need to take it into account when we predict the ratings. Additionally, unrated items are treated as *'negatives'*, at least in this 0-5 rating scheme because nulls are treated as 0s which connote a negative rating. Our solution to this is to apply mean-centering to the user vectors before computing the similarity scores."
   ]
  },
  {
   "cell_type": "code",
   "execution_count": 96,
   "id": "6df9262a-90bf-4548-b188-c7a34c1b3a39",
   "metadata": {
    "execution": {
     "iopub.execute_input": "2021-08-13T11:47:40.863106Z",
     "iopub.status.busy": "2021-08-13T11:47:40.863106Z",
     "iopub.status.idle": "2021-08-13T11:47:40.887112Z",
     "shell.execute_reply": "2021-08-13T11:47:40.886100Z",
     "shell.execute_reply.started": "2021-08-13T11:47:40.863106Z"
    },
    "tags": []
   },
   "outputs": [
    {
     "data": {
      "text/html": [
       "<div>\n",
       "<style scoped>\n",
       "    .dataframe tbody tr th:only-of-type {\n",
       "        vertical-align: middle;\n",
       "    }\n",
       "\n",
       "    .dataframe tbody tr th {\n",
       "        vertical-align: top;\n",
       "    }\n",
       "\n",
       "    .dataframe thead th {\n",
       "        text-align: right;\n",
       "    }\n",
       "</style>\n",
       "<table border=\"1\" class=\"dataframe\">\n",
       "  <thead>\n",
       "    <tr style=\"text-align: right;\">\n",
       "      <th></th>\n",
       "      <th>0</th>\n",
       "      <th>1</th>\n",
       "      <th>2</th>\n",
       "      <th>3</th>\n",
       "      <th>4</th>\n",
       "      <th>5</th>\n",
       "      <th>6</th>\n",
       "    </tr>\n",
       "  </thead>\n",
       "  <tbody>\n",
       "    <tr>\n",
       "      <th>0</th>\n",
       "      <td>0.666667</td>\n",
       "      <td>0.000000</td>\n",
       "      <td>0.000000</td>\n",
       "      <td>1.666667</td>\n",
       "      <td>-2.333333</td>\n",
       "      <td>0.000000</td>\n",
       "      <td>0.0</td>\n",
       "    </tr>\n",
       "    <tr>\n",
       "      <th>1</th>\n",
       "      <td>0.333333</td>\n",
       "      <td>0.333333</td>\n",
       "      <td>-0.666667</td>\n",
       "      <td>0.000000</td>\n",
       "      <td>0.000000</td>\n",
       "      <td>0.000000</td>\n",
       "      <td>0.0</td>\n",
       "    </tr>\n",
       "    <tr>\n",
       "      <th>2</th>\n",
       "      <td>0.000000</td>\n",
       "      <td>0.000000</td>\n",
       "      <td>0.000000</td>\n",
       "      <td>-1.666667</td>\n",
       "      <td>0.333333</td>\n",
       "      <td>1.333333</td>\n",
       "      <td>0.0</td>\n",
       "    </tr>\n",
       "    <tr>\n",
       "      <th>3</th>\n",
       "      <td>0.000000</td>\n",
       "      <td>0.000000</td>\n",
       "      <td>0.000000</td>\n",
       "      <td>0.000000</td>\n",
       "      <td>0.000000</td>\n",
       "      <td>0.000000</td>\n",
       "      <td>0.0</td>\n",
       "    </tr>\n",
       "  </tbody>\n",
       "</table>\n",
       "</div>"
      ],
      "text/plain": [
       "          0         1         2         3         4         5    6\n",
       "0  0.666667  0.000000  0.000000  1.666667 -2.333333  0.000000  0.0\n",
       "1  0.333333  0.333333 -0.666667  0.000000  0.000000  0.000000  0.0\n",
       "2  0.000000  0.000000  0.000000 -1.666667  0.333333  1.333333  0.0\n",
       "3  0.000000  0.000000  0.000000  0.000000  0.000000  0.000000  0.0"
      ]
     },
     "execution_count": 96,
     "metadata": {},
     "output_type": "execute_result"
    }
   ],
   "source": [
    "vals_mean = vals.mean(axis=1).values.reshape(-1,1)\n",
    "vals_centered  = vals - vals_mean\n",
    "vals_filled = vals_centered.fillna(0)\n",
    "vals_filled"
   ]
  },
  {
   "cell_type": "code",
   "execution_count": 97,
   "id": "4607baea-e5f5-4541-96b6-3673367c7fa2",
   "metadata": {
    "execution": {
     "iopub.execute_input": "2021-08-13T11:47:41.614745Z",
     "iopub.status.busy": "2021-08-13T11:47:41.614745Z",
     "iopub.status.idle": "2021-08-13T11:47:41.632750Z",
     "shell.execute_reply": "2021-08-13T11:47:41.631749Z",
     "shell.execute_reply.started": "2021-08-13T11:47:41.614745Z"
    },
    "tags": []
   },
   "outputs": [
    {
     "data": {
      "text/plain": [
       "array([[ 1.        ],\n",
       "       [ 0.09245003],\n",
       "       [-0.55908525],\n",
       "       [ 0.        ]])"
      ]
     },
     "execution_count": 97,
     "metadata": {},
     "output_type": "execute_result"
    }
   ],
   "source": [
    "cosine_similarity(vals_filled, vals_filled.iloc[[0]])"
   ]
  },
  {
   "cell_type": "markdown",
   "id": "bb0839ec-4c32-45ca-b7c7-d4fc5bc8e12e",
   "metadata": {},
   "source": [
    "### Pearson\n",
    "\n",
    "$$\\Large \\rho(r_x,r_y) = \\frac{\\sum_i (r_{xi} - \\bar{r_{x}}) (r_{yi} - \\bar{r_{y}}) }{\\sqrt{ \\sum_i (r_{xi} - \\bar{r_{x}})^2} \\sqrt{ \\sum_i (r_{yi} - \\bar{r_{y}})^2} }$$\n",
    "\n",
    "\"In statistics, the Pearson correlation coefficient (PCC, pronounced /ˈpɪərsən/) ― also known as Pearson's r, the Pearson product-moment correlation coefficient (PPMCC), the bivariate correlation,[1] or colloquially simply as the correlation coefficient[2] ― is a measure of linear correlation between two sets of data.\" - <a href=\"https://en.wikipedia.org/wiki/Pearson_correlation_coefficient\">Wikipedia</a>\n",
    "\n",
    "**When we impute all the missing values with the users' mean ratings, we this is the same as centered-cosine similarity.**"
   ]
  },
  {
   "cell_type": "code",
   "execution_count": 100,
   "id": "c8c2fcef-38dc-4cf8-8618-bc1d1f32a028",
   "metadata": {
    "execution": {
     "iopub.execute_input": "2021-08-13T11:58:15.735969Z",
     "iopub.status.busy": "2021-08-13T11:58:15.734968Z",
     "iopub.status.idle": "2021-08-13T11:58:15.760975Z",
     "shell.execute_reply": "2021-08-13T11:58:15.759975Z",
     "shell.execute_reply.started": "2021-08-13T11:58:15.735969Z"
    },
    "tags": []
   },
   "outputs": [
    {
     "data": {
      "text/html": [
       "<div>\n",
       "<style scoped>\n",
       "    .dataframe tbody tr th:only-of-type {\n",
       "        vertical-align: middle;\n",
       "    }\n",
       "\n",
       "    .dataframe tbody tr th {\n",
       "        vertical-align: top;\n",
       "    }\n",
       "\n",
       "    .dataframe thead th {\n",
       "        text-align: right;\n",
       "    }\n",
       "</style>\n",
       "<table border=\"1\" class=\"dataframe\">\n",
       "  <thead>\n",
       "    <tr style=\"text-align: right;\">\n",
       "      <th></th>\n",
       "      <th>0</th>\n",
       "      <th>1</th>\n",
       "      <th>2</th>\n",
       "      <th>3</th>\n",
       "      <th>4</th>\n",
       "      <th>5</th>\n",
       "      <th>6</th>\n",
       "    </tr>\n",
       "  </thead>\n",
       "  <tbody>\n",
       "    <tr>\n",
       "      <th>0</th>\n",
       "      <td>4.000000</td>\n",
       "      <td>3.333333</td>\n",
       "      <td>3.333333</td>\n",
       "      <td>5.000000</td>\n",
       "      <td>1.000000</td>\n",
       "      <td>3.333333</td>\n",
       "      <td>3.333333</td>\n",
       "    </tr>\n",
       "    <tr>\n",
       "      <th>1</th>\n",
       "      <td>5.000000</td>\n",
       "      <td>5.000000</td>\n",
       "      <td>4.000000</td>\n",
       "      <td>4.666667</td>\n",
       "      <td>4.666667</td>\n",
       "      <td>4.666667</td>\n",
       "      <td>4.666667</td>\n",
       "    </tr>\n",
       "    <tr>\n",
       "      <th>2</th>\n",
       "      <td>3.666667</td>\n",
       "      <td>3.666667</td>\n",
       "      <td>3.666667</td>\n",
       "      <td>2.000000</td>\n",
       "      <td>4.000000</td>\n",
       "      <td>5.000000</td>\n",
       "      <td>3.666667</td>\n",
       "    </tr>\n",
       "    <tr>\n",
       "      <th>3</th>\n",
       "      <td>3.000000</td>\n",
       "      <td>3.000000</td>\n",
       "      <td>3.000000</td>\n",
       "      <td>3.000000</td>\n",
       "      <td>3.000000</td>\n",
       "      <td>3.000000</td>\n",
       "      <td>3.000000</td>\n",
       "    </tr>\n",
       "  </tbody>\n",
       "</table>\n",
       "</div>"
      ],
      "text/plain": [
       "          0         1         2         3         4         5         6\n",
       "0  4.000000  3.333333  3.333333  5.000000  1.000000  3.333333  3.333333\n",
       "1  5.000000  5.000000  4.000000  4.666667  4.666667  4.666667  4.666667\n",
       "2  3.666667  3.666667  3.666667  2.000000  4.000000  5.000000  3.666667\n",
       "3  3.000000  3.000000  3.000000  3.000000  3.000000  3.000000  3.000000"
      ]
     },
     "execution_count": 100,
     "metadata": {},
     "output_type": "execute_result"
    }
   ],
   "source": [
    "vals_filled = vals.apply(lambda x: x.fillna(x.mean()), axis=1)\n",
    "vals_filled"
   ]
  },
  {
   "cell_type": "code",
   "execution_count": 101,
   "id": "c5fd2350-3e3a-4e99-9c03-93a4cb79e133",
   "metadata": {
    "execution": {
     "iopub.execute_input": "2021-08-13T11:58:15.998028Z",
     "iopub.status.busy": "2021-08-13T11:58:15.998028Z",
     "iopub.status.idle": "2021-08-13T11:58:16.012031Z",
     "shell.execute_reply": "2021-08-13T11:58:16.011031Z",
     "shell.execute_reply.started": "2021-08-13T11:58:15.998028Z"
    },
    "tags": []
   },
   "outputs": [
    {
     "name": "stderr",
     "output_type": "stream",
     "text": [
      "C:\\Users\\jude_\\anaconda3\\lib\\site-packages\\scipy\\stats\\stats.py:3913: PearsonRConstantInputWarning: An input array is constant; the correlation coefficent is not defined.\n",
      "  warnings.warn(PearsonRConstantInputWarning())\n"
     ]
    },
    {
     "data": {
      "text/plain": [
       "0    1.000000\n",
       "1    0.092450\n",
       "2   -0.559085\n",
       "3         NaN\n",
       "dtype: float64"
      ]
     },
     "execution_count": 101,
     "metadata": {},
     "output_type": "execute_result"
    }
   ],
   "source": [
    "vals_filled.apply(lambda x: pearsonr(x, vals_filled.iloc[0])[0], axis=1)"
   ]
  },
  {
   "cell_type": "markdown",
   "id": "b7a2de96-864c-4dc8-81c9-b82b711030cb",
   "metadata": {
    "editable": false,
    "tags": []
   },
   "source": [
    "## End\n",
    "<sup>made by **Jude Michael Teves**</sup> <br>\n",
    "<sup>for comments, corrections, suggestions, please email:</sup><sup> <href>judemichaelteves@gmail.com</href> or <href>jude.teves@dlsu.edu.ph</href></sup><br>"
   ]
  }
 ],
 "metadata": {
  "kernelspec": {
   "display_name": "Python 3",
   "language": "python",
   "name": "python3"
  },
  "language_info": {
   "codemirror_mode": {
    "name": "ipython",
    "version": 3
   },
   "file_extension": ".py",
   "mimetype": "text/x-python",
   "name": "python",
   "nbconvert_exporter": "python",
   "pygments_lexer": "ipython3",
   "version": "3.8.8"
  }
 },
 "nbformat": 4,
 "nbformat_minor": 5
}

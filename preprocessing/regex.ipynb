{
 "cells": [
  {
   "cell_type": "markdown",
   "id": "constant-clone",
   "metadata": {
    "deletable": false,
    "editable": false,
    "tags": []
   },
   "source": [
    "## Regular Expressions\n",
    "\n",
    "*Prepared by:*\n",
    "**Jude Michael Teves**  \n",
    "Faculty, Software Technology Department  \n",
    "College of Computer Studies - De La Salle University"
   ]
  },
  {
   "cell_type": "markdown",
   "id": "unlikely-amsterdam",
   "metadata": {},
   "source": [
    "This notebook shows how to perform basic regular expressions (regex) in Python."
   ]
  },
  {
   "cell_type": "markdown",
   "id": "environmental-guidance",
   "metadata": {},
   "source": [
    "## Preliminaries"
   ]
  },
  {
   "cell_type": "markdown",
   "id": "concrete-radio",
   "metadata": {},
   "source": [
    "### Import library"
   ]
  },
  {
   "cell_type": "code",
   "execution_count": 1,
   "id": "smart-monitor",
   "metadata": {
    "execution": {
     "iopub.execute_input": "2021-11-17T15:54:36.106006Z",
     "iopub.status.busy": "2021-11-17T15:54:36.105006Z",
     "iopub.status.idle": "2021-11-17T15:54:36.135652Z",
     "shell.execute_reply": "2021-11-17T15:54:36.134651Z",
     "shell.execute_reply.started": "2021-11-17T15:54:36.106006Z"
    }
   },
   "outputs": [],
   "source": [
    "import re"
   ]
  },
  {
   "cell_type": "markdown",
   "id": "tired-heaven",
   "metadata": {},
   "source": [
    "## Regex Syntax\n",
    "\n",
    "A regular expression (regex) \"is a sequence of symbols and characters expressing a string or pattern to be searched for within a longer piece of text.\" In the context of text preprocessing, we use this to extract the parts that we need from a text data.\n",
    "\n",
    "Here are some cheatsheets for the regex syntax:\n",
    "\n",
    "<img style=\"margin: auto\" src=\"../images/pyregex-cheatsheet.png\">\n",
    "<br>\n",
    "<img style=\"margin: auto\" src=\"../images/regex-lovesdata.png\">\n",
    "<br>"
   ]
  },
  {
   "cell_type": "markdown",
   "id": "broad-calculation",
   "metadata": {},
   "source": [
    "### Regex Tester Website\n",
    "\n",
    "**Note!** It is very helpful if you test out your regex first on this <a href=\"http://www.regex101.com/\">website</a> to ensure that it works before running your Python code."
   ]
  },
  {
   "cell_type": "markdown",
   "id": "thick-sleeping",
   "metadata": {},
   "source": [
    "## Basic Regex"
   ]
  },
  {
   "cell_type": "markdown",
   "id": "marked-knitting",
   "metadata": {},
   "source": [
    "### Regex functions "
   ]
  },
  {
   "cell_type": "markdown",
   "id": "entitled-birthday",
   "metadata": {},
   "source": [
    "**re.match**\n",
    "\n",
    "Checks if the pattern matches the string. The pattern must occur at the start of the string, else it will return nothing. If the regex has a capturing group, denoted by (), then re.match will return the substrings that match the pattern inside the parenthesis ()."
   ]
  },
  {
   "cell_type": "code",
   "execution_count": 2,
   "id": "sought-sixth",
   "metadata": {
    "execution": {
     "iopub.execute_input": "2021-11-17T15:54:37.607210Z",
     "iopub.status.busy": "2021-11-17T15:54:37.607210Z",
     "iopub.status.idle": "2021-11-17T15:54:37.622213Z",
     "shell.execute_reply": "2021-11-17T15:54:37.621213Z",
     "shell.execute_reply.started": "2021-11-17T15:54:37.607210Z"
    }
   },
   "outputs": [
    {
     "name": "stdout",
     "output_type": "stream",
     "text": [
      "no match\n"
     ]
    }
   ],
   "source": [
    "text = 'I am Jude Jude Jude lala'\n",
    "\n",
    "if re.match(r'Jude', text):\n",
    "    print('matched')\n",
    "else:\n",
    "    print('no match')"
   ]
  },
  {
   "cell_type": "code",
   "execution_count": 3,
   "id": "applied-pastor",
   "metadata": {
    "execution": {
     "iopub.execute_input": "2021-11-17T15:54:37.870609Z",
     "iopub.status.busy": "2021-11-17T15:54:37.869610Z",
     "iopub.status.idle": "2021-11-17T15:54:37.890615Z",
     "shell.execute_reply": "2021-11-17T15:54:37.889614Z",
     "shell.execute_reply.started": "2021-11-17T15:54:37.870609Z"
    }
   },
   "outputs": [
    {
     "name": "stdout",
     "output_type": "stream",
     "text": [
      "matched\n"
     ]
    }
   ],
   "source": [
    "if re.match(r'I am', text):\n",
    "    print('matched')\n",
    "else:\n",
    "    print('no match')"
   ]
  },
  {
   "cell_type": "code",
   "execution_count": 4,
   "id": "spanish-psychology",
   "metadata": {
    "execution": {
     "iopub.execute_input": "2021-11-17T15:54:38.049601Z",
     "iopub.status.busy": "2021-11-17T15:54:38.049601Z",
     "iopub.status.idle": "2021-11-17T15:54:38.063605Z",
     "shell.execute_reply": "2021-11-17T15:54:38.062604Z",
     "shell.execute_reply.started": "2021-11-17T15:54:38.049601Z"
    }
   },
   "outputs": [
    {
     "data": {
      "text/plain": [
       "<re.Match object; span=(0, 4), match='I am'>"
      ]
     },
     "execution_count": 4,
     "metadata": {},
     "output_type": "execute_result"
    }
   ],
   "source": [
    "re.match(r'I am', text)"
   ]
  },
  {
   "cell_type": "code",
   "execution_count": 5,
   "id": "selective-voice",
   "metadata": {
    "execution": {
     "iopub.execute_input": "2021-11-17T15:54:38.231819Z",
     "iopub.status.busy": "2021-11-17T15:54:38.231819Z",
     "iopub.status.idle": "2021-11-17T15:54:38.252825Z",
     "shell.execute_reply": "2021-11-17T15:54:38.251823Z",
     "shell.execute_reply.started": "2021-11-17T15:54:38.231819Z"
    }
   },
   "outputs": [
    {
     "name": "stdout",
     "output_type": "stream",
     "text": [
      "matched\n"
     ]
    }
   ],
   "source": [
    "if re.match(r'(.*) am (.*)', text):\n",
    "    print('matched')\n",
    "else:\n",
    "    print('no match')"
   ]
  },
  {
   "cell_type": "code",
   "execution_count": 6,
   "id": "danish-intellectual",
   "metadata": {
    "execution": {
     "iopub.execute_input": "2021-11-17T15:54:38.395795Z",
     "iopub.status.busy": "2021-11-17T15:54:38.395795Z",
     "iopub.status.idle": "2021-11-17T15:54:38.410798Z",
     "shell.execute_reply": "2021-11-17T15:54:38.409797Z",
     "shell.execute_reply.started": "2021-11-17T15:54:38.395795Z"
    }
   },
   "outputs": [
    {
     "data": {
      "text/plain": [
       "<re.Match object; span=(0, 24), match='I am Jude Jude Jude lala'>"
      ]
     },
     "execution_count": 6,
     "metadata": {},
     "output_type": "execute_result"
    }
   ],
   "source": [
    "re.match(r'(.*) am (.*)', text)"
   ]
  },
  {
   "cell_type": "markdown",
   "id": "adaptive-refrigerator",
   "metadata": {},
   "source": [
    "**re.search**\n",
    "\n",
    "Returns the first instance of the substring matching the pattern."
   ]
  },
  {
   "cell_type": "code",
   "execution_count": 7,
   "id": "based-swift",
   "metadata": {
    "execution": {
     "iopub.execute_input": "2021-11-17T15:54:38.712378Z",
     "iopub.status.busy": "2021-11-17T15:54:38.711378Z",
     "iopub.status.idle": "2021-11-17T15:54:38.726399Z",
     "shell.execute_reply": "2021-11-17T15:54:38.725399Z",
     "shell.execute_reply.started": "2021-11-17T15:54:38.712378Z"
    }
   },
   "outputs": [
    {
     "name": "stdout",
     "output_type": "stream",
     "text": [
      "Jude\n",
      "I am\n",
      "I am Jude Jude Jude lala\n",
      "('I', 'Jude Jude Jude lala')\n",
      "I am Jude Jude Jude lala\n",
      "('Jude',)\n"
     ]
    }
   ],
   "source": [
    "text = 'I am Jude Jude Jude lala'\n",
    "print(re.search(r'Jude', text)[0]) # whole matched string\n",
    "print(re.search(r'I am', text)[0]) # whole matched string\n",
    "\n",
    "s = re.search(r'(.*) am (.*)', text)\n",
    "print(s[0]) # whole matched string\n",
    "print(s.groups()) # captured groups\n",
    "\n",
    "s = re.search(r'.*(Jude).*', text)\n",
    "print(s[0]) # whole matched string\n",
    "print(s.groups()) # captured groups"
   ]
  },
  {
   "cell_type": "markdown",
   "id": "opposed-airfare",
   "metadata": {},
   "source": [
    "**re.findall**\n",
    "\n",
    "Returns all substrings matching the pattern."
   ]
  },
  {
   "cell_type": "code",
   "execution_count": 8,
   "id": "false-casino",
   "metadata": {
    "execution": {
     "iopub.execute_input": "2021-11-17T15:54:39.046943Z",
     "iopub.status.busy": "2021-11-17T15:54:39.045943Z",
     "iopub.status.idle": "2021-11-17T15:54:39.056952Z",
     "shell.execute_reply": "2021-11-17T15:54:39.055952Z",
     "shell.execute_reply.started": "2021-11-17T15:54:39.046943Z"
    }
   },
   "outputs": [
    {
     "data": {
      "text/plain": [
       "['Jude', 'Jude', 'Jude']"
      ]
     },
     "execution_count": 8,
     "metadata": {},
     "output_type": "execute_result"
    }
   ],
   "source": [
    "re.findall(r'Jude', text)"
   ]
  },
  {
   "cell_type": "code",
   "execution_count": 9,
   "id": "competitive-thousand",
   "metadata": {
    "execution": {
     "iopub.execute_input": "2021-11-17T15:54:39.223784Z",
     "iopub.status.busy": "2021-11-17T15:54:39.223784Z",
     "iopub.status.idle": "2021-11-17T15:54:39.230785Z",
     "shell.execute_reply": "2021-11-17T15:54:39.229785Z",
     "shell.execute_reply.started": "2021-11-17T15:54:39.223784Z"
    }
   },
   "outputs": [
    {
     "data": {
      "text/plain": [
       "['am']"
      ]
     },
     "execution_count": 9,
     "metadata": {},
     "output_type": "execute_result"
    }
   ],
   "source": [
    "re.findall(r'am', text)"
   ]
  },
  {
   "cell_type": "code",
   "execution_count": 10,
   "id": "special-syracuse",
   "metadata": {
    "execution": {
     "iopub.execute_input": "2021-11-17T15:54:39.388597Z",
     "iopub.status.busy": "2021-11-17T15:54:39.388597Z",
     "iopub.status.idle": "2021-11-17T15:54:39.406602Z",
     "shell.execute_reply": "2021-11-17T15:54:39.405602Z",
     "shell.execute_reply.started": "2021-11-17T15:54:39.388597Z"
    }
   },
   "outputs": [
    {
     "data": {
      "text/plain": [
       "[]"
      ]
     },
     "execution_count": 10,
     "metadata": {},
     "output_type": "execute_result"
    }
   ],
   "source": [
    "re.findall(r'hello', text)"
   ]
  },
  {
   "cell_type": "markdown",
   "id": "raising-group",
   "metadata": {},
   "source": [
    "### Non-greedy searching\n",
    "\n",
    "By default, + and * are greedy when it comes to searching. This means that it will try to capture everything until the last occurence of the pattern on the right. Here is an example."
   ]
  },
  {
   "cell_type": "code",
   "execution_count": 11,
   "id": "monetary-saver",
   "metadata": {
    "execution": {
     "iopub.execute_input": "2021-11-17T15:54:40.038715Z",
     "iopub.status.busy": "2021-11-17T15:54:40.038715Z",
     "iopub.status.idle": "2021-11-17T15:54:40.048717Z",
     "shell.execute_reply": "2021-11-17T15:54:40.047717Z",
     "shell.execute_reply.started": "2021-11-17T15:54:40.038715Z"
    }
   },
   "outputs": [
    {
     "name": "stdout",
     "output_type": "stream",
     "text": [
      "('I am Jude Jude ', ' lala')\n"
     ]
    }
   ],
   "source": [
    "text = 'I am Jude Jude Jude lala'\n",
    "\n",
    "s = re.search(r'(.*)Jude(.*)', text)\n",
    "print(s.groups())"
   ]
  },
  {
   "cell_type": "code",
   "execution_count": 12,
   "id": "auburn-redhead",
   "metadata": {
    "execution": {
     "iopub.execute_input": "2021-11-17T15:54:40.203770Z",
     "iopub.status.busy": "2021-11-17T15:54:40.203770Z",
     "iopub.status.idle": "2021-11-17T15:54:40.222310Z",
     "shell.execute_reply": "2021-11-17T15:54:40.221309Z",
     "shell.execute_reply.started": "2021-11-17T15:54:40.203770Z"
    }
   },
   "outputs": [
    {
     "name": "stdout",
     "output_type": "stream",
     "text": [
      "2\n",
      "I am Jude Jude Jude lala\n",
      "I am Jude Jude \n",
      " lala\n"
     ]
    }
   ],
   "source": [
    "print(len(s.groups()))\n",
    "print(s[0]) # the first index contains the whole string\n",
    "print(s[1]) # the second index contains the first captured group\n",
    "print(s[2]) # the third index contains the second captured group"
   ]
  },
  {
   "cell_type": "markdown",
   "id": "behind-correction",
   "metadata": {},
   "source": [
    "To prevent greedy searching, we add ? after * or +."
   ]
  },
  {
   "cell_type": "code",
   "execution_count": 13,
   "id": "digital-sheet",
   "metadata": {
    "execution": {
     "iopub.execute_input": "2021-11-17T15:54:40.586780Z",
     "iopub.status.busy": "2021-11-17T15:54:40.585779Z",
     "iopub.status.idle": "2021-11-17T15:54:40.599616Z",
     "shell.execute_reply": "2021-11-17T15:54:40.598615Z",
     "shell.execute_reply.started": "2021-11-17T15:54:40.586780Z"
    }
   },
   "outputs": [
    {
     "name": "stdout",
     "output_type": "stream",
     "text": [
      "('I am ', ' Jude Jude lala')\n"
     ]
    }
   ],
   "source": [
    "text = 'I am Jude Jude Jude lala'\n",
    "\n",
    "s = re.search(r'(.*?)Jude(.*)', text)\n",
    "print(s.groups())"
   ]
  },
  {
   "cell_type": "markdown",
   "id": "alike-hanging",
   "metadata": {},
   "source": [
    "### Lookahead and lookbehind"
   ]
  },
  {
   "cell_type": "markdown",
   "id": "finite-latex",
   "metadata": {},
   "source": [
    "Regex lookahead is used to get words before a certain pattern"
   ]
  },
  {
   "cell_type": "code",
   "execution_count": 14,
   "id": "finished-production",
   "metadata": {
    "execution": {
     "iopub.execute_input": "2021-11-17T15:54:41.153604Z",
     "iopub.status.busy": "2021-11-17T15:54:41.153604Z",
     "iopub.status.idle": "2021-11-17T15:54:41.165116Z",
     "shell.execute_reply": "2021-11-17T15:54:41.164116Z",
     "shell.execute_reply.started": "2021-11-17T15:54:41.153604Z"
    }
   },
   "outputs": [
    {
     "name": "stdout",
     "output_type": "stream",
     "text": [
      "['jude hello data hello mining hello meow hello lala hello woof ']\n"
     ]
    }
   ],
   "source": [
    "text = 'jude hello data hello mining hello meow hello lala hello woof hello end'\n",
    "\n",
    "s = re.findall(r'.+(?=hello)', text)\n",
    "print(s)"
   ]
  },
  {
   "cell_type": "markdown",
   "id": "ordered-exchange",
   "metadata": {},
   "source": [
    "Let's also prevent greedy searching on this regex."
   ]
  },
  {
   "cell_type": "code",
   "execution_count": 15,
   "id": "identified-rates",
   "metadata": {
    "execution": {
     "iopub.execute_input": "2021-11-17T15:54:41.547485Z",
     "iopub.status.busy": "2021-11-17T15:54:41.547485Z",
     "iopub.status.idle": "2021-11-17T15:54:41.558996Z",
     "shell.execute_reply": "2021-11-17T15:54:41.557996Z",
     "shell.execute_reply.started": "2021-11-17T15:54:41.547485Z"
    }
   },
   "outputs": [
    {
     "name": "stdout",
     "output_type": "stream",
     "text": [
      "['jude ', 'hello data ', 'hello mining ', 'hello meow ', 'hello lala ', 'hello woof ']\n"
     ]
    }
   ],
   "source": [
    "text = 'jude hello data hello mining hello meow hello lala hello woof hello end'\n",
    "\n",
    "s = re.findall(r'.+?(?=hello)', text)\n",
    "print(s)"
   ]
  },
  {
   "cell_type": "markdown",
   "id": "exciting-friend",
   "metadata": {},
   "source": [
    "Regex lookbehind is the opposite of lookahead. It is used to get words after a certain pattern"
   ]
  },
  {
   "cell_type": "code",
   "execution_count": 16,
   "id": "amateur-toilet",
   "metadata": {
    "execution": {
     "iopub.execute_input": "2021-11-17T15:54:41.871889Z",
     "iopub.status.busy": "2021-11-17T15:54:41.870888Z",
     "iopub.status.idle": "2021-11-17T15:54:41.877890Z",
     "shell.execute_reply": "2021-11-17T15:54:41.876889Z",
     "shell.execute_reply.started": "2021-11-17T15:54:41.871889Z"
    }
   },
   "outputs": [
    {
     "name": "stdout",
     "output_type": "stream",
     "text": [
      "[' data hello mining hello meow hello lala hello woof hello end']\n"
     ]
    }
   ],
   "source": [
    "text = 'jude hello data hello mining hello meow hello lala hello woof hello end'\n",
    "\n",
    "s = re.findall(r'(?<=hello).+', text)\n",
    "print(s)"
   ]
  },
  {
   "cell_type": "markdown",
   "id": "particular-youth",
   "metadata": {},
   "source": [
    "Combining lookahead and lookbehind. Getting words in between two patterns."
   ]
  },
  {
   "cell_type": "code",
   "execution_count": 17,
   "id": "included-arthritis",
   "metadata": {
    "execution": {
     "iopub.execute_input": "2021-11-17T15:54:42.345889Z",
     "iopub.status.busy": "2021-11-17T15:54:42.345889Z",
     "iopub.status.idle": "2021-11-17T15:54:42.366912Z",
     "shell.execute_reply": "2021-11-17T15:54:42.365911Z",
     "shell.execute_reply.started": "2021-11-17T15:54:42.345889Z"
    }
   },
   "outputs": [
    {
     "name": "stdout",
     "output_type": "stream",
     "text": [
      "[' data ', ' mining ', ' meow ', ' lala ', ' woof ']\n"
     ]
    }
   ],
   "source": [
    "text = 'jude hello data hello mining hello meow hello lala hello woof hello end'\n",
    "\n",
    "s = re.findall(r'(?<=hello).+?(?=hello)', text)\n",
    "print(s)"
   ]
  },
  {
   "cell_type": "markdown",
   "id": "settled-pledge",
   "metadata": {},
   "source": [
    "### Named Capture Group"
   ]
  },
  {
   "cell_type": "code",
   "execution_count": 18,
   "id": "color-radius",
   "metadata": {
    "execution": {
     "iopub.execute_input": "2021-11-17T15:54:42.756601Z",
     "iopub.status.busy": "2021-11-17T15:54:42.755602Z",
     "iopub.status.idle": "2021-11-17T15:54:42.777606Z",
     "shell.execute_reply": "2021-11-17T15:54:42.776606Z",
     "shell.execute_reply.started": "2021-11-17T15:54:42.756601Z"
    }
   },
   "outputs": [
    {
     "name": "stdout",
     "output_type": "stream",
     "text": [
      "<re.Match object; span=(0, 7), match='abc 123'>\n"
     ]
    }
   ],
   "source": [
    "text = '''abc 123 def 456 def 789\n",
    "abc 123 def 456 def 789'''\n",
    "\n",
    "s = re.search(r'(?P<letters>\\D{3}) (?P<numbers>\\d{3})', text)\n",
    "print(s)"
   ]
  },
  {
   "cell_type": "code",
   "execution_count": 19,
   "id": "underlying-foster",
   "metadata": {
    "execution": {
     "iopub.execute_input": "2021-11-17T15:54:43.120363Z",
     "iopub.status.busy": "2021-11-17T15:54:43.119363Z",
     "iopub.status.idle": "2021-11-17T15:54:43.139876Z",
     "shell.execute_reply": "2021-11-17T15:54:43.138875Z",
     "shell.execute_reply.started": "2021-11-17T15:54:43.120363Z"
    }
   },
   "outputs": [
    {
     "data": {
      "text/plain": [
       "('abc', '123')"
      ]
     },
     "execution_count": 19,
     "metadata": {},
     "output_type": "execute_result"
    }
   ],
   "source": [
    "s.groups()"
   ]
  },
  {
   "cell_type": "code",
   "execution_count": 20,
   "id": "built-cornwall",
   "metadata": {
    "execution": {
     "iopub.execute_input": "2021-11-17T15:54:43.330370Z",
     "iopub.status.busy": "2021-11-17T15:54:43.330370Z",
     "iopub.status.idle": "2021-11-17T15:54:43.346374Z",
     "shell.execute_reply": "2021-11-17T15:54:43.345374Z",
     "shell.execute_reply.started": "2021-11-17T15:54:43.330370Z"
    }
   },
   "outputs": [
    {
     "data": {
      "text/plain": [
       "{'letters': 'abc', 'numbers': '123'}"
      ]
     },
     "execution_count": 20,
     "metadata": {},
     "output_type": "execute_result"
    }
   ],
   "source": [
    "s.groupdict()"
   ]
  },
  {
   "cell_type": "code",
   "execution_count": 21,
   "id": "freelance-racing",
   "metadata": {
    "execution": {
     "iopub.execute_input": "2021-11-17T15:54:43.498352Z",
     "iopub.status.busy": "2021-11-17T15:54:43.498352Z",
     "iopub.status.idle": "2021-11-17T15:54:43.505353Z",
     "shell.execute_reply": "2021-11-17T15:54:43.504354Z",
     "shell.execute_reply.started": "2021-11-17T15:54:43.498352Z"
    }
   },
   "outputs": [
    {
     "data": {
      "text/plain": [
       "'abc'"
      ]
     },
     "execution_count": 21,
     "metadata": {},
     "output_type": "execute_result"
    }
   ],
   "source": [
    "s['letters']"
   ]
  },
  {
   "cell_type": "code",
   "execution_count": 22,
   "id": "tribal-creativity",
   "metadata": {
    "execution": {
     "iopub.execute_input": "2021-11-17T15:54:43.662371Z",
     "iopub.status.busy": "2021-11-17T15:54:43.661371Z",
     "iopub.status.idle": "2021-11-17T15:54:43.678376Z",
     "shell.execute_reply": "2021-11-17T15:54:43.677375Z",
     "shell.execute_reply.started": "2021-11-17T15:54:43.662371Z"
    }
   },
   "outputs": [
    {
     "data": {
      "text/plain": [
       "'123'"
      ]
     },
     "execution_count": 22,
     "metadata": {},
     "output_type": "execute_result"
    }
   ],
   "source": [
    "s['numbers']"
   ]
  },
  {
   "cell_type": "markdown",
   "id": "requested-fleet",
   "metadata": {},
   "source": [
    "To iterate over the different matches, do the following:"
   ]
  },
  {
   "cell_type": "code",
   "execution_count": 23,
   "id": "ignored-perfume",
   "metadata": {
    "execution": {
     "iopub.execute_input": "2021-11-17T15:54:44.345627Z",
     "iopub.status.busy": "2021-11-17T15:54:44.344627Z",
     "iopub.status.idle": "2021-11-17T15:54:44.356166Z",
     "shell.execute_reply": "2021-11-17T15:54:44.355165Z",
     "shell.execute_reply.started": "2021-11-17T15:54:44.345627Z"
    }
   },
   "outputs": [
    {
     "name": "stdout",
     "output_type": "stream",
     "text": [
      "{'letters': 'abc', 'numbers': '123'}\n",
      "{'letters': 'def', 'numbers': '456'}\n",
      "{'letters': 'def', 'numbers': '789'}\n",
      "{'letters': 'abc', 'numbers': '123'}\n",
      "{'letters': 'def', 'numbers': '456'}\n",
      "{'letters': 'def', 'numbers': '789'}\n"
     ]
    }
   ],
   "source": [
    "for s in re.finditer(r'(?P<letters>\\D{3}) (?P<numbers>\\d{3})', text):\n",
    "    print(s.groupdict())"
   ]
  },
  {
   "cell_type": "markdown",
   "id": "21758e8c-dcf3-460f-a601-263a89529782",
   "metadata": {},
   "source": [
    "Another example."
   ]
  },
  {
   "cell_type": "code",
   "execution_count": 24,
   "id": "929775d7-b38a-4820-a492-68398a8f921a",
   "metadata": {
    "execution": {
     "iopub.execute_input": "2021-11-17T15:54:45.073346Z",
     "iopub.status.busy": "2021-11-17T15:54:45.073346Z",
     "iopub.status.idle": "2021-11-17T15:54:45.086658Z",
     "shell.execute_reply": "2021-11-17T15:54:45.085658Z",
     "shell.execute_reply.started": "2021-11-17T15:54:45.073346Z"
    }
   },
   "outputs": [
    {
     "name": "stdout",
     "output_type": "stream",
     "text": [
      "{'title': 'Mr.', 'name': 'Jude', 'year': '2021', 'month': '11', 'day': '17'}\n",
      "{'title': 'Dr.', 'name': 'Seuss', 'year': '1990', 'month': '10', 'day': '10'}\n",
      "{'title': 'Mrs.', 'name': 'Mojo', 'year': '1900', 'month': '01', 'day': '06'}\n"
     ]
    }
   ],
   "source": [
    "text = '''Mr. Jude9999 valbabkalfa 2021-11-17\n",
    "\n",
    "Dr. Seuss sadfasdfasfcxzv 1990-10-10 \n",
    "\n",
    "Mrs. Mojo valbabkalfa 1900-01-06'''\n",
    "\n",
    "for s in re.finditer(r'(?P<title>.+\\.) (?P<name>[a-zA-Z]+).*(?P<year>\\d{4})-(?P<month>\\d{2})-(?P<day>\\d{2})', text):\n",
    "    print(s.groupdict())"
   ]
  },
  {
   "cell_type": "markdown",
   "id": "shared-democrat",
   "metadata": {},
   "source": [
    "## References\n",
    "\n",
    "1. \"regular expression.\" lexico.com. 2021. https://www.lexico.com/definition/regular_expression (19 July 2021).\n",
    "1. http://www.pyregex.com/"
   ]
  },
  {
   "cell_type": "markdown",
   "id": "cathedral-seeking",
   "metadata": {
    "deletable": false,
    "editable": false,
    "tags": []
   },
   "source": [
    "## End\n",
    "<sup>made by **Jude Michael Teves**</sup> <br>\n",
    "<sup>for comments, corrections, suggestions, please email:</sup><sup> <href>judemichaelteves@gmail.com</href> or <href>jude.teves@dlsu.edu.ph</href></sup><br>"
   ]
  }
 ],
 "metadata": {
  "kernelspec": {
   "display_name": "Python 3",
   "language": "python",
   "name": "python3"
  },
  "language_info": {
   "codemirror_mode": {
    "name": "ipython",
    "version": 3
   },
   "file_extension": ".py",
   "mimetype": "text/x-python",
   "name": "python",
   "nbconvert_exporter": "python",
   "pygments_lexer": "ipython3",
   "version": "3.8.8"
  }
 },
 "nbformat": 4,
 "nbformat_minor": 5
}

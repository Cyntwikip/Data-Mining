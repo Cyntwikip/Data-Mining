{
 "cells": [
  {
   "cell_type": "markdown",
   "id": "pediatric-scout",
   "metadata": {
    "deletable": false,
    "editable": false,
    "tags": []
   },
   "source": [
    "## Regular Expressions\n",
    "\n",
    "*Prepared by:*\n",
    "**Jude Michael Teves**  \n",
    "Faculty, Software Technology Department  \n",
    "College of Computer Studies - De La Salle University"
   ]
  },
  {
   "cell_type": "markdown",
   "id": "basic-robertson",
   "metadata": {},
   "source": [
    "This notebook shows how to perform basic regular expressions (regex) in Python."
   ]
  },
  {
   "cell_type": "markdown",
   "id": "fluid-gentleman",
   "metadata": {},
   "source": [
    "## Preliminaries"
   ]
  },
  {
   "cell_type": "markdown",
   "id": "continental-dealer",
   "metadata": {},
   "source": [
    "### Import library"
   ]
  },
  {
   "cell_type": "code",
   "execution_count": 1,
   "id": "celtic-cursor",
   "metadata": {},
   "outputs": [],
   "source": [
    "import re"
   ]
  },
  {
   "cell_type": "markdown",
   "id": "placed-impact",
   "metadata": {},
   "source": [
    "## Regex Syntax\n",
    "\n",
    "A regular expression (regex) \"is a sequence of symbols and characters expressing a string or pattern to be searched for within a longer piece of text.\" In the context of text preprocessing, we use this to extract the parts that we need from a text data.\n",
    "\n",
    "Here are some cheatsheets for the regex syntax:\n",
    "\n",
    "<img style=\"margin: auto\" src=\"../images/pyregex-cheatsheet.png\">\n",
    "<br>\n",
    "<img style=\"margin: auto\" src=\"../images/regex-lovesdata.png\">\n",
    "<br>"
   ]
  },
  {
   "cell_type": "markdown",
   "id": "criminal-experience",
   "metadata": {},
   "source": [
    "### Regex Tester Website\n",
    "\n",
    "**Note!** It is very helpful if you test out your regex first on this <a href=\"http://www.regex101.com/\">website</a> to ensure that it works before running your Python code."
   ]
  },
  {
   "cell_type": "markdown",
   "id": "meaningful-garbage",
   "metadata": {},
   "source": [
    "## Basic Regex"
   ]
  },
  {
   "cell_type": "markdown",
   "id": "beginning-puppy",
   "metadata": {},
   "source": [
    "### Regex functions "
   ]
  },
  {
   "cell_type": "markdown",
   "id": "phantom-sequence",
   "metadata": {},
   "source": [
    "**re.match**\n",
    "\n",
    "Checks if the pattern matches the string. The pattern must occur at the start of the string, else it will return nothing. If the regex has a capturing group, denoted by (), then re.match will return the substrings that match the pattern inside the parenthesis ()."
   ]
  },
  {
   "cell_type": "code",
   "execution_count": 2,
   "id": "august-medication",
   "metadata": {},
   "outputs": [
    {
     "name": "stdout",
     "output_type": "stream",
     "text": [
      "no match\n"
     ]
    }
   ],
   "source": [
    "text = 'I am Jude Jude Jude lala'\n",
    "\n",
    "if re.match(r'Jude', text):\n",
    "    print('matched')\n",
    "else:\n",
    "    print('no match')"
   ]
  },
  {
   "cell_type": "code",
   "execution_count": 3,
   "id": "patent-serve",
   "metadata": {},
   "outputs": [
    {
     "name": "stdout",
     "output_type": "stream",
     "text": [
      "matched\n"
     ]
    }
   ],
   "source": [
    "if re.match(r'I am', text):\n",
    "    print('matched')\n",
    "else:\n",
    "    print('no match')"
   ]
  },
  {
   "cell_type": "code",
   "execution_count": 4,
   "id": "simplified-grenada",
   "metadata": {},
   "outputs": [
    {
     "data": {
      "text/plain": [
       "<re.Match object; span=(0, 4), match='I am'>"
      ]
     },
     "execution_count": 4,
     "metadata": {},
     "output_type": "execute_result"
    }
   ],
   "source": [
    "re.match(r'I am', text)"
   ]
  },
  {
   "cell_type": "code",
   "execution_count": 5,
   "id": "secure-plaintiff",
   "metadata": {},
   "outputs": [
    {
     "name": "stdout",
     "output_type": "stream",
     "text": [
      "matched\n"
     ]
    }
   ],
   "source": [
    "if re.match(r'(.*) am (.*)', text):\n",
    "    print('matched')\n",
    "else:\n",
    "    print('no match')"
   ]
  },
  {
   "cell_type": "code",
   "execution_count": 6,
   "id": "functioning-nightlife",
   "metadata": {},
   "outputs": [
    {
     "data": {
      "text/plain": [
       "<re.Match object; span=(0, 24), match='I am Jude Jude Jude lala'>"
      ]
     },
     "execution_count": 6,
     "metadata": {},
     "output_type": "execute_result"
    }
   ],
   "source": [
    "re.match(r'(.*) am (.*)', text)"
   ]
  },
  {
   "cell_type": "markdown",
   "id": "comfortable-bikini",
   "metadata": {},
   "source": [
    "**re.search**\n",
    "\n",
    "Returns the first instance of the substring matching the pattern."
   ]
  },
  {
   "cell_type": "code",
   "execution_count": 7,
   "id": "accurate-performance",
   "metadata": {},
   "outputs": [
    {
     "name": "stdout",
     "output_type": "stream",
     "text": [
      "Jude\n",
      "I am\n",
      "I am Jude Jude Jude lala\n",
      "('I', 'Jude Jude Jude lala')\n",
      "I am Jude Jude Jude lala\n",
      "('Jude',)\n"
     ]
    }
   ],
   "source": [
    "text = 'I am Jude Jude Jude lala'\n",
    "print(re.search(r'Jude', text)[0]) # whole matched string\n",
    "print(re.search(r'I am', text)[0]) # whole matched string\n",
    "\n",
    "s = re.search(r'(.*) am (.*)', text)\n",
    "print(s[0]) # whole matched string\n",
    "print(s.groups()) # captured groups\n",
    "\n",
    "s = re.search(r'.*(Jude).*', text)\n",
    "print(s[0]) # whole matched string\n",
    "print(s.groups()) # captured groups"
   ]
  },
  {
   "cell_type": "markdown",
   "id": "complex-failing",
   "metadata": {},
   "source": [
    "**re.findall**\n",
    "\n",
    "Returns all substrings matching the pattern."
   ]
  },
  {
   "cell_type": "code",
   "execution_count": 8,
   "id": "intelligent-carroll",
   "metadata": {},
   "outputs": [
    {
     "data": {
      "text/plain": [
       "['Jude', 'Jude', 'Jude']"
      ]
     },
     "execution_count": 8,
     "metadata": {},
     "output_type": "execute_result"
    }
   ],
   "source": [
    "re.findall(r'Jude', text)"
   ]
  },
  {
   "cell_type": "code",
   "execution_count": 9,
   "id": "medium-metropolitan",
   "metadata": {},
   "outputs": [
    {
     "data": {
      "text/plain": [
       "['am']"
      ]
     },
     "execution_count": 9,
     "metadata": {},
     "output_type": "execute_result"
    }
   ],
   "source": [
    "re.findall(r'am', text)"
   ]
  },
  {
   "cell_type": "code",
   "execution_count": 10,
   "id": "august-motorcycle",
   "metadata": {},
   "outputs": [
    {
     "data": {
      "text/plain": [
       "[]"
      ]
     },
     "execution_count": 10,
     "metadata": {},
     "output_type": "execute_result"
    }
   ],
   "source": [
    "re.findall(r'hello', text)"
   ]
  },
  {
   "cell_type": "markdown",
   "id": "dirty-grove",
   "metadata": {},
   "source": [
    "### Non-greedy searching\n",
    "\n",
    "By default, + and * are greedy when it comes to searching. This means that it will try to capture everything until the last occurence of the pattern on the right. Here is an example."
   ]
  },
  {
   "cell_type": "code",
   "execution_count": 11,
   "id": "statistical-subject",
   "metadata": {},
   "outputs": [
    {
     "name": "stdout",
     "output_type": "stream",
     "text": [
      "('I am Jude Jude ', ' lala')\n"
     ]
    }
   ],
   "source": [
    "text = 'I am Jude Jude Jude lala'\n",
    "\n",
    "s = re.search(r'(.*)Jude(.*)', text)\n",
    "print(s.groups())"
   ]
  },
  {
   "cell_type": "code",
   "execution_count": 12,
   "id": "sweet-twist",
   "metadata": {},
   "outputs": [
    {
     "name": "stdout",
     "output_type": "stream",
     "text": [
      "2\n",
      "I am Jude Jude Jude lala\n",
      "I am Jude Jude \n",
      " lala\n"
     ]
    }
   ],
   "source": [
    "print(len(s.groups()))\n",
    "print(s[0]) # the first index contains the whole string\n",
    "print(s[1]) # the second index contains the first captured group\n",
    "print(s[2]) # the third index contains the second captured group"
   ]
  },
  {
   "cell_type": "markdown",
   "id": "banner-tsunami",
   "metadata": {},
   "source": [
    "To prevent greedy searching, we add ? after * or +."
   ]
  },
  {
   "cell_type": "code",
   "execution_count": 13,
   "id": "developmental-governor",
   "metadata": {},
   "outputs": [
    {
     "name": "stdout",
     "output_type": "stream",
     "text": [
      "('I am ', ' Jude Jude lala')\n"
     ]
    }
   ],
   "source": [
    "text = 'I am Jude Jude Jude lala'\n",
    "\n",
    "s = re.search(r'(.*?)Jude(.*)', text)\n",
    "print(s.groups())"
   ]
  },
  {
   "cell_type": "code",
   "execution_count": 14,
   "id": "complicated-lender",
   "metadata": {},
   "outputs": [
    {
     "name": "stdout",
     "output_type": "stream",
     "text": [
      "['jude ', 'hello data ', 'hello mining ', 'hello meow ', 'hello lala ', 'hello woof ']\n"
     ]
    }
   ],
   "source": [
    "text = 'jude hello data hello mining hello meow hello lala hello woof hello end'\n",
    "\n",
    "s = re.findall(r'.+?(?=hello)', text)\n",
    "print(s)"
   ]
  },
  {
   "cell_type": "markdown",
   "id": "ranking-radar",
   "metadata": {},
   "source": [
    "### Lookahead and lookbehind"
   ]
  },
  {
   "cell_type": "markdown",
   "id": "upper-cricket",
   "metadata": {},
   "source": [
    "Regex lookahead is used to get words before a certain pattern"
   ]
  },
  {
   "cell_type": "code",
   "execution_count": 15,
   "id": "neural-guard",
   "metadata": {},
   "outputs": [
    {
     "name": "stdout",
     "output_type": "stream",
     "text": [
      "['jude hello data hello mining hello meow hello lala hello woof ']\n"
     ]
    }
   ],
   "source": [
    "text = 'jude hello data hello mining hello meow hello lala hello woof hello end'\n",
    "\n",
    "s = re.findall(r'.+(?=hello)', text)\n",
    "print(s)"
   ]
  },
  {
   "cell_type": "markdown",
   "id": "about-hormone",
   "metadata": {},
   "source": [
    "Regex lookbehind is the opposite of lookahead. It is used to get words after a certain pattern"
   ]
  },
  {
   "cell_type": "code",
   "execution_count": 16,
   "id": "median-petite",
   "metadata": {},
   "outputs": [
    {
     "name": "stdout",
     "output_type": "stream",
     "text": [
      "[' data hello mining hello meow hello lala hello woof hello end']\n"
     ]
    }
   ],
   "source": [
    "text = 'jude hello data hello mining hello meow hello lala hello woof hello end'\n",
    "\n",
    "s = re.findall(r'(?<=hello).+', text)\n",
    "print(s)"
   ]
  },
  {
   "cell_type": "markdown",
   "id": "executive-strike",
   "metadata": {},
   "source": [
    "Combining lookahead and lookbehind. Getting words in between two patterns."
   ]
  },
  {
   "cell_type": "code",
   "execution_count": 17,
   "id": "automated-dividend",
   "metadata": {},
   "outputs": [
    {
     "name": "stdout",
     "output_type": "stream",
     "text": [
      "[' data ', ' mining ', ' meow ', ' lala ', ' woof ']\n"
     ]
    }
   ],
   "source": [
    "text = 'jude hello data hello mining hello meow hello lala hello woof hello end'\n",
    "\n",
    "s = re.findall(r'(?<=hello).+?(?=hello)', text)\n",
    "print(s)"
   ]
  },
  {
   "cell_type": "markdown",
   "id": "female-intervention",
   "metadata": {},
   "source": [
    "### Named Capture Group"
   ]
  },
  {
   "cell_type": "code",
   "execution_count": 18,
   "id": "antique-david",
   "metadata": {},
   "outputs": [
    {
     "name": "stdout",
     "output_type": "stream",
     "text": [
      "<re.Match object; span=(0, 7), match='abc 123'>\n"
     ]
    }
   ],
   "source": [
    "text = '''abc 123 def 456 def 789\n",
    "abc 123 def 456 def 789'''\n",
    "\n",
    "s = re.search(r'(?P<letters>\\D{3}) (?P<numbers>\\d{3})', text)\n",
    "print(s)"
   ]
  },
  {
   "cell_type": "code",
   "execution_count": 19,
   "id": "linear-batch",
   "metadata": {},
   "outputs": [
    {
     "data": {
      "text/plain": [
       "('abc', '123')"
      ]
     },
     "execution_count": 19,
     "metadata": {},
     "output_type": "execute_result"
    }
   ],
   "source": [
    "s.groups()"
   ]
  },
  {
   "cell_type": "code",
   "execution_count": 20,
   "id": "tracked-walker",
   "metadata": {},
   "outputs": [
    {
     "data": {
      "text/plain": [
       "{'letters': 'abc', 'numbers': '123'}"
      ]
     },
     "execution_count": 20,
     "metadata": {},
     "output_type": "execute_result"
    }
   ],
   "source": [
    "s.groupdict()"
   ]
  },
  {
   "cell_type": "code",
   "execution_count": 21,
   "id": "weekly-tooth",
   "metadata": {},
   "outputs": [
    {
     "data": {
      "text/plain": [
       "'abc'"
      ]
     },
     "execution_count": 21,
     "metadata": {},
     "output_type": "execute_result"
    }
   ],
   "source": [
    "s['letters']"
   ]
  },
  {
   "cell_type": "code",
   "execution_count": 22,
   "id": "outer-wells",
   "metadata": {},
   "outputs": [
    {
     "data": {
      "text/plain": [
       "'123'"
      ]
     },
     "execution_count": 22,
     "metadata": {},
     "output_type": "execute_result"
    }
   ],
   "source": [
    "s['numbers']"
   ]
  },
  {
   "cell_type": "markdown",
   "id": "military-calcium",
   "metadata": {},
   "source": [
    "To iterate over the different matches, do the following:"
   ]
  },
  {
   "cell_type": "code",
   "execution_count": 23,
   "id": "limiting-lender",
   "metadata": {},
   "outputs": [
    {
     "name": "stdout",
     "output_type": "stream",
     "text": [
      "{'letters': 'abc', 'numbers': '123'}\n",
      "{'letters': 'def', 'numbers': '456'}\n",
      "{'letters': 'def', 'numbers': '789'}\n",
      "{'letters': 'abc', 'numbers': '123'}\n",
      "{'letters': 'def', 'numbers': '456'}\n",
      "{'letters': 'def', 'numbers': '789'}\n"
     ]
    }
   ],
   "source": [
    "for s in re.finditer(r'(?P<letters>\\D{3}) (?P<numbers>\\d{3})', text):\n",
    "    print(s.groupdict())"
   ]
  },
  {
   "cell_type": "markdown",
   "id": "other-shelter",
   "metadata": {},
   "source": [
    "## References\n",
    "\n",
    "1. \"regular expression.\" lexico.com. 2021. https://www.lexico.com/definition/regular_expression (19 July 2021).\n",
    "1. http://www.pyregex.com/"
   ]
  },
  {
   "cell_type": "markdown",
   "id": "incoming-lesson",
   "metadata": {
    "deletable": false,
    "editable": false,
    "tags": []
   },
   "source": [
    "## End\n",
    "<sup>made by **Jude Michael Teves**</sup> <br>\n",
    "<sup>for comments, corrections, suggestions, please email:</sup><sup> <href>judemichaelteves@gmail.com</href> or <href>jude.teves@dlsu.edu.ph</href></sup><br>"
   ]
  }
 ],
 "metadata": {
  "kernelspec": {
   "display_name": "Python 3",
   "language": "python",
   "name": "python3"
  },
  "language_info": {
   "codemirror_mode": {
    "name": "ipython",
    "version": 3
   },
   "file_extension": ".py",
   "mimetype": "text/x-python",
   "name": "python",
   "nbconvert_exporter": "python",
   "pygments_lexer": "ipython3",
   "version": "3.8.8"
  }
 },
 "nbformat": 4,
 "nbformat_minor": 5
}

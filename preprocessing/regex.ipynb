{
 "cells": [
  {
   "cell_type": "markdown",
   "id": "constant-clone",
   "metadata": {
    "deletable": false,
    "editable": false,
    "tags": []
   },
   "source": [
    "## Regular Expressions\n",
    "\n",
    "*Prepared by:*\n",
    "**Jude Michael Teves**  \n",
    "Faculty, Software Technology Department  \n",
    "College of Computer Studies - De La Salle University"
   ]
  },
  {
   "cell_type": "markdown",
   "id": "unlikely-amsterdam",
   "metadata": {},
   "source": [
    "This notebook shows how to perform basic regular expressions (regex) in Python."
   ]
  },
  {
   "cell_type": "markdown",
   "id": "environmental-guidance",
   "metadata": {},
   "source": [
    "## Preliminaries"
   ]
  },
  {
   "cell_type": "markdown",
   "id": "concrete-radio",
   "metadata": {},
   "source": [
    "### Import library"
   ]
  },
  {
   "cell_type": "code",
   "execution_count": 1,
   "id": "smart-monitor",
   "metadata": {},
   "outputs": [],
   "source": [
    "import re"
   ]
  },
  {
   "cell_type": "markdown",
   "id": "tired-heaven",
   "metadata": {},
   "source": [
    "## Regex Syntax\n",
    "\n",
    "A regular expression (regex) \"is a sequence of symbols and characters expressing a string or pattern to be searched for within a longer piece of text.\" In the context of text preprocessing, we use this to extract the parts that we need from a text data.\n",
    "\n",
    "Here are some cheatsheets for the regex syntax:\n",
    "\n",
    "<img style=\"margin: auto\" src=\"../images/pyregex-cheatsheet.png\">\n",
    "<br>\n",
    "<img style=\"margin: auto\" src=\"../images/regex-lovesdata.png\">\n",
    "<br>"
   ]
  },
  {
   "cell_type": "markdown",
   "id": "broad-calculation",
   "metadata": {},
   "source": [
    "### Regex Tester Website\n",
    "\n",
    "**Note!** It is very helpful if you test out your regex first on this <a href=\"http://www.regex101.com/\">website</a> to ensure that it works before running your Python code."
   ]
  },
  {
   "cell_type": "markdown",
   "id": "thick-sleeping",
   "metadata": {},
   "source": [
    "## Basic Regex"
   ]
  },
  {
   "cell_type": "markdown",
   "id": "marked-knitting",
   "metadata": {},
   "source": [
    "### Regex functions "
   ]
  },
  {
   "cell_type": "markdown",
   "id": "entitled-birthday",
   "metadata": {},
   "source": [
    "**re.match**\n",
    "\n",
    "Checks if the pattern matches the string. The pattern must occur at the start of the string, else it will return nothing. If the regex has a capturing group, denoted by (), then re.match will return the substrings that match the pattern inside the parenthesis ()."
   ]
  },
  {
   "cell_type": "code",
   "execution_count": 2,
   "id": "sought-sixth",
   "metadata": {},
   "outputs": [
    {
     "name": "stdout",
     "output_type": "stream",
     "text": [
      "no match\n"
     ]
    }
   ],
   "source": [
    "text = 'I am Jude Jude Jude lala'\n",
    "\n",
    "if re.match(r'Jude', text):\n",
    "    print('matched')\n",
    "else:\n",
    "    print('no match')"
   ]
  },
  {
   "cell_type": "code",
   "execution_count": 3,
   "id": "applied-pastor",
   "metadata": {},
   "outputs": [
    {
     "name": "stdout",
     "output_type": "stream",
     "text": [
      "matched\n"
     ]
    }
   ],
   "source": [
    "if re.match(r'I am', text):\n",
    "    print('matched')\n",
    "else:\n",
    "    print('no match')"
   ]
  },
  {
   "cell_type": "code",
   "execution_count": 4,
   "id": "spanish-psychology",
   "metadata": {},
   "outputs": [
    {
     "data": {
      "text/plain": [
       "<re.Match object; span=(0, 4), match='I am'>"
      ]
     },
     "execution_count": 4,
     "metadata": {},
     "output_type": "execute_result"
    }
   ],
   "source": [
    "re.match(r'I am', text)"
   ]
  },
  {
   "cell_type": "code",
   "execution_count": 5,
   "id": "selective-voice",
   "metadata": {},
   "outputs": [
    {
     "name": "stdout",
     "output_type": "stream",
     "text": [
      "matched\n"
     ]
    }
   ],
   "source": [
    "if re.match(r'(.*) am (.*)', text):\n",
    "    print('matched')\n",
    "else:\n",
    "    print('no match')"
   ]
  },
  {
   "cell_type": "code",
   "execution_count": 6,
   "id": "danish-intellectual",
   "metadata": {},
   "outputs": [
    {
     "data": {
      "text/plain": [
       "<re.Match object; span=(0, 24), match='I am Jude Jude Jude lala'>"
      ]
     },
     "execution_count": 6,
     "metadata": {},
     "output_type": "execute_result"
    }
   ],
   "source": [
    "re.match(r'(.*) am (.*)', text)"
   ]
  },
  {
   "cell_type": "markdown",
   "id": "adaptive-refrigerator",
   "metadata": {},
   "source": [
    "**re.search**\n",
    "\n",
    "Returns the first instance of the substring matching the pattern."
   ]
  },
  {
   "cell_type": "code",
   "execution_count": 7,
   "id": "based-swift",
   "metadata": {},
   "outputs": [
    {
     "name": "stdout",
     "output_type": "stream",
     "text": [
      "Jude\n",
      "I am\n",
      "I am Jude Jude Jude lala\n",
      "('I', 'Jude Jude Jude lala')\n",
      "I am Jude Jude Jude lala\n",
      "('Jude',)\n"
     ]
    }
   ],
   "source": [
    "text = 'I am Jude Jude Jude lala'\n",
    "print(re.search(r'Jude', text)[0]) # whole matched string\n",
    "print(re.search(r'I am', text)[0]) # whole matched string\n",
    "\n",
    "s = re.search(r'(.*) am (.*)', text)\n",
    "print(s[0]) # whole matched string\n",
    "print(s.groups()) # captured groups\n",
    "\n",
    "s = re.search(r'.*(Jude).*', text)\n",
    "print(s[0]) # whole matched string\n",
    "print(s.groups()) # captured groups"
   ]
  },
  {
   "cell_type": "markdown",
   "id": "opposed-airfare",
   "metadata": {},
   "source": [
    "**re.findall**\n",
    "\n",
    "Returns all substrings matching the pattern."
   ]
  },
  {
   "cell_type": "code",
   "execution_count": 8,
   "id": "false-casino",
   "metadata": {},
   "outputs": [
    {
     "data": {
      "text/plain": [
       "['Jude', 'Jude', 'Jude']"
      ]
     },
     "execution_count": 8,
     "metadata": {},
     "output_type": "execute_result"
    }
   ],
   "source": [
    "re.findall(r'Jude', text)"
   ]
  },
  {
   "cell_type": "code",
   "execution_count": 9,
   "id": "competitive-thousand",
   "metadata": {},
   "outputs": [
    {
     "data": {
      "text/plain": [
       "['am']"
      ]
     },
     "execution_count": 9,
     "metadata": {},
     "output_type": "execute_result"
    }
   ],
   "source": [
    "re.findall(r'am', text)"
   ]
  },
  {
   "cell_type": "code",
   "execution_count": 10,
   "id": "special-syracuse",
   "metadata": {},
   "outputs": [
    {
     "data": {
      "text/plain": [
       "[]"
      ]
     },
     "execution_count": 10,
     "metadata": {},
     "output_type": "execute_result"
    }
   ],
   "source": [
    "re.findall(r'hello', text)"
   ]
  },
  {
   "cell_type": "markdown",
   "id": "raising-group",
   "metadata": {},
   "source": [
    "### Non-greedy searching\n",
    "\n",
    "By default, + and * are greedy when it comes to searching. This means that it will try to capture everything until the last occurence of the pattern on the right. Here is an example."
   ]
  },
  {
   "cell_type": "code",
   "execution_count": 11,
   "id": "monetary-saver",
   "metadata": {},
   "outputs": [
    {
     "name": "stdout",
     "output_type": "stream",
     "text": [
      "('I am Jude Jude ', ' lala')\n"
     ]
    }
   ],
   "source": [
    "text = 'I am Jude Jude Jude lala'\n",
    "\n",
    "s = re.search(r'(.*)Jude(.*)', text)\n",
    "print(s.groups())"
   ]
  },
  {
   "cell_type": "code",
   "execution_count": 12,
   "id": "auburn-redhead",
   "metadata": {},
   "outputs": [
    {
     "name": "stdout",
     "output_type": "stream",
     "text": [
      "2\n",
      "I am Jude Jude Jude lala\n",
      "I am Jude Jude \n",
      " lala\n"
     ]
    }
   ],
   "source": [
    "print(len(s.groups()))\n",
    "print(s[0]) # the first index contains the whole string\n",
    "print(s[1]) # the second index contains the first captured group\n",
    "print(s[2]) # the third index contains the second captured group"
   ]
  },
  {
   "cell_type": "markdown",
   "id": "behind-correction",
   "metadata": {},
   "source": [
    "To prevent greedy searching, we add ? after * or +."
   ]
  },
  {
   "cell_type": "code",
   "execution_count": 13,
   "id": "digital-sheet",
   "metadata": {},
   "outputs": [
    {
     "name": "stdout",
     "output_type": "stream",
     "text": [
      "('I am ', ' Jude Jude lala')\n"
     ]
    }
   ],
   "source": [
    "text = 'I am Jude Jude Jude lala'\n",
    "\n",
    "s = re.search(r'(.*?)Jude(.*)', text)\n",
    "print(s.groups())"
   ]
  },
  {
   "cell_type": "markdown",
   "id": "alike-hanging",
   "metadata": {},
   "source": [
    "### Lookahead and lookbehind"
   ]
  },
  {
   "cell_type": "markdown",
   "id": "finite-latex",
   "metadata": {},
   "source": [
    "Regex lookahead is used to get words before a certain pattern"
   ]
  },
  {
   "cell_type": "code",
   "execution_count": 14,
   "id": "finished-production",
   "metadata": {},
   "outputs": [
    {
     "name": "stdout",
     "output_type": "stream",
     "text": [
      "['jude hello data hello mining hello meow hello lala hello woof ']\n"
     ]
    }
   ],
   "source": [
    "text = 'jude hello data hello mining hello meow hello lala hello woof hello end'\n",
    "\n",
    "s = re.findall(r'.+(?=hello)', text)\n",
    "print(s)"
   ]
  },
  {
   "cell_type": "markdown",
   "id": "ordered-exchange",
   "metadata": {},
   "source": [
    "Let's also prevent greedy searching on this regex."
   ]
  },
  {
   "cell_type": "code",
   "execution_count": 15,
   "id": "identified-rates",
   "metadata": {},
   "outputs": [
    {
     "name": "stdout",
     "output_type": "stream",
     "text": [
      "['jude ', 'hello data ', 'hello mining ', 'hello meow ', 'hello lala ', 'hello woof ']\n"
     ]
    }
   ],
   "source": [
    "text = 'jude hello data hello mining hello meow hello lala hello woof hello end'\n",
    "\n",
    "s = re.findall(r'.+?(?=hello)', text)\n",
    "print(s)"
   ]
  },
  {
   "cell_type": "markdown",
   "id": "exciting-friend",
   "metadata": {},
   "source": [
    "Regex lookbehind is the opposite of lookahead. It is used to get words after a certain pattern"
   ]
  },
  {
   "cell_type": "code",
   "execution_count": 16,
   "id": "amateur-toilet",
   "metadata": {},
   "outputs": [
    {
     "name": "stdout",
     "output_type": "stream",
     "text": [
      "[' data hello mining hello meow hello lala hello woof hello end']\n"
     ]
    }
   ],
   "source": [
    "text = 'jude hello data hello mining hello meow hello lala hello woof hello end'\n",
    "\n",
    "s = re.findall(r'(?<=hello).+', text)\n",
    "print(s)"
   ]
  },
  {
   "cell_type": "markdown",
   "id": "particular-youth",
   "metadata": {},
   "source": [
    "Combining lookahead and lookbehind. Getting words in between two patterns."
   ]
  },
  {
   "cell_type": "code",
   "execution_count": 17,
   "id": "included-arthritis",
   "metadata": {},
   "outputs": [
    {
     "name": "stdout",
     "output_type": "stream",
     "text": [
      "[' data ', ' mining ', ' meow ', ' lala ', ' woof ']\n"
     ]
    }
   ],
   "source": [
    "text = 'jude hello data hello mining hello meow hello lala hello woof hello end'\n",
    "\n",
    "s = re.findall(r'(?<=hello).+?(?=hello)', text)\n",
    "print(s)"
   ]
  },
  {
   "cell_type": "markdown",
   "id": "settled-pledge",
   "metadata": {},
   "source": [
    "### Named Capture Group"
   ]
  },
  {
   "cell_type": "code",
   "execution_count": 18,
   "id": "color-radius",
   "metadata": {},
   "outputs": [
    {
     "name": "stdout",
     "output_type": "stream",
     "text": [
      "<re.Match object; span=(0, 7), match='abc 123'>\n"
     ]
    }
   ],
   "source": [
    "text = '''abc 123 def 456 def 789\n",
    "abc 123 def 456 def 789'''\n",
    "\n",
    "s = re.search(r'(?P<letters>\\D{3}) (?P<numbers>\\d{3})', text)\n",
    "print(s)"
   ]
  },
  {
   "cell_type": "code",
   "execution_count": 19,
   "id": "underlying-foster",
   "metadata": {},
   "outputs": [
    {
     "data": {
      "text/plain": [
       "('abc', '123')"
      ]
     },
     "execution_count": 19,
     "metadata": {},
     "output_type": "execute_result"
    }
   ],
   "source": [
    "s.groups()"
   ]
  },
  {
   "cell_type": "code",
   "execution_count": 20,
   "id": "built-cornwall",
   "metadata": {},
   "outputs": [
    {
     "data": {
      "text/plain": [
       "{'letters': 'abc', 'numbers': '123'}"
      ]
     },
     "execution_count": 20,
     "metadata": {},
     "output_type": "execute_result"
    }
   ],
   "source": [
    "s.groupdict()"
   ]
  },
  {
   "cell_type": "code",
   "execution_count": 21,
   "id": "freelance-racing",
   "metadata": {},
   "outputs": [
    {
     "data": {
      "text/plain": [
       "'abc'"
      ]
     },
     "execution_count": 21,
     "metadata": {},
     "output_type": "execute_result"
    }
   ],
   "source": [
    "s['letters']"
   ]
  },
  {
   "cell_type": "code",
   "execution_count": 22,
   "id": "tribal-creativity",
   "metadata": {},
   "outputs": [
    {
     "data": {
      "text/plain": [
       "'123'"
      ]
     },
     "execution_count": 22,
     "metadata": {},
     "output_type": "execute_result"
    }
   ],
   "source": [
    "s['numbers']"
   ]
  },
  {
   "cell_type": "markdown",
   "id": "requested-fleet",
   "metadata": {},
   "source": [
    "To iterate over the different matches, do the following:"
   ]
  },
  {
   "cell_type": "code",
   "execution_count": 23,
   "id": "ignored-perfume",
   "metadata": {},
   "outputs": [
    {
     "name": "stdout",
     "output_type": "stream",
     "text": [
      "{'letters': 'abc', 'numbers': '123'}\n",
      "{'letters': 'def', 'numbers': '456'}\n",
      "{'letters': 'def', 'numbers': '789'}\n",
      "{'letters': 'abc', 'numbers': '123'}\n",
      "{'letters': 'def', 'numbers': '456'}\n",
      "{'letters': 'def', 'numbers': '789'}\n"
     ]
    }
   ],
   "source": [
    "for s in re.finditer(r'(?P<letters>\\D{3}) (?P<numbers>\\d{3})', text):\n",
    "    print(s.groupdict())"
   ]
  },
  {
   "cell_type": "markdown",
   "id": "shared-democrat",
   "metadata": {},
   "source": [
    "## References\n",
    "\n",
    "1. \"regular expression.\" lexico.com. 2021. https://www.lexico.com/definition/regular_expression (19 July 2021).\n",
    "1. http://www.pyregex.com/"
   ]
  },
  {
   "cell_type": "markdown",
   "id": "cathedral-seeking",
   "metadata": {
    "deletable": false,
    "editable": false,
    "tags": []
   },
   "source": [
    "## End\n",
    "<sup>made by **Jude Michael Teves**</sup> <br>\n",
    "<sup>for comments, corrections, suggestions, please email:</sup><sup> <href>judemichaelteves@gmail.com</href> or <href>jude.teves@dlsu.edu.ph</href></sup><br>"
   ]
  }
 ],
 "metadata": {
  "kernelspec": {
   "display_name": "Python 3",
   "language": "python",
   "name": "python3"
  },
  "language_info": {
   "codemirror_mode": {
    "name": "ipython",
    "version": 3
   },
   "file_extension": ".py",
   "mimetype": "text/x-python",
   "name": "python",
   "nbconvert_exporter": "python",
   "pygments_lexer": "ipython3",
   "version": "3.8.8"
  }
 },
 "nbformat": 4,
 "nbformat_minor": 5
}

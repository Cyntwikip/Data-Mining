{
 "cells": [
  {
   "cell_type": "markdown",
   "id": "d93ea771-5bbb-49df-9a96-87cfeb3c013d",
   "metadata": {
    "deletable": false,
    "editable": false,
    "tags": []
   },
   "source": [
    "## Regular Expressions Quiz\n",
    "\n",
    "*Prepared by:*\n",
    "**Jude Michael Teves**  \n",
    "Faculty, Software Technology Department  \n",
    "College of Computer Studies - De La Salle University"
   ]
  },
  {
   "cell_type": "markdown",
   "id": "41fc12e9-d702-4010-b42e-ada331cb3ee7",
   "metadata": {},
   "source": [
    "This notebook is for assessing your basic programming and regex skills in Python. Answer as many as you can.\n",
    "\n",
    "**Total points: 50**\n",
    "\n",
    "**Note that the assert cells will return an error if you have not implemented the previous cells correctly.**"
   ]
  },
  {
   "cell_type": "markdown",
   "id": "9130d1a6-22e9-4aa4-a762-c7dc37592b0b",
   "metadata": {},
   "source": [
    "## Preliminaries"
   ]
  },
  {
   "cell_type": "markdown",
   "id": "653c0294-3884-4b9c-bc3e-8d5fd371bccf",
   "metadata": {},
   "source": [
    "### Import library"
   ]
  },
  {
   "cell_type": "code",
   "execution_count": 1,
   "id": "6ef82bde-7313-4a9e-ae26-29d385e82971",
   "metadata": {
    "execution": {
     "iopub.execute_input": "2021-08-01T15:34:52.432559Z",
     "iopub.status.busy": "2021-08-01T15:34:52.431558Z",
     "iopub.status.idle": "2021-08-01T15:34:52.457565Z",
     "shell.execute_reply": "2021-08-01T15:34:52.456564Z",
     "shell.execute_reply.started": "2021-08-01T15:34:52.431558Z"
    }
   },
   "outputs": [],
   "source": [
    "import re"
   ]
  },
  {
   "cell_type": "markdown",
   "id": "5d9468ec-b5d7-4f4f-b136-3da6e46d924d",
   "metadata": {},
   "source": [
    "## Exercise 1. 5 pts.\n",
    "\n",
    "Read the logs from the following URL: https://raw.githubusercontent.com/Cyntwikip/data-repository/main/logs.txt, and assign it to a variable named `logs`. Make sure that it is a string.\n",
    "\n",
    "Hint! Google."
   ]
  },
  {
   "cell_type": "code",
   "execution_count": 2,
   "id": "efbacf4b-c8dc-4d7e-8329-7fc3b7dcf1a6",
   "metadata": {
    "execution": {
     "iopub.execute_input": "2021-08-01T15:34:52.461565Z",
     "iopub.status.busy": "2021-08-01T15:34:52.460565Z",
     "iopub.status.idle": "2021-08-01T15:34:53.053311Z",
     "shell.execute_reply": "2021-08-01T15:34:53.053311Z",
     "shell.execute_reply.started": "2021-08-01T15:34:52.461565Z"
    },
    "tags": []
   },
   "outputs": [],
   "source": [
    "url = \"https://raw.githubusercontent.com/Cyntwikip/data-repository/main/logs.txt\"\n",
    "\n",
    "# YOUR CODE HERE"
   ]
  },
  {
   "cell_type": "code",
   "execution_count": 3,
   "id": "d8e41b65-5241-488f-a456-dd2b15c4f53f",
   "metadata": {
    "deletable": false,
    "editable": false,
    "execution": {
     "iopub.execute_input": "2021-08-01T15:34:53.056311Z",
     "iopub.status.busy": "2021-08-01T15:34:53.055312Z",
     "iopub.status.idle": "2021-08-01T15:34:53.070315Z",
     "shell.execute_reply": "2021-08-01T15:34:53.068314Z",
     "shell.execute_reply.started": "2021-08-01T15:34:53.056311Z"
    },
    "tags": []
   },
   "outputs": [],
   "source": [
    "# DO NOT EDIT THIS\n",
    "assert type(logs) == str"
   ]
  },
  {
   "cell_type": "markdown",
   "id": "5aae94a8-8498-4adc-9934-022cd83d0b0f",
   "metadata": {},
   "source": [
    "## Exercise 2. 15 pts.\n",
    "\n",
    "*+3 pts for one-line answer.*\n",
    "\n",
    "Create a capture group for each datetime element and store each entry in a list named `time_list`.\n",
    "\n",
    "Example:   \n",
    "[{‘year’: 2020, ‘month’: 01, ‘day’:12, ‘hour’:10, ‘minute’:10, ‘second’:35},  \n",
    "{‘year’: 2019, ‘month’: 06, ‘day’:12, ‘hour’:10, ‘minute’:10, ‘second’:35},  \n",
    "...\n",
    "]"
   ]
  },
  {
   "cell_type": "code",
   "execution_count": 4,
   "id": "2cda9ee1-7acf-4acc-a462-b0d100850573",
   "metadata": {
    "execution": {
     "iopub.execute_input": "2021-08-01T15:34:53.072315Z",
     "iopub.status.busy": "2021-08-01T15:34:53.071315Z",
     "iopub.status.idle": "2021-08-01T15:34:53.101323Z",
     "shell.execute_reply": "2021-08-01T15:34:53.100321Z",
     "shell.execute_reply.started": "2021-08-01T15:34:53.072315Z"
    },
    "tags": []
   },
   "outputs": [
    {
     "data": {
      "text/plain": [
       "[{'year': '2018',\n",
       "  'month': '07',\n",
       "  'day': '12',\n",
       "  'hour': '10',\n",
       "  'minute': '53',\n",
       "  'second': '32'},\n",
       " {'year': '2018',\n",
       "  'month': '07',\n",
       "  'day': '12',\n",
       "  'hour': '10',\n",
       "  'minute': '54',\n",
       "  'second': '14'},\n",
       " {'year': '2018',\n",
       "  'month': '07',\n",
       "  'day': '12',\n",
       "  'hour': '10',\n",
       "  'minute': '54',\n",
       "  'second': '17'},\n",
       " {'year': '2018',\n",
       "  'month': '07',\n",
       "  'day': '12',\n",
       "  'hour': '10',\n",
       "  'minute': '54',\n",
       "  'second': '20'}]"
      ]
     },
     "execution_count": 4,
     "metadata": {},
     "output_type": "execute_result"
    }
   ],
   "source": [
    "# YOUR CODE HERE"
   ]
  },
  {
   "cell_type": "code",
   "execution_count": 5,
   "id": "d5c92631-c85c-4e04-b888-07944154a470",
   "metadata": {
    "deletable": false,
    "editable": false,
    "execution": {
     "iopub.execute_input": "2021-08-01T15:34:53.103323Z",
     "iopub.status.busy": "2021-08-01T15:34:53.102325Z",
     "iopub.status.idle": "2021-08-01T15:34:53.117328Z",
     "shell.execute_reply": "2021-08-01T15:34:53.116325Z",
     "shell.execute_reply.started": "2021-08-01T15:34:53.103323Z"
    },
    "tags": []
   },
   "outputs": [],
   "source": [
    "# DO NOT EDIT THIS\n",
    "assert time_list == [{'year': '2018',\n",
    "  'month': '07',\n",
    "  'day': '12',\n",
    "  'hour': '10',\n",
    "  'minute': '53',\n",
    "  'second': '32'},\n",
    " {'year': '2018',\n",
    "  'month': '07',\n",
    "  'day': '12',\n",
    "  'hour': '10',\n",
    "  'minute': '54',\n",
    "  'second': '14'},\n",
    " {'year': '2018',\n",
    "  'month': '07',\n",
    "  'day': '12',\n",
    "  'hour': '10',\n",
    "  'minute': '54',\n",
    "  'second': '17'},\n",
    " {'year': '2018',\n",
    "  'month': '07',\n",
    "  'day': '12',\n",
    "  'hour': '10',\n",
    "  'minute': '54',\n",
    "  'second': '20'}]"
   ]
  },
  {
   "cell_type": "markdown",
   "id": "74dbc60e-5bae-43b6-bdd0-fb39b793e02d",
   "metadata": {},
   "source": [
    "## Exercise 3. 2 pts.\n",
    "\n",
    "Convert the `time_list` variable into a Pandas DataFrame."
   ]
  },
  {
   "cell_type": "code",
   "execution_count": 6,
   "id": "a16879a6-48b3-45bc-9a1b-5663bd48ea6a",
   "metadata": {
    "execution": {
     "iopub.execute_input": "2021-08-01T15:34:53.119326Z",
     "iopub.status.busy": "2021-08-01T15:34:53.118326Z",
     "iopub.status.idle": "2021-08-01T15:34:53.721462Z",
     "shell.execute_reply": "2021-08-01T15:34:53.720461Z",
     "shell.execute_reply.started": "2021-08-01T15:34:53.119326Z"
    },
    "tags": []
   },
   "outputs": [
    {
     "data": {
      "text/html": [
       "<div>\n",
       "<style scoped>\n",
       "    .dataframe tbody tr th:only-of-type {\n",
       "        vertical-align: middle;\n",
       "    }\n",
       "\n",
       "    .dataframe tbody tr th {\n",
       "        vertical-align: top;\n",
       "    }\n",
       "\n",
       "    .dataframe thead th {\n",
       "        text-align: right;\n",
       "    }\n",
       "</style>\n",
       "<table border=\"1\" class=\"dataframe\">\n",
       "  <thead>\n",
       "    <tr style=\"text-align: right;\">\n",
       "      <th></th>\n",
       "      <th>year</th>\n",
       "      <th>month</th>\n",
       "      <th>day</th>\n",
       "      <th>hour</th>\n",
       "      <th>minute</th>\n",
       "      <th>second</th>\n",
       "    </tr>\n",
       "  </thead>\n",
       "  <tbody>\n",
       "    <tr>\n",
       "      <th>0</th>\n",
       "      <td>2018</td>\n",
       "      <td>07</td>\n",
       "      <td>12</td>\n",
       "      <td>10</td>\n",
       "      <td>53</td>\n",
       "      <td>32</td>\n",
       "    </tr>\n",
       "    <tr>\n",
       "      <th>1</th>\n",
       "      <td>2018</td>\n",
       "      <td>07</td>\n",
       "      <td>12</td>\n",
       "      <td>10</td>\n",
       "      <td>54</td>\n",
       "      <td>14</td>\n",
       "    </tr>\n",
       "    <tr>\n",
       "      <th>2</th>\n",
       "      <td>2018</td>\n",
       "      <td>07</td>\n",
       "      <td>12</td>\n",
       "      <td>10</td>\n",
       "      <td>54</td>\n",
       "      <td>17</td>\n",
       "    </tr>\n",
       "    <tr>\n",
       "      <th>3</th>\n",
       "      <td>2018</td>\n",
       "      <td>07</td>\n",
       "      <td>12</td>\n",
       "      <td>10</td>\n",
       "      <td>54</td>\n",
       "      <td>20</td>\n",
       "    </tr>\n",
       "  </tbody>\n",
       "</table>\n",
       "</div>"
      ],
      "text/plain": [
       "   year month day hour minute second\n",
       "0  2018    07  12   10     53     32\n",
       "1  2018    07  12   10     54     14\n",
       "2  2018    07  12   10     54     17\n",
       "3  2018    07  12   10     54     20"
      ]
     },
     "execution_count": 6,
     "metadata": {},
     "output_type": "execute_result"
    }
   ],
   "source": [
    "# YOUR CODE HERE"
   ]
  },
  {
   "cell_type": "markdown",
   "id": "4cebc834-b5c9-4e12-9839-be76b0e4f99c",
   "metadata": {},
   "source": [
    "## Exercise 4. 5 pts.\n",
    "\n",
    "Get all the IP addresses including the ports after `[INFO]` in the logs and assign it to a variable named `ip_list`.\n",
    "\n",
    "For ex. 127.0.0.1:57534"
   ]
  },
  {
   "cell_type": "code",
   "execution_count": 7,
   "id": "1cf319da-b254-42d5-b07f-466935c76daf",
   "metadata": {
    "execution": {
     "iopub.execute_input": "2021-08-01T15:34:53.723462Z",
     "iopub.status.busy": "2021-08-01T15:34:53.723462Z",
     "iopub.status.idle": "2021-08-01T15:34:53.737465Z",
     "shell.execute_reply": "2021-08-01T15:34:53.736465Z",
     "shell.execute_reply.started": "2021-08-01T15:34:53.723462Z"
    }
   },
   "outputs": [],
   "source": [
    "pattern = # YOUR REGEX PATTERN HERE"
   ]
  },
  {
   "cell_type": "code",
   "execution_count": 8,
   "id": "dc1acb7d-5d57-4594-9f40-c6bbc9fb75e7",
   "metadata": {
    "deletable": false,
    "editable": false,
    "execution": {
     "iopub.execute_input": "2021-08-01T15:34:53.739465Z",
     "iopub.status.busy": "2021-08-01T15:34:53.739465Z",
     "iopub.status.idle": "2021-08-01T15:34:53.753469Z",
     "shell.execute_reply": "2021-08-01T15:34:53.752469Z",
     "shell.execute_reply.started": "2021-08-01T15:34:53.739465Z"
    },
    "tags": []
   },
   "outputs": [],
   "source": [
    "# DO NOT EDIT THIS\n",
    "ip_list = re.findall(pattern, logs)\n",
    "assert ip_list == ['127.0.0.1:57534', '127.0.0.1:57534', '127.0.0.1:57534', '127.0.0.1:57534']"
   ]
  },
  {
   "cell_type": "markdown",
   "id": "dff474f8-ef82-4d9e-a06d-ac28a66d69b8",
   "metadata": {},
   "source": [
    "## Exercise 5. 15 pts.\n",
    "\n",
    "Create a regex for DLSU email addresses. \n",
    "\n",
    "Here are the rules:\n",
    "- it should end with `@dlsu.edu.ph`\n",
    "- the prefix can have `2 or more words`\n",
    "- the words in the prefix can only be joined using the following special characters: `_` and `.`\n",
    "- the email is in lowercase format.\n",
    "\n",
    "For example:\n",
    "- jude.teves@dlsu.edu.ph\n",
    "- jude_teves@dlsu.edu.ph\n",
    "- jude_michael_teves@dlsu.edu.ph\n",
    "\n",
    "The following are invalid:\n",
    "- jude@dlsu.edu.ph\n",
    "- jude#teves@dlsu.edu.ph\n",
    "- jude___teves@dlsu.edu.ph\n",
    "- JuDe.TeVeS@dlsu.edu.ph"
   ]
  },
  {
   "cell_type": "code",
   "execution_count": 9,
   "id": "f219ad01-ee41-4c1c-af04-e7879315d24e",
   "metadata": {
    "execution": {
     "iopub.execute_input": "2021-08-01T15:34:53.756469Z",
     "iopub.status.busy": "2021-08-01T15:34:53.756469Z",
     "iopub.status.idle": "2021-08-01T15:34:53.769472Z",
     "shell.execute_reply": "2021-08-01T15:34:53.768472Z",
     "shell.execute_reply.started": "2021-08-01T15:34:53.756469Z"
    },
    "tags": []
   },
   "outputs": [],
   "source": [
    "pattern = # YOUR REGEX PATTERN HERE"
   ]
  },
  {
   "cell_type": "code",
   "execution_count": 10,
   "id": "053faad5-21a2-45ef-9844-f91bfdbb0b2a",
   "metadata": {
    "deletable": false,
    "editable": false,
    "execution": {
     "iopub.execute_input": "2021-08-01T15:34:53.771473Z",
     "iopub.status.busy": "2021-08-01T15:34:53.771473Z",
     "iopub.status.idle": "2021-08-01T15:34:53.793478Z",
     "shell.execute_reply": "2021-08-01T15:34:53.789477Z",
     "shell.execute_reply.started": "2021-08-01T15:34:53.771473Z"
    },
    "tags": []
   },
   "outputs": [],
   "source": [
    "# DO NOT EDIT THIS\n",
    "emails = '''jude@dlsu.edu.ph\n",
    "jude#teves@dlsu.edu.ph\n",
    "jude___teves@dlsu.edu.ph\n",
    "jude.teves@dlsu.edu.ph\n",
    "jude_teves@dlsu.edu.ph\n",
    "jude_michael_teves@dlsu.edu.ph\n",
    "JuDe.TeVeS@dlsu.edu.ph\n",
    ".jude@dlsu.edu.ph\n",
    "jude..teves@dlsu.edu.ph\n",
    "jude.teves@dlsu'''\n",
    "\n",
    "email_list = re.findall(pattern, emails, re.M)\n",
    "assert email_list == ['jude.teves@dlsu.edu.ph', 'jude_teves@dlsu.edu.ph', 'jude_michael_teves@dlsu.edu.ph']"
   ]
  },
  {
   "cell_type": "markdown",
   "id": "32873547-8afb-47e0-941b-71f345cdde1f",
   "metadata": {},
   "source": [
    "## Exercise 6. 8 pts.\n",
    "\n",
    "Create a regex that captures any number. The digit may be a float or an integer and may or may not contain a sign.\n",
    "\n",
    "The following examples are valid:  \n",
    "10  \n",
    "1.96  \n",
    "+3.14  \n",
    "-3  \n",
    "-6.07  \n",
    "+3.\n",
    "\n",
    "The following examples are invalid:  \n",
    "1..96  \n",
    "3+14  \n",
    "/6.28  \n",
    "3.14.14  "
   ]
  },
  {
   "cell_type": "code",
   "execution_count": 11,
   "id": "5450ae5a-c2e2-40db-8355-fe75670d1052",
   "metadata": {
    "execution": {
     "iopub.execute_input": "2021-08-01T15:34:53.803480Z",
     "iopub.status.busy": "2021-08-01T15:34:53.799479Z",
     "iopub.status.idle": "2021-08-01T15:34:53.817483Z",
     "shell.execute_reply": "2021-08-01T15:34:53.816483Z",
     "shell.execute_reply.started": "2021-08-01T15:34:53.803480Z"
    }
   },
   "outputs": [],
   "source": [
    "pattern = # YOUR REGEX PATTERN HERE"
   ]
  },
  {
   "cell_type": "code",
   "execution_count": 12,
   "id": "47b5e3ce-f48a-4bfa-a847-8df902612053",
   "metadata": {
    "deletable": false,
    "editable": false,
    "execution": {
     "iopub.execute_input": "2021-08-01T15:34:53.821484Z",
     "iopub.status.busy": "2021-08-01T15:34:53.820484Z",
     "iopub.status.idle": "2021-08-01T15:34:53.835487Z",
     "shell.execute_reply": "2021-08-01T15:34:53.832487Z",
     "shell.execute_reply.started": "2021-08-01T15:34:53.820484Z"
    },
    "tags": []
   },
   "outputs": [],
   "source": [
    "# DO NOT EDIT THIS\n",
    "numbers = '''1.96\n",
    "+3.14\n",
    "-3\n",
    "-6.07\n",
    "+3.\n",
    "1..96\n",
    "3+14\n",
    "/6.28\n",
    "3.14.14\n",
    "10'''\n",
    "\n",
    "num_list = re.findall(pattern, numbers, re.M)\n",
    "assert num_list == ['1.96', '+3.14', '-3', '-6.07', '+3.', '10']"
   ]
  },
  {
   "cell_type": "markdown",
   "id": "5d35f752-ea86-4d69-a122-baaaf16c19c0",
   "metadata": {
    "deletable": false,
    "editable": false,
    "tags": []
   },
   "source": [
    "## End\n",
    "<sup>made by **Jude Michael Teves**</sup> <br>\n",
    "<sup>for comments, corrections, suggestions, please email:</sup><sup> <href>judemichaelteves@gmail.com</href> or <href>jude.teves@dlsu.edu.ph</href></sup><br>"
   ]
  }
 ],
 "metadata": {
  "kernelspec": {
   "display_name": "Python 3",
   "language": "python",
   "name": "python3"
  },
  "language_info": {
   "codemirror_mode": {
    "name": "ipython",
    "version": 3
   },
   "file_extension": ".py",
   "mimetype": "text/x-python",
   "name": "python",
   "nbconvert_exporter": "python",
   "pygments_lexer": "ipython3",
   "version": "3.8.8"
  }
 },
 "nbformat": 4,
 "nbformat_minor": 5
}

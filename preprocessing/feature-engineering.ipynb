{
  "nbformat": 4,
  "nbformat_minor": 0,
  "metadata": {
    "colab": {
      "name": "Feature Engineering.ipynb",
      "provenance": [],
      "collapsed_sections": [],
      "toc_visible": true
    },
    "kernelspec": {
      "name": "python3",
      "display_name": "Python 3"
    },
    "language_info": {
      "name": "python"
    }
  },
  "cells": [
    {
      "cell_type": "markdown",
      "source": [
        "## Preliminaries"
      ],
      "metadata": {
        "id": "8N7749CQp3Zc"
      }
    },
    {
      "cell_type": "code",
      "execution_count": 1,
      "metadata": {
        "id": "lBvB5M5TMAUO"
      },
      "outputs": [],
      "source": [
        "import math\n",
        "import numpy as np\n",
        "import pandas as pd"
      ]
    },
    {
      "cell_type": "markdown",
      "source": [
        "## Loading Data"
      ],
      "metadata": {
        "id": "tveIwLcqp5XY"
      }
    },
    {
      "cell_type": "code",
      "source": [
        "# url = 'https://drive.google.com/file/d/1GHcfZdbJ2OdFJbv4kvTUWvs2iyOFokk5/view?usp=sharing'\n",
        "# path = 'https://drive.google.com/uc?export=download&id='+url.split('/')[-2]\n",
        "path = 'https://drive.google.com/uc?export=download&id=1GHcfZdbJ2OdFJbv4kvTUWvs2iyOFokk5&confirm=t'\n",
        "df = pd.read_csv(path, encoding='latin1')\n",
        "\n",
        "df.head()"
      ],
      "metadata": {
        "colab": {
          "base_uri": "https://localhost:8080/",
          "height": 444
        },
        "id": "GmsPdNhKlx9o",
        "outputId": "661cfebd-b02b-4f97-a28b-7d0c8af9b6bf"
      },
      "execution_count": 6,
      "outputs": [
        {
          "output_type": "execute_result",
          "data": {
            "text/plain": [
              "   tripduration                 starttime                  stoptime  \\\n",
              "0           320  2019-01-01 00:01:47.4010  2019-01-01 00:07:07.5810   \n",
              "1           316  2019-01-01 00:04:43.7360  2019-01-01 00:10:00.6080   \n",
              "2           591  2019-01-01 00:06:03.9970  2019-01-01 00:15:55.4380   \n",
              "3          2719  2019-01-01 00:07:03.5450  2019-01-01 00:52:22.6500   \n",
              "4           303  2019-01-01 00:07:35.9450  2019-01-01 00:12:39.5020   \n",
              "\n",
              "   start station id           start station name  start station latitude  \\\n",
              "0            3160.0  Central Park West & W 76 St               40.778968   \n",
              "1             519.0        Pershing Square North               40.751873   \n",
              "2            3171.0      Amsterdam Ave & W 82 St               40.785247   \n",
              "3             504.0              1 Ave & E 16 St               40.732219   \n",
              "4             229.0               Great Jones St               40.727434   \n",
              "\n",
              "   start station longitude  end station id        end station name  \\\n",
              "0               -73.973747          3283.0  W 89 St & Columbus Ave   \n",
              "1               -73.977706           518.0         E 39 St & 2 Ave   \n",
              "2               -73.976673          3154.0         E 77 St & 3 Ave   \n",
              "3               -73.981656          3709.0         W 15 St & 6 Ave   \n",
              "4               -73.993790           503.0      E 20 St & Park Ave   \n",
              "\n",
              "   end station latitude  end station longitude  bikeid    usertype  \\\n",
              "0             40.788221             -73.970416   15839  Subscriber   \n",
              "1             40.747804             -73.973442   32723  Subscriber   \n",
              "2             40.773142             -73.958562   27451  Subscriber   \n",
              "3             40.738046             -73.996430   21579  Subscriber   \n",
              "4             40.738274             -73.987520   35379  Subscriber   \n",
              "\n",
              "   birth year  gender  \n",
              "0        1971       1  \n",
              "1        1964       1  \n",
              "2        1987       1  \n",
              "3        1990       1  \n",
              "4        1979       1  "
            ],
            "text/html": [
              "\n",
              "  <div id=\"df-058c5b36-ef42-4c0b-8b75-c9cd86225dff\">\n",
              "    <div class=\"colab-df-container\">\n",
              "      <div>\n",
              "<style scoped>\n",
              "    .dataframe tbody tr th:only-of-type {\n",
              "        vertical-align: middle;\n",
              "    }\n",
              "\n",
              "    .dataframe tbody tr th {\n",
              "        vertical-align: top;\n",
              "    }\n",
              "\n",
              "    .dataframe thead th {\n",
              "        text-align: right;\n",
              "    }\n",
              "</style>\n",
              "<table border=\"1\" class=\"dataframe\">\n",
              "  <thead>\n",
              "    <tr style=\"text-align: right;\">\n",
              "      <th></th>\n",
              "      <th>tripduration</th>\n",
              "      <th>starttime</th>\n",
              "      <th>stoptime</th>\n",
              "      <th>start station id</th>\n",
              "      <th>start station name</th>\n",
              "      <th>start station latitude</th>\n",
              "      <th>start station longitude</th>\n",
              "      <th>end station id</th>\n",
              "      <th>end station name</th>\n",
              "      <th>end station latitude</th>\n",
              "      <th>end station longitude</th>\n",
              "      <th>bikeid</th>\n",
              "      <th>usertype</th>\n",
              "      <th>birth year</th>\n",
              "      <th>gender</th>\n",
              "    </tr>\n",
              "  </thead>\n",
              "  <tbody>\n",
              "    <tr>\n",
              "      <th>0</th>\n",
              "      <td>320</td>\n",
              "      <td>2019-01-01 00:01:47.4010</td>\n",
              "      <td>2019-01-01 00:07:07.5810</td>\n",
              "      <td>3160.0</td>\n",
              "      <td>Central Park West &amp; W 76 St</td>\n",
              "      <td>40.778968</td>\n",
              "      <td>-73.973747</td>\n",
              "      <td>3283.0</td>\n",
              "      <td>W 89 St &amp; Columbus Ave</td>\n",
              "      <td>40.788221</td>\n",
              "      <td>-73.970416</td>\n",
              "      <td>15839</td>\n",
              "      <td>Subscriber</td>\n",
              "      <td>1971</td>\n",
              "      <td>1</td>\n",
              "    </tr>\n",
              "    <tr>\n",
              "      <th>1</th>\n",
              "      <td>316</td>\n",
              "      <td>2019-01-01 00:04:43.7360</td>\n",
              "      <td>2019-01-01 00:10:00.6080</td>\n",
              "      <td>519.0</td>\n",
              "      <td>Pershing Square North</td>\n",
              "      <td>40.751873</td>\n",
              "      <td>-73.977706</td>\n",
              "      <td>518.0</td>\n",
              "      <td>E 39 St &amp; 2 Ave</td>\n",
              "      <td>40.747804</td>\n",
              "      <td>-73.973442</td>\n",
              "      <td>32723</td>\n",
              "      <td>Subscriber</td>\n",
              "      <td>1964</td>\n",
              "      <td>1</td>\n",
              "    </tr>\n",
              "    <tr>\n",
              "      <th>2</th>\n",
              "      <td>591</td>\n",
              "      <td>2019-01-01 00:06:03.9970</td>\n",
              "      <td>2019-01-01 00:15:55.4380</td>\n",
              "      <td>3171.0</td>\n",
              "      <td>Amsterdam Ave &amp; W 82 St</td>\n",
              "      <td>40.785247</td>\n",
              "      <td>-73.976673</td>\n",
              "      <td>3154.0</td>\n",
              "      <td>E 77 St &amp; 3 Ave</td>\n",
              "      <td>40.773142</td>\n",
              "      <td>-73.958562</td>\n",
              "      <td>27451</td>\n",
              "      <td>Subscriber</td>\n",
              "      <td>1987</td>\n",
              "      <td>1</td>\n",
              "    </tr>\n",
              "    <tr>\n",
              "      <th>3</th>\n",
              "      <td>2719</td>\n",
              "      <td>2019-01-01 00:07:03.5450</td>\n",
              "      <td>2019-01-01 00:52:22.6500</td>\n",
              "      <td>504.0</td>\n",
              "      <td>1 Ave &amp; E 16 St</td>\n",
              "      <td>40.732219</td>\n",
              "      <td>-73.981656</td>\n",
              "      <td>3709.0</td>\n",
              "      <td>W 15 St &amp; 6 Ave</td>\n",
              "      <td>40.738046</td>\n",
              "      <td>-73.996430</td>\n",
              "      <td>21579</td>\n",
              "      <td>Subscriber</td>\n",
              "      <td>1990</td>\n",
              "      <td>1</td>\n",
              "    </tr>\n",
              "    <tr>\n",
              "      <th>4</th>\n",
              "      <td>303</td>\n",
              "      <td>2019-01-01 00:07:35.9450</td>\n",
              "      <td>2019-01-01 00:12:39.5020</td>\n",
              "      <td>229.0</td>\n",
              "      <td>Great Jones St</td>\n",
              "      <td>40.727434</td>\n",
              "      <td>-73.993790</td>\n",
              "      <td>503.0</td>\n",
              "      <td>E 20 St &amp; Park Ave</td>\n",
              "      <td>40.738274</td>\n",
              "      <td>-73.987520</td>\n",
              "      <td>35379</td>\n",
              "      <td>Subscriber</td>\n",
              "      <td>1979</td>\n",
              "      <td>1</td>\n",
              "    </tr>\n",
              "  </tbody>\n",
              "</table>\n",
              "</div>\n",
              "      <button class=\"colab-df-convert\" onclick=\"convertToInteractive('df-058c5b36-ef42-4c0b-8b75-c9cd86225dff')\"\n",
              "              title=\"Convert this dataframe to an interactive table.\"\n",
              "              style=\"display:none;\">\n",
              "        \n",
              "  <svg xmlns=\"http://www.w3.org/2000/svg\" height=\"24px\"viewBox=\"0 0 24 24\"\n",
              "       width=\"24px\">\n",
              "    <path d=\"M0 0h24v24H0V0z\" fill=\"none\"/>\n",
              "    <path d=\"M18.56 5.44l.94 2.06.94-2.06 2.06-.94-2.06-.94-.94-2.06-.94 2.06-2.06.94zm-11 1L8.5 8.5l.94-2.06 2.06-.94-2.06-.94L8.5 2.5l-.94 2.06-2.06.94zm10 10l.94 2.06.94-2.06 2.06-.94-2.06-.94-.94-2.06-.94 2.06-2.06.94z\"/><path d=\"M17.41 7.96l-1.37-1.37c-.4-.4-.92-.59-1.43-.59-.52 0-1.04.2-1.43.59L10.3 9.45l-7.72 7.72c-.78.78-.78 2.05 0 2.83L4 21.41c.39.39.9.59 1.41.59.51 0 1.02-.2 1.41-.59l7.78-7.78 2.81-2.81c.8-.78.8-2.07 0-2.86zM5.41 20L4 18.59l7.72-7.72 1.47 1.35L5.41 20z\"/>\n",
              "  </svg>\n",
              "      </button>\n",
              "      \n",
              "  <style>\n",
              "    .colab-df-container {\n",
              "      display:flex;\n",
              "      flex-wrap:wrap;\n",
              "      gap: 12px;\n",
              "    }\n",
              "\n",
              "    .colab-df-convert {\n",
              "      background-color: #E8F0FE;\n",
              "      border: none;\n",
              "      border-radius: 50%;\n",
              "      cursor: pointer;\n",
              "      display: none;\n",
              "      fill: #1967D2;\n",
              "      height: 32px;\n",
              "      padding: 0 0 0 0;\n",
              "      width: 32px;\n",
              "    }\n",
              "\n",
              "    .colab-df-convert:hover {\n",
              "      background-color: #E2EBFA;\n",
              "      box-shadow: 0px 1px 2px rgba(60, 64, 67, 0.3), 0px 1px 3px 1px rgba(60, 64, 67, 0.15);\n",
              "      fill: #174EA6;\n",
              "    }\n",
              "\n",
              "    [theme=dark] .colab-df-convert {\n",
              "      background-color: #3B4455;\n",
              "      fill: #D2E3FC;\n",
              "    }\n",
              "\n",
              "    [theme=dark] .colab-df-convert:hover {\n",
              "      background-color: #434B5C;\n",
              "      box-shadow: 0px 1px 3px 1px rgba(0, 0, 0, 0.15);\n",
              "      filter: drop-shadow(0px 1px 2px rgba(0, 0, 0, 0.3));\n",
              "      fill: #FFFFFF;\n",
              "    }\n",
              "  </style>\n",
              "\n",
              "      <script>\n",
              "        const buttonEl =\n",
              "          document.querySelector('#df-058c5b36-ef42-4c0b-8b75-c9cd86225dff button.colab-df-convert');\n",
              "        buttonEl.style.display =\n",
              "          google.colab.kernel.accessAllowed ? 'block' : 'none';\n",
              "\n",
              "        async function convertToInteractive(key) {\n",
              "          const element = document.querySelector('#df-058c5b36-ef42-4c0b-8b75-c9cd86225dff');\n",
              "          const dataTable =\n",
              "            await google.colab.kernel.invokeFunction('convertToInteractive',\n",
              "                                                     [key], {});\n",
              "          if (!dataTable) return;\n",
              "\n",
              "          const docLinkHtml = 'Like what you see? Visit the ' +\n",
              "            '<a target=\"_blank\" href=https://colab.research.google.com/notebooks/data_table.ipynb>data table notebook</a>'\n",
              "            + ' to learn more about interactive tables.';\n",
              "          element.innerHTML = '';\n",
              "          dataTable['output_type'] = 'display_data';\n",
              "          await google.colab.output.renderOutput(dataTable, element);\n",
              "          const docLink = document.createElement('div');\n",
              "          docLink.innerHTML = docLinkHtml;\n",
              "          element.appendChild(docLink);\n",
              "        }\n",
              "      </script>\n",
              "    </div>\n",
              "  </div>\n",
              "  "
            ]
          },
          "metadata": {},
          "execution_count": 6
        }
      ]
    },
    {
      "cell_type": "code",
      "source": [
        "df.shape"
      ],
      "metadata": {
        "colab": {
          "base_uri": "https://localhost:8080/"
        },
        "id": "2SHPQS1QtArY",
        "outputId": "5ab45c32-aeae-4ec1-9d98-d7c6245bb6e8"
      },
      "execution_count": 19,
      "outputs": [
        {
          "output_type": "execute_result",
          "data": {
            "text/plain": [
              "(967287, 18)"
            ]
          },
          "metadata": {},
          "execution_count": 19
        }
      ]
    },
    {
      "cell_type": "code",
      "source": [
        "df.dtypes"
      ],
      "metadata": {
        "colab": {
          "base_uri": "https://localhost:8080/"
        },
        "id": "FBgB-iXRqK4F",
        "outputId": "c9449a93-4a8e-48f6-e856-9b10407e6143"
      },
      "execution_count": 8,
      "outputs": [
        {
          "output_type": "execute_result",
          "data": {
            "text/plain": [
              "tripduration                 int64\n",
              "starttime                   object\n",
              "stoptime                    object\n",
              "start station id           float64\n",
              "start station name          object\n",
              "start station latitude     float64\n",
              "start station longitude    float64\n",
              "end station id             float64\n",
              "end station name            object\n",
              "end station latitude       float64\n",
              "end station longitude      float64\n",
              "bikeid                       int64\n",
              "usertype                    object\n",
              "birth year                   int64\n",
              "gender                       int64\n",
              "dtype: object"
            ]
          },
          "metadata": {},
          "execution_count": 8
        }
      ]
    },
    {
      "cell_type": "markdown",
      "source": [
        "## Extracting Time-related Features"
      ],
      "metadata": {
        "id": "X5sfc9NTp7zG"
      }
    },
    {
      "cell_type": "code",
      "source": [
        "df['starttime'] = pd.to_datetime(df['starttime'])\n",
        "df['stoptime'] = pd.to_datetime(df['stoptime'])"
      ],
      "metadata": {
        "id": "tyOV-ALrmn1Z"
      },
      "execution_count": 12,
      "outputs": []
    },
    {
      "cell_type": "code",
      "source": [
        "df.dtypes"
      ],
      "metadata": {
        "colab": {
          "base_uri": "https://localhost:8080/"
        },
        "id": "qycAWHKEl_Da",
        "outputId": "c6a4807b-e9eb-47d3-de1d-645dff0ee1bc"
      },
      "execution_count": 13,
      "outputs": [
        {
          "output_type": "execute_result",
          "data": {
            "text/plain": [
              "tripduration                        int64\n",
              "starttime                  datetime64[ns]\n",
              "stoptime                   datetime64[ns]\n",
              "start station id                  float64\n",
              "start station name                 object\n",
              "start station latitude            float64\n",
              "start station longitude           float64\n",
              "end station id                    float64\n",
              "end station name                   object\n",
              "end station latitude              float64\n",
              "end station longitude             float64\n",
              "bikeid                              int64\n",
              "usertype                           object\n",
              "birth year                          int64\n",
              "gender                              int64\n",
              "dtype: object"
            ]
          },
          "metadata": {},
          "execution_count": 13
        }
      ]
    },
    {
      "cell_type": "markdown",
      "source": [
        "Here are the <a href=\"https://pandas.pydata.org/pandas-docs/stable/reference/series.html#datetimelike-properties\">datetimelike properties</a> you could use in Pandas."
      ],
      "metadata": {
        "id": "ThD-E_WFqf6c"
      }
    },
    {
      "cell_type": "code",
      "source": [
        "df['dayofweek'] = df['starttime'].dt.dayofweek\n",
        "df['dayname'] = df['starttime'].dt.day_name()\n",
        "df['hourofday'] = df['starttime'].dt.hour\n",
        "df['year'] = df['starttime'].dt.year\n",
        "df['month'] = df['starttime'].dt.month\n",
        "\n",
        "df['dayname'].value_counts()"
      ],
      "metadata": {
        "colab": {
          "base_uri": "https://localhost:8080/"
        },
        "id": "F_xn6xmfqNed",
        "outputId": "0bb408f8-16fe-413d-d36c-534f34d2ef57"
      },
      "execution_count": 41,
      "outputs": [
        {
          "output_type": "execute_result",
          "data": {
            "text/plain": [
              "Wednesday    189109\n",
              "Tuesday      161683\n",
              "Thursday     158315\n",
              "Friday       149767\n",
              "Monday       117331\n",
              "Sunday        98473\n",
              "Saturday      92609\n",
              "Name: dayname, dtype: int64"
            ]
          },
          "metadata": {},
          "execution_count": 41
        }
      ]
    },
    {
      "cell_type": "code",
      "source": [
        "df.dtypes"
      ],
      "metadata": {
        "colab": {
          "base_uri": "https://localhost:8080/"
        },
        "id": "bjRlZaUN3EgZ",
        "outputId": "418f1d2f-56fb-4259-8b91-cd6b4b4fbdb8"
      },
      "execution_count": 42,
      "outputs": [
        {
          "output_type": "execute_result",
          "data": {
            "text/plain": [
              "tripduration                        int64\n",
              "starttime                  datetime64[ns]\n",
              "stoptime                   datetime64[ns]\n",
              "start station id                  float64\n",
              "start station name                 object\n",
              "start station latitude            float64\n",
              "start station longitude           float64\n",
              "end station id                    float64\n",
              "end station name                   object\n",
              "end station latitude              float64\n",
              "end station longitude             float64\n",
              "bikeid                              int64\n",
              "usertype                           object\n",
              "birth year                          int64\n",
              "gender                              int64\n",
              "dayofweek                           int64\n",
              "hourofday                           int64\n",
              "dayname                            object\n",
              "year                                int64\n",
              "month                               int64\n",
              "dtype: object"
            ]
          },
          "metadata": {},
          "execution_count": 42
        }
      ]
    },
    {
      "cell_type": "markdown",
      "source": [
        "## Computing Distance\n",
        "\n",
        " We use an existing function that calculates the geodesic distance using the Haversine formula given the starting and ending longitude and latitudes: calculate_distance(lat1, lon1, lat2, lon2)\n",
        "\n",
        "Credits to <a href=\"https://gist.github.com/rochacbruno/2883505\">Wayne Dyck</a> for the function."
      ],
      "metadata": {
        "id": "YL4CRv58sUPk"
      }
    },
    {
      "cell_type": "code",
      "source": [
        "def calculate_distance(lat1, lon1, lat2, lon2):\n",
        "    \"\"\"\n",
        "    Calculates the distance provided a pair of longitudes and latitudes\n",
        "    using the Haversine formula\n",
        "    \n",
        "    Returns the distance in kilometers.\n",
        "    \"\"\"\n",
        "    radius = 6371 # km\n",
        "\n",
        "    dlat = math.radians(lat2-lat1)\n",
        "    dlon = math.radians(lon2-lon1)\n",
        "    a = math.sin(dlat/2) * math.sin(dlat/2) + math.cos(math.radians(lat1)) \\\n",
        "        * math.cos(math.radians(lat2)) * math.sin(dlon/2) * math.sin(dlon/2)\n",
        "    c = 2 * math.atan2(math.sqrt(a), math.sqrt(1-a))\n",
        "    d = radius * c\n",
        "\n",
        "    return d"
      ],
      "metadata": {
        "id": "NVKdyBXisVfC"
      },
      "execution_count": 20,
      "outputs": []
    },
    {
      "cell_type": "code",
      "source": [
        "%%time\n",
        "\n",
        "df[['start station latitude', 'start station longitude',\n",
        "    'end station latitude', 'end station longitude']].head(100000) \\\n",
        "    .apply(lambda x: calculate_distance(*x), axis=1)"
      ],
      "metadata": {
        "colab": {
          "base_uri": "https://localhost:8080/"
        },
        "id": "77xcRXSdtJDc",
        "outputId": "2bfdc66a-a90a-4c79-cf2f-1dd1d9e5e1de"
      },
      "execution_count": 38,
      "outputs": [
        {
          "output_type": "stream",
          "name": "stdout",
          "text": [
            "CPU times: user 1.77 s, sys: 7.76 ms, total: 1.78 s\n",
            "Wall time: 1.91 s\n"
          ]
        },
        {
          "output_type": "execute_result",
          "data": {
            "text/plain": [
              "0        1.066491\n",
              "1        0.577722\n",
              "2        2.034013\n",
              "3        1.403367\n",
              "4        1.316072\n",
              "           ...   \n",
              "99995    0.000000\n",
              "99996    0.535680\n",
              "99997    3.853541\n",
              "99998    0.512259\n",
              "99999    1.314006\n",
              "Length: 100000, dtype: float64"
            ]
          },
          "metadata": {},
          "execution_count": 38
        }
      ]
    },
    {
      "cell_type": "code",
      "source": [
        "%%time\n",
        "\n",
        "distances = []\n",
        "\n",
        "for index, row in df[['start station latitude', 'start station longitude',\n",
        "             'end station latitude', 'end station longitude']].head(100000).iterrows(): \n",
        "  distance = calculate_distance(row[0], row[1], row[2], row[3])\n",
        "  distances.append(distance)"
      ],
      "metadata": {
        "colab": {
          "base_uri": "https://localhost:8080/"
        },
        "id": "M-z-QGenu9DB",
        "outputId": "b54112a8-867e-420d-adf5-e3943fc08041"
      },
      "execution_count": 39,
      "outputs": [
        {
          "output_type": "stream",
          "name": "stdout",
          "text": [
            "CPU times: user 5.97 s, sys: 6.14 ms, total: 5.98 s\n",
            "Wall time: 6.17 s\n"
          ]
        }
      ]
    }
  ]
}